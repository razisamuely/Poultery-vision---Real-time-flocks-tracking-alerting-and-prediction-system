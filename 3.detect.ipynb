{
 "cells": [
  {
   "cell_type": "code",
   "execution_count": 1,
   "id": "5ef9ff9e",
   "metadata": {},
   "outputs": [],
   "source": [
    "from train import trainingPreperations,training\n",
    "import pandas as pd \n",
    "from tf_object_detector import TFObjectDetector\n",
    "import numpy as np\n",
    "import matplotlib.pyplot as plt\n",
    "import matplotlib\n",
    "import warnings\n",
    "import mplcyberpunk\n",
    "import cv2\n",
    "\n",
    "\n",
    "# warnings.simplefilter(\"ignore\", DeprecationWarning)\n",
    "# matplotlib.use('TkAgg')\n",
    "# plt.style.use(\"cyberpunk\")\n",
    "trn = trainingPreperations()"
   ]
  },
  {
   "cell_type": "code",
   "execution_count": 2,
   "id": "4c6a9a75",
   "metadata": {},
   "outputs": [],
   "source": [
    "# trn.configs.paths.CHECKPOINT_PATH = 'Tensorflow/workspace/models/drinking_chickens'\n",
    "# trn.configs.files.PIPELINE_CONFIG = 'Tensorflow/workspace/models/drinking_chickens/pipeline.config'\n",
    "# trn.configs.files.LABELMAP = 'Tensorflow/workspace/annotations/label_map_test.pbtxt'\n"
   ]
  },
  {
   "cell_type": "code",
   "execution_count": 3,
   "id": "a45009bb",
   "metadata": {},
   "outputs": [
    {
     "data": {
      "text/plain": [
       "('TensorFlow/workspace/annotations/label_map.pbtxt',\n",
       " 'TensorFlow/workspace/models/drinking_chickens_3',\n",
       " 'TensorFlow/workspace/models/drinking_chickens_3/pipeline.config')"
      ]
     },
     "execution_count": 3,
     "metadata": {},
     "output_type": "execute_result"
    }
   ],
   "source": [
    "trn.configs.files.LABELMAP,trn.configs.paths.CHECKPOINT_PATH,trn.configs.files.PIPELINE_CONFIG"
   ]
  },
  {
   "cell_type": "code",
   "execution_count": 5,
   "id": "d0a461bd",
   "metadata": {},
   "outputs": [],
   "source": [
    "trn.configs.paths.CHECKPOINT_PATH = 'TensorFlow/workspace/models/drinking_chickens_3/checkpoints_backups_3_9'"
   ]
  },
  {
   "cell_type": "code",
   "execution_count": 10,
   "id": "f53e5441",
   "metadata": {},
   "outputs": [
    {
     "ename": "NotFoundError",
     "evalue": "Failed to restore from checkpoint or SavedModel at TensorFlow/workspace/models/drinking_chickens_3/checkpoints_backups_3_9/ckpt-8: Unsuccessful TensorSliceReader constructor: Failed to find any matching files for TensorFlow/workspace/models/drinking_chickens_3/checkpoints_backups_3_9/ckpt-8",
     "output_type": "error",
     "traceback": [
      "\u001b[0;31m---------------------------------------------------------------------------\u001b[0m",
      "\u001b[0;31mRuntimeError\u001b[0m                              Traceback (most recent call last)",
      "\u001b[0;32m~/Documents/privet/chickens/chicken_classification_project/TFODCourse/chickenproject2/lib/python3.9/site-packages/tensorflow/python/training/py_checkpoint_reader.py\u001b[0m in \u001b[0;36mNewCheckpointReader\u001b[0;34m(filepattern)\u001b[0m\n\u001b[1;32m     95\u001b[0m   \u001b[0;32mtry\u001b[0m\u001b[0;34m:\u001b[0m\u001b[0;34m\u001b[0m\u001b[0;34m\u001b[0m\u001b[0m\n\u001b[0;32m---> 96\u001b[0;31m     \u001b[0;32mreturn\u001b[0m \u001b[0mCheckpointReader\u001b[0m\u001b[0;34m(\u001b[0m\u001b[0mcompat\u001b[0m\u001b[0;34m.\u001b[0m\u001b[0mas_bytes\u001b[0m\u001b[0;34m(\u001b[0m\u001b[0mfilepattern\u001b[0m\u001b[0;34m)\u001b[0m\u001b[0;34m)\u001b[0m\u001b[0;34m\u001b[0m\u001b[0;34m\u001b[0m\u001b[0m\n\u001b[0m\u001b[1;32m     97\u001b[0m   \u001b[0;31m# TODO(b/143319754): Remove the RuntimeError casting logic once we resolve the\u001b[0m\u001b[0;34m\u001b[0m\u001b[0;34m\u001b[0m\u001b[0m\n",
      "\u001b[0;31mRuntimeError\u001b[0m: Unsuccessful TensorSliceReader constructor: Failed to find any matching files for TensorFlow/workspace/models/drinking_chickens_3/checkpoints_backups_3_9/ckpt-8",
      "\nDuring handling of the above exception, another exception occurred:\n",
      "\u001b[0;31mNotFoundError\u001b[0m                             Traceback (most recent call last)",
      "\u001b[0;32m~/Documents/privet/chickens/chicken_classification_project/TFODCourse/chickenproject2/lib/python3.9/site-packages/tensorflow/python/training/tracking/util.py\u001b[0m in \u001b[0;36mrestore\u001b[0;34m(self, save_path, options)\u001b[0m\n\u001b[1;32m   2353\u001b[0m     \u001b[0;32mtry\u001b[0m\u001b[0;34m:\u001b[0m\u001b[0;34m\u001b[0m\u001b[0;34m\u001b[0m\u001b[0m\n\u001b[0;32m-> 2354\u001b[0;31m       \u001b[0mstatus\u001b[0m \u001b[0;34m=\u001b[0m \u001b[0mself\u001b[0m\u001b[0;34m.\u001b[0m\u001b[0mread\u001b[0m\u001b[0;34m(\u001b[0m\u001b[0msave_path\u001b[0m\u001b[0;34m,\u001b[0m \u001b[0moptions\u001b[0m\u001b[0;34m=\u001b[0m\u001b[0moptions\u001b[0m\u001b[0;34m)\u001b[0m\u001b[0;34m\u001b[0m\u001b[0;34m\u001b[0m\u001b[0m\n\u001b[0m\u001b[1;32m   2355\u001b[0m       \u001b[0;32mif\u001b[0m \u001b[0mcontext\u001b[0m\u001b[0;34m.\u001b[0m\u001b[0mexecuting_eagerly\u001b[0m\u001b[0;34m(\u001b[0m\u001b[0;34m)\u001b[0m\u001b[0;34m:\u001b[0m\u001b[0;34m\u001b[0m\u001b[0;34m\u001b[0m\u001b[0m\n",
      "\u001b[0;32m~/Documents/privet/chickens/chicken_classification_project/TFODCourse/chickenproject2/lib/python3.9/site-packages/tensorflow/python/training/tracking/util.py\u001b[0m in \u001b[0;36mread\u001b[0;34m(self, save_path, options)\u001b[0m\n\u001b[1;32m   2228\u001b[0m     \u001b[0moptions\u001b[0m \u001b[0;34m=\u001b[0m \u001b[0moptions\u001b[0m \u001b[0;32mor\u001b[0m \u001b[0mcheckpoint_options\u001b[0m\u001b[0;34m.\u001b[0m\u001b[0mCheckpointOptions\u001b[0m\u001b[0;34m(\u001b[0m\u001b[0;34m)\u001b[0m\u001b[0;34m\u001b[0m\u001b[0;34m\u001b[0m\u001b[0m\n\u001b[0;32m-> 2229\u001b[0;31m     \u001b[0mresult\u001b[0m \u001b[0;34m=\u001b[0m \u001b[0mself\u001b[0m\u001b[0;34m.\u001b[0m\u001b[0m_saver\u001b[0m\u001b[0;34m.\u001b[0m\u001b[0mrestore\u001b[0m\u001b[0;34m(\u001b[0m\u001b[0msave_path\u001b[0m\u001b[0;34m=\u001b[0m\u001b[0msave_path\u001b[0m\u001b[0;34m,\u001b[0m \u001b[0moptions\u001b[0m\u001b[0;34m=\u001b[0m\u001b[0moptions\u001b[0m\u001b[0;34m)\u001b[0m\u001b[0;34m\u001b[0m\u001b[0;34m\u001b[0m\u001b[0m\n\u001b[0m\u001b[1;32m   2230\u001b[0m     metrics.AddCheckpointReadDuration(\n",
      "\u001b[0;32m~/Documents/privet/chickens/chicken_classification_project/TFODCourse/chickenproject2/lib/python3.9/site-packages/tensorflow/python/training/tracking/util.py\u001b[0m in \u001b[0;36mrestore\u001b[0;34m(self, save_path, options)\u001b[0m\n\u001b[1;32m   1321\u001b[0m       \u001b[0;32mreturn\u001b[0m \u001b[0mInitializationOnlyStatus\u001b[0m\u001b[0;34m(\u001b[0m\u001b[0mself\u001b[0m\u001b[0;34m.\u001b[0m\u001b[0m_graph_view\u001b[0m\u001b[0;34m,\u001b[0m \u001b[0mops\u001b[0m\u001b[0;34m.\u001b[0m\u001b[0muid\u001b[0m\u001b[0;34m(\u001b[0m\u001b[0;34m)\u001b[0m\u001b[0;34m)\u001b[0m\u001b[0;34m\u001b[0m\u001b[0;34m\u001b[0m\u001b[0m\n\u001b[0;32m-> 1322\u001b[0;31m     \u001b[0mreader\u001b[0m \u001b[0;34m=\u001b[0m \u001b[0mpy_checkpoint_reader\u001b[0m\u001b[0;34m.\u001b[0m\u001b[0mNewCheckpointReader\u001b[0m\u001b[0;34m(\u001b[0m\u001b[0msave_path\u001b[0m\u001b[0;34m)\u001b[0m\u001b[0;34m\u001b[0m\u001b[0;34m\u001b[0m\u001b[0m\n\u001b[0m\u001b[1;32m   1323\u001b[0m     \u001b[0mgraph_building\u001b[0m \u001b[0;34m=\u001b[0m \u001b[0;32mnot\u001b[0m \u001b[0mcontext\u001b[0m\u001b[0;34m.\u001b[0m\u001b[0mexecuting_eagerly\u001b[0m\u001b[0;34m(\u001b[0m\u001b[0;34m)\u001b[0m\u001b[0;34m\u001b[0m\u001b[0;34m\u001b[0m\u001b[0m\n",
      "\u001b[0;32m~/Documents/privet/chickens/chicken_classification_project/TFODCourse/chickenproject2/lib/python3.9/site-packages/tensorflow/python/training/py_checkpoint_reader.py\u001b[0m in \u001b[0;36mNewCheckpointReader\u001b[0;34m(filepattern)\u001b[0m\n\u001b[1;32m     99\u001b[0m   \u001b[0;32mexcept\u001b[0m \u001b[0mRuntimeError\u001b[0m \u001b[0;32mas\u001b[0m \u001b[0me\u001b[0m\u001b[0;34m:\u001b[0m\u001b[0;34m\u001b[0m\u001b[0;34m\u001b[0m\u001b[0m\n\u001b[0;32m--> 100\u001b[0;31m     \u001b[0merror_translator\u001b[0m\u001b[0;34m(\u001b[0m\u001b[0me\u001b[0m\u001b[0;34m)\u001b[0m\u001b[0;34m\u001b[0m\u001b[0;34m\u001b[0m\u001b[0m\n\u001b[0m",
      "\u001b[0;32m~/Documents/privet/chickens/chicken_classification_project/TFODCourse/chickenproject2/lib/python3.9/site-packages/tensorflow/python/training/py_checkpoint_reader.py\u001b[0m in \u001b[0;36merror_translator\u001b[0;34m(e)\u001b[0m\n\u001b[1;32m     34\u001b[0m       'matching files for') in error_message:\n\u001b[0;32m---> 35\u001b[0;31m     \u001b[0;32mraise\u001b[0m \u001b[0merrors_impl\u001b[0m\u001b[0;34m.\u001b[0m\u001b[0mNotFoundError\u001b[0m\u001b[0;34m(\u001b[0m\u001b[0;32mNone\u001b[0m\u001b[0;34m,\u001b[0m \u001b[0;32mNone\u001b[0m\u001b[0;34m,\u001b[0m \u001b[0merror_message\u001b[0m\u001b[0;34m)\u001b[0m\u001b[0;34m\u001b[0m\u001b[0;34m\u001b[0m\u001b[0m\n\u001b[0m\u001b[1;32m     36\u001b[0m   elif 'Sliced checkpoints are not supported' in error_message or (\n",
      "\u001b[0;31mNotFoundError\u001b[0m: Unsuccessful TensorSliceReader constructor: Failed to find any matching files for TensorFlow/workspace/models/drinking_chickens_3/checkpoints_backups_3_9/ckpt-8",
      "\nDuring handling of the above exception, another exception occurred:\n",
      "\u001b[0;31mNotFoundError\u001b[0m                             Traceback (most recent call last)",
      "\u001b[0;32m/var/folders/hz/jw69d7s516q7_yst5pxmtr3c0000gn/T/ipykernel_1983/937030796.py\u001b[0m in \u001b[0;36m<module>\u001b[0;34m\u001b[0m\n\u001b[1;32m      1\u001b[0m \u001b[0mcheckpoint\u001b[0m \u001b[0;34m=\u001b[0m \u001b[0;34m\"8\"\u001b[0m\u001b[0;34m\u001b[0m\u001b[0;34m\u001b[0m\u001b[0m\n\u001b[0;32m----> 2\u001b[0;31m tflrazi = TFObjectDetector(path_to_object_detection=  trn.configs.files.PIPELINE_CONFIG, \\\n\u001b[0m\u001b[1;32m      3\u001b[0m                            \u001b[0mpath_to_model_checkpoint\u001b[0m\u001b[0;34m=\u001b[0m\u001b[0mtrn\u001b[0m\u001b[0;34m.\u001b[0m\u001b[0mconfigs\u001b[0m\u001b[0;34m.\u001b[0m\u001b[0mpaths\u001b[0m\u001b[0;34m.\u001b[0m\u001b[0mCHECKPOINT_PATH\u001b[0m\u001b[0;34m,\u001b[0m\u001b[0;34m\u001b[0m\u001b[0;34m\u001b[0m\u001b[0m\n\u001b[1;32m      4\u001b[0m                            \u001b[0mcheckpoint_num\u001b[0m \u001b[0;34m=\u001b[0m\u001b[0mcheckpoint\u001b[0m\u001b[0;34m,\u001b[0m\u001b[0;34m\u001b[0m\u001b[0;34m\u001b[0m\u001b[0m\n\u001b[1;32m      5\u001b[0m                            \u001b[0mpath_to_labels\u001b[0m\u001b[0;34m=\u001b[0m\u001b[0mtrn\u001b[0m\u001b[0;34m.\u001b[0m\u001b[0mconfigs\u001b[0m\u001b[0;34m.\u001b[0m\u001b[0mfiles\u001b[0m\u001b[0;34m.\u001b[0m\u001b[0mLABELMAP\u001b[0m\u001b[0;34m,\u001b[0m\u001b[0;31m \u001b[0m\u001b[0;31m\\\u001b[0m\u001b[0;34m\u001b[0m\u001b[0;34m\u001b[0m\u001b[0m\n",
      "\u001b[0;32m~/Documents/privet/chickens/production-project/object_detection_project/TFODCourse/tf_object_detector.py\u001b[0m in \u001b[0;36m__init__\u001b[0;34m(self, path_to_object_detection, path_to_model_checkpoint, checkpoint_num, path_to_labels, model_name)\u001b[0m\n\u001b[1;32m     43\u001b[0m         \u001b[0mself\u001b[0m\u001b[0;34m.\u001b[0m\u001b[0mpath_to_model_checkpoint\u001b[0m \u001b[0;34m=\u001b[0m \u001b[0mpath_to_model_checkpoint\u001b[0m\u001b[0;34m\u001b[0m\u001b[0;34m\u001b[0m\u001b[0m\n\u001b[1;32m     44\u001b[0m         \u001b[0mself\u001b[0m\u001b[0;34m.\u001b[0m\u001b[0mpath_to_labels\u001b[0m \u001b[0;34m=\u001b[0m \u001b[0mpath_to_labels\u001b[0m\u001b[0;34m\u001b[0m\u001b[0;34m\u001b[0m\u001b[0m\n\u001b[0;32m---> 45\u001b[0;31m         \u001b[0mself\u001b[0m\u001b[0;34m.\u001b[0m\u001b[0msetup_model\u001b[0m\u001b[0;34m(\u001b[0m\u001b[0;34m)\u001b[0m\u001b[0;34m\u001b[0m\u001b[0;34m\u001b[0m\u001b[0m\n\u001b[0m\u001b[1;32m     46\u001b[0m \u001b[0;34m\u001b[0m\u001b[0m\n\u001b[1;32m     47\u001b[0m     \u001b[0;31m# Set up model for usage\u001b[0m\u001b[0;34m\u001b[0m\u001b[0;34m\u001b[0m\u001b[0m\n",
      "\u001b[0;32m~/Documents/privet/chickens/production-project/object_detection_project/TFODCourse/tf_object_detector.py\u001b[0m in \u001b[0;36msetup_model\u001b[0;34m(self)\u001b[0m\n\u001b[1;32m     48\u001b[0m     \u001b[0;32mdef\u001b[0m \u001b[0msetup_model\u001b[0m\u001b[0;34m(\u001b[0m\u001b[0mself\u001b[0m\u001b[0;34m)\u001b[0m\u001b[0;34m:\u001b[0m\u001b[0;34m\u001b[0m\u001b[0;34m\u001b[0m\u001b[0m\n\u001b[1;32m     49\u001b[0m         \u001b[0mself\u001b[0m\u001b[0;34m.\u001b[0m\u001b[0mbuild_model\u001b[0m\u001b[0;34m(\u001b[0m\u001b[0;34m)\u001b[0m\u001b[0;34m\u001b[0m\u001b[0;34m\u001b[0m\u001b[0m\n\u001b[0;32m---> 50\u001b[0;31m         \u001b[0mself\u001b[0m\u001b[0;34m.\u001b[0m\u001b[0mrestore_checkpoint\u001b[0m\u001b[0;34m(\u001b[0m\u001b[0;34m)\u001b[0m\u001b[0;34m\u001b[0m\u001b[0;34m\u001b[0m\u001b[0m\n\u001b[0m\u001b[1;32m     51\u001b[0m         \u001b[0mself\u001b[0m\u001b[0;34m.\u001b[0m\u001b[0mdetection_function\u001b[0m \u001b[0;34m=\u001b[0m \u001b[0mself\u001b[0m\u001b[0;34m.\u001b[0m\u001b[0mget_model_detection_function\u001b[0m\u001b[0;34m(\u001b[0m\u001b[0;34m)\u001b[0m\u001b[0;34m\u001b[0m\u001b[0;34m\u001b[0m\u001b[0m\n\u001b[1;32m     52\u001b[0m         \u001b[0mself\u001b[0m\u001b[0;34m.\u001b[0m\u001b[0mprepare_labels\u001b[0m\u001b[0;34m(\u001b[0m\u001b[0;34m)\u001b[0m\u001b[0;34m\u001b[0m\u001b[0;34m\u001b[0m\u001b[0m\n",
      "\u001b[0;32m~/Documents/privet/chickens/production-project/object_detection_project/TFODCourse/tf_object_detector.py\u001b[0m in \u001b[0;36mrestore_checkpoint\u001b[0;34m(self)\u001b[0m\n\u001b[1;32m     65\u001b[0m         \u001b[0;32massert\u001b[0m \u001b[0mself\u001b[0m\u001b[0;34m.\u001b[0m\u001b[0mmodel\u001b[0m \u001b[0;32mis\u001b[0m \u001b[0;32mnot\u001b[0m \u001b[0;32mNone\u001b[0m\u001b[0;34m\u001b[0m\u001b[0;34m\u001b[0m\u001b[0m\n\u001b[1;32m     66\u001b[0m         \u001b[0mself\u001b[0m\u001b[0;34m.\u001b[0m\u001b[0mcheckpoint\u001b[0m \u001b[0;34m=\u001b[0m \u001b[0mtf\u001b[0m\u001b[0;34m.\u001b[0m\u001b[0mtrain\u001b[0m\u001b[0;34m.\u001b[0m\u001b[0mCheckpoint\u001b[0m\u001b[0;34m(\u001b[0m\u001b[0mmodel\u001b[0m\u001b[0;34m=\u001b[0m\u001b[0mself\u001b[0m\u001b[0;34m.\u001b[0m\u001b[0mmodel\u001b[0m\u001b[0;34m)\u001b[0m\u001b[0;34m\u001b[0m\u001b[0;34m\u001b[0m\u001b[0m\n\u001b[0;32m---> 67\u001b[0;31m         self.checkpoint.restore(\n\u001b[0m\u001b[1;32m     68\u001b[0m             os.path.join(self.path_to_model_checkpoint, f'ckpt-{self.checkpoint_num}')).expect_partial()\n\u001b[1;32m     69\u001b[0m \u001b[0;34m\u001b[0m\u001b[0m\n",
      "\u001b[0;32m~/Documents/privet/chickens/chicken_classification_project/TFODCourse/chickenproject2/lib/python3.9/site-packages/tensorflow/python/training/tracking/util.py\u001b[0m in \u001b[0;36mrestore\u001b[0;34m(self, save_path, options)\u001b[0m\n\u001b[1;32m   2356\u001b[0m         \u001b[0mcontext\u001b[0m\u001b[0;34m.\u001b[0m\u001b[0masync_wait\u001b[0m\u001b[0;34m(\u001b[0m\u001b[0;34m)\u001b[0m  \u001b[0;31m# Ensure restore operations have completed.\u001b[0m\u001b[0;34m\u001b[0m\u001b[0;34m\u001b[0m\u001b[0m\n\u001b[1;32m   2357\u001b[0m     \u001b[0;32mexcept\u001b[0m \u001b[0merrors_impl\u001b[0m\u001b[0;34m.\u001b[0m\u001b[0mNotFoundError\u001b[0m \u001b[0;32mas\u001b[0m \u001b[0me\u001b[0m\u001b[0;34m:\u001b[0m\u001b[0;34m\u001b[0m\u001b[0;34m\u001b[0m\u001b[0m\n\u001b[0;32m-> 2358\u001b[0;31m       raise errors_impl.NotFoundError(\n\u001b[0m\u001b[1;32m   2359\u001b[0m           \u001b[0;32mNone\u001b[0m\u001b[0;34m,\u001b[0m \u001b[0;32mNone\u001b[0m\u001b[0;34m,\u001b[0m\u001b[0;34m\u001b[0m\u001b[0;34m\u001b[0m\u001b[0m\n\u001b[1;32m   2360\u001b[0m           \"Failed to restore from checkpoint or SavedModel at {}: {}\".format(\n",
      "\u001b[0;31mNotFoundError\u001b[0m: Failed to restore from checkpoint or SavedModel at TensorFlow/workspace/models/drinking_chickens_3/checkpoints_backups_3_9/ckpt-8: Unsuccessful TensorSliceReader constructor: Failed to find any matching files for TensorFlow/workspace/models/drinking_chickens_3/checkpoints_backups_3_9/ckpt-8"
     ]
    }
   ],
   "source": [
    "checkpoint = \"8\"\n",
    "tflrazi = TFObjectDetector(path_to_object_detection=  trn.configs.files.PIPELINE_CONFIG, \\\n",
    "                           path_to_model_checkpoint=trn.configs.paths.CHECKPOINT_PATH, \n",
    "                           checkpoint_num =checkpoint,\n",
    "                           path_to_labels=trn.configs.files.LABELMAP, \\\n",
    "                           model_name='ssd_mobilenet_v2_fpnlite_640x640_coco17_tpu-8')"
   ]
  },
  {
   "cell_type": "code",
   "execution_count": 5,
   "id": "366ac545",
   "metadata": {},
   "outputs": [
    {
     "ename": "NameError",
     "evalue": "name 'path' is not defined",
     "output_type": "error",
     "traceback": [
      "\u001b[0;31m---------------------------------------------------------------------------\u001b[0m",
      "\u001b[0;31mNameError\u001b[0m                                 Traceback (most recent call last)",
      "\u001b[0;32m/var/folders/hz/jw69d7s516q7_yst5pxmtr3c0000gn/T/ipykernel_98913/4187195801.py\u001b[0m in \u001b[0;36m<module>\u001b[0;34m\u001b[0m\n\u001b[0;32m----> 1\u001b[0;31m \u001b[0mvidcap\u001b[0m \u001b[0;34m=\u001b[0m \u001b[0mcv2\u001b[0m\u001b[0;34m.\u001b[0m\u001b[0mVideoCapture\u001b[0m\u001b[0;34m(\u001b[0m\u001b[0mpath\u001b[0m\u001b[0;34m)\u001b[0m\u001b[0;34m\u001b[0m\u001b[0;34m\u001b[0m\u001b[0m\n\u001b[0m",
      "\u001b[0;31mNameError\u001b[0m: name 'path' is not defined"
     ]
    }
   ],
   "source": [
    "vidcap = cv2.VideoCapture(path)\n"
   ]
  },
  {
   "cell_type": "code",
   "execution_count": 6,
   "id": "edb1d0b5",
   "metadata": {
    "scrolled": true
   },
   "outputs": [
    {
     "name": "stdout",
     "output_type": "stream",
     "text": [
      "True\n",
      "isOpened\n",
      "2592.0 1944.0\n"
     ]
    }
   ],
   "source": [
    "file = \"glilyam_1_1_IP Camera1_glilyam_1_1_20220324090646_20220324090744_1032641551\"\n",
    "path = f'Tensorflow/workspace/Videos/{file}.mp4'\n",
    "output_path = f'Tensorflow/workspace/Videos/detected_{file}_{checkpoint}_light_lables.mp4'\n",
    "detect = tflrazi.detect_video(path = path, \n",
    "                              output_path = output_path)"
   ]
  },
  {
   "cell_type": "code",
   "execution_count": 7,
   "id": "41f181d0",
   "metadata": {},
   "outputs": [
    {
     "name": "stdout",
     "output_type": "stream",
     "text": [
      "True\n",
      "isOpened\n",
      "2592.0 1944.0\n"
     ]
    }
   ],
   "source": [
    "file = \"glilyam_1_1_IP Camera1_glilyam_1_1_20220324020935_20220324021120_433507576\"\n",
    "path = f'Tensorflow/workspace/Videos/{file}.mp4'\n",
    "output_path = f'Tensorflow/workspace/Videos/detected_{file}_{checkpoint}_light_lables.mp4'\n",
    "detect = tflrazi.detect_video(path = path, \n",
    "                              output_path = output_path)"
   ]
  },
  {
   "cell_type": "code",
   "execution_count": 6,
   "id": "d12988fb",
   "metadata": {},
   "outputs": [],
   "source": [
    "# Step 1: Prepare Data\n",
    "midwest = pd.read_csv(\"https://raw.githubusercontent.com/selva86/datasets/master/midwest_filter.csv\")\n",
    "\n",
    "# As many colors as there are unique midwest['category']\n",
    "categories = np.unique(midwest['category'])\n",
    "colors = [plt.cm.tab10(i/float(len(categories)-1)) for i in range(len(categories))]"
   ]
  },
  {
   "cell_type": "code",
   "execution_count": null,
   "id": "879ae28b",
   "metadata": {},
   "outputs": [],
   "source": []
  },
  {
   "cell_type": "code",
   "execution_count": null,
   "id": "76cf6dce",
   "metadata": {},
   "outputs": [],
   "source": []
  },
  {
   "cell_type": "code",
   "execution_count": null,
   "id": "5e7a6538",
   "metadata": {},
   "outputs": [],
   "source": []
  },
  {
   "cell_type": "code",
   "execution_count": null,
   "id": "ad701a1d",
   "metadata": {},
   "outputs": [],
   "source": []
  },
  {
   "cell_type": "code",
   "execution_count": 9,
   "id": "c0c4a567",
   "metadata": {},
   "outputs": [],
   "source": []
  },
  {
   "cell_type": "code",
   "execution_count": 10,
   "id": "2f800e42",
   "metadata": {},
   "outputs": [
    {
     "name": "stdout",
     "output_type": "stream",
     "text": [
      "isOpened\n",
      "2592.0 1520.0\n",
      "1\n",
      "1\n",
      "1\n",
      "1\n",
      "1\n",
      "1\n",
      "1\n",
      "1\n",
      "1\n",
      "1\n",
      "1\n",
      "1\n",
      "1\n",
      "1\n",
      "1\n",
      "1\n",
      "1\n",
      "1\n",
      "1\n",
      "1\n",
      "1\n",
      "1\n",
      "1\n",
      "1\n",
      "1\n",
      "1\n",
      "1\n",
      "1\n",
      "1\n",
      "1\n",
      "1\n",
      "1\n",
      "1\n",
      "1\n",
      "1\n",
      "1\n",
      "1\n",
      "1\n",
      "1\n",
      "1\n",
      "1\n",
      "1\n",
      "1\n",
      "1\n",
      "1\n",
      "1\n",
      "1\n",
      "1\n",
      "1\n",
      "1\n",
      "1\n",
      "1\n",
      "1\n",
      "1\n",
      "1\n",
      "1\n",
      "1\n",
      "1\n",
      "1\n",
      "1\n",
      "1\n",
      "1\n",
      "1\n"
     ]
    },
    {
     "ename": "IndexError",
     "evalue": "index 64 is out of bounds for axis 0 with size 64",
     "output_type": "error",
     "traceback": [
      "\u001b[0;31m---------------------------------------------------------------------------\u001b[0m",
      "\u001b[0;31mIndexError\u001b[0m                                Traceback (most recent call last)",
      "\u001b[0;32m/var/folders/hz/jw69d7s516q7_yst5pxmtr3c0000gn/T/ipykernel_12142/3725612894.py\u001b[0m in \u001b[0;36m<module>\u001b[0;34m\u001b[0m\n\u001b[1;32m     71\u001b[0m \u001b[0;34m\u001b[0m\u001b[0m\n\u001b[1;32m     72\u001b[0m     \u001b[0;31m# update data\u001b[0m\u001b[0;34m\u001b[0m\u001b[0;34m\u001b[0m\u001b[0m\n\u001b[0;32m---> 73\u001b[0;31m     \u001b[0my1\u001b[0m\u001b[0;34m[\u001b[0m\u001b[0mi\u001b[0m\u001b[0;34m]\u001b[0m \u001b[0;34m=\u001b[0m \u001b[0mdrinking\u001b[0m\u001b[0;34m\u001b[0m\u001b[0;34m\u001b[0m\u001b[0m\n\u001b[0m\u001b[1;32m     74\u001b[0m     \u001b[0ma\u001b[0m \u001b[0;34m=\u001b[0m\u001b[0;36m15\u001b[0m\u001b[0;34m\u001b[0m\u001b[0;34m\u001b[0m\u001b[0m\n\u001b[1;32m     75\u001b[0m     \u001b[0my_mean1\u001b[0m\u001b[0;34m[\u001b[0m\u001b[0mi\u001b[0m\u001b[0;34m]\u001b[0m \u001b[0;34m=\u001b[0m \u001b[0mdrinking\u001b[0m \u001b[0;32mif\u001b[0m \u001b[0mi\u001b[0m \u001b[0;34m<\u001b[0m \u001b[0ma\u001b[0m \u001b[0;32melse\u001b[0m \u001b[0my1\u001b[0m\u001b[0;34m[\u001b[0m\u001b[0mi\u001b[0m\u001b[0;34m-\u001b[0m\u001b[0ma\u001b[0m\u001b[0;34m:\u001b[0m\u001b[0mi\u001b[0m\u001b[0;34m]\u001b[0m\u001b[0;34m.\u001b[0m\u001b[0mmean\u001b[0m\u001b[0;34m(\u001b[0m\u001b[0;34m)\u001b[0m\u001b[0;34m\u001b[0m\u001b[0;34m\u001b[0m\u001b[0m\n",
      "\u001b[0;31mIndexError\u001b[0m: index 64 is out of bounds for axis 0 with size 64"
     ]
    }
   ],
   "source": [
    "fig, axs = plt.subplots(2, 2,sharex='col', sharey='row')\n",
    "ax1, ax2 , ax3, ax4 = axs[0,0], axs[0,1] , axs[1,0] , axs[1,1] \n",
    "\n",
    "\n",
    "# so that we can update data later\n",
    "cap = cv2.VideoCapture(path)\n",
    "ret, frame = cap.read()\n",
    "\n",
    "\n",
    "\n",
    "if cap.isOpened():\n",
    "    print('isOpened')\n",
    "    width = cap.get(cv2.CAP_PROP_FRAME_WIDTH)  # float `width`\n",
    "    height = cap.get(cv2.CAP_PROP_FRAME_HEIGHT)  # float `height\n",
    "    print(width, height)\n",
    "\n",
    "fourcc = cv2.VideoWriter_fourcc(*'mp4v')\n",
    "out = cv2.VideoWriter(output_path, fourcc, 25.0, (int(width) , int(height)* 2))\n",
    "\n",
    "fps = cap.get(cv2.CAP_PROP_FPS)  # OpenCV2 version 2 used \"CV_CAP_PROP_FPS\"\n",
    "frame_count = int(cap.get(cv2.CAP_PROP_FRAME_COUNT))\n",
    "\n",
    "\n",
    "b = int(frame_count) \n",
    "x1 = np.array(range(b))\n",
    "y = 15\n",
    "\n",
    "y1 = x1 *0\n",
    "y1[0] = y\n",
    "y_mean1 = x1 *0\n",
    "\n",
    "y2 = x1 *0\n",
    "y2[0] = y\n",
    "y_mean2 = x1 *0\n",
    "\n",
    "y3 = x1 *0\n",
    "y3[0] = y\n",
    "y_mean3 = x1 *0\n",
    "\n",
    "y4 = x1 *0\n",
    "y4[0] = y\n",
    "y_mean4 = x1 *0\n",
    "\n",
    "\n",
    "line11, = ax1.plot(x1, y1,  marker='.' ,markeredgewidth=0.3,markerfacecolor=colors[0],linestyle=':',color=colors[0])  # so that we can update data later\n",
    "line12, = ax1.plot(x1, y_mean1,  marker='.' ,markeredgewidth=0.3,markerfacecolor=colors[4],linestyle=':',color=colors[4])\n",
    "\n",
    "\n",
    "line31, = ax3.plot(x1, y3,  marker='.' ,markeredgewidth=0.3,markerfacecolor=colors[5],linestyle=':',color=colors[5])  # so that we can update data later\n",
    "line32, = ax3.plot(x1, y_mean3,  marker='.' ,markeredgewidth=0.3,markerfacecolor=colors[6],linestyle=':',color=colors[6])\n",
    "\n",
    "line41, = ax4.plot(x1, y4,  marker='.',markerfacecolor=colors[7],linestyle=':',color=colors[7])  # so that we can update data later\n",
    "line42, = ax4.plot(x1, y_mean4,  marker='.',markerfacecolor=colors[8],linestyle=':',color=colors[8] )\n",
    "\n",
    "line21, = ax2.plot(x1, y1,  marker='.',markerfacecolor=colors[2],linestyle=':',color=colors[2])  # so that we can update data later\n",
    "line22, = ax2.plot(x1, y_mean2,  marker='.',markerfacecolor=colors[3],linestyle=':',color=colors[3] )\n",
    "\n",
    "\n",
    "fig.legend((line11, line12), ('Drinking', 'Moving average'), 'upper left')\n",
    "fig.legend((line41, line42), ('laying', 'Moving average'), 'lower right')\n",
    "fig.legend((line31, line32), ('standing', 'Moving average'), 'lower left')\n",
    "\n",
    "fig.legend((line21, line22), ('Eating', 'Moving average'), 'upper right')\n",
    "\n",
    "\n",
    "i = 0 \n",
    "while ret : \n",
    "    i+= 1\n",
    "    \n",
    "    frame,drinking,eating,standing,laying = detect(frame)\n",
    "\n",
    "    # update data\n",
    "    y1[i] = drinking\n",
    "    a =15\n",
    "    y_mean1[i] = drinking if i < a else y1[i-a:i].mean()\n",
    "    line11.set_ydata(y1[:])\n",
    "    line12.set_ydata(y_mean1)\n",
    "    print(y_mean1[i])\n",
    "\n",
    "    \n",
    "    y3[i] = standing\n",
    "    y_mean3[i] = standing if i < a else y3[i-a:i].mean()\n",
    "    line31.set_ydata(y3[:])\n",
    "    line32.set_ydata(y_mean3)\n",
    "    \n",
    "    \n",
    "    y4[i] = laying\n",
    "    y_mean4[i] = laying if i < a else y4[i-a:i].mean()\n",
    "    line41.set_ydata(y4[:])\n",
    "    line42.set_ydata(y_mean4)\n",
    "    \n",
    "    y2[i] = eating\n",
    "    y_mean2[i] = eating if i < a else y2[i-a:i].mean()\n",
    "    line21.set_ydata(y2[:])\n",
    "    line22.set_ydata(y_mean2)\n",
    "    \n",
    "    # redraw the canvas\n",
    "    fig.canvas.draw()\n",
    "\n",
    "    # convert canvas to image\n",
    "    img = np.fromstring(fig.canvas.tostring_rgb(), dtype=np.uint8,\n",
    "            sep='')\n",
    "    img  = img.reshape(fig.canvas.get_width_height()[::-1] + (3,))\n",
    "\n",
    "    # img is rgb, convert to opencv's default bgr\n",
    "    img = cv2.cvtColor(img,cv2.COLOR_RGB2BGR)\n",
    "\n",
    "    dim = (int(width), int(height))\n",
    "    img = cv2.resize(img, dim, interpolation=cv2.INTER_AREA)\n",
    "    \n",
    "    numpy_horizontal = np.vstack((img, frame))\n",
    "    \n",
    "    # display image with opencv or any operation you like    \n",
    "    cv2.imshow(\"plot\",numpy_horizontal)\n",
    "\n",
    "    ret, frame = cap.read()\n",
    "    out.write(numpy_horizontal)\n",
    "    k = cv2.waitKey(33) & 0xFF\n",
    "    if k == 27:\n",
    "        break\n",
    "        \n",
    "out.release()\n"
   ]
  },
  {
   "cell_type": "code",
   "execution_count": 11,
   "id": "7b7b3513",
   "metadata": {},
   "outputs": [
    {
     "data": {
      "text/plain": [
       "5"
      ]
     },
     "execution_count": 11,
     "metadata": {},
     "output_type": "execute_result"
    }
   ],
   "source": [
    "eating"
   ]
  },
  {
   "cell_type": "code",
   "execution_count": null,
   "id": "b87b0e4e",
   "metadata": {},
   "outputs": [],
   "source": []
  }
 ],
 "metadata": {
  "kernelspec": {
   "display_name": "chickenproject2",
   "language": "python",
   "name": "chickenproject2"
  },
  "language_info": {
   "codemirror_mode": {
    "name": "ipython",
    "version": 3
   },
   "file_extension": ".py",
   "mimetype": "text/x-python",
   "name": "python",
   "nbconvert_exporter": "python",
   "pygments_lexer": "ipython3",
   "version": "3.9.10"
  }
 },
 "nbformat": 4,
 "nbformat_minor": 5
}
