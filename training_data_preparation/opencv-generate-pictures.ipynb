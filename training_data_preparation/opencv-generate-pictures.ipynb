{
 "cells": [
  {
   "cell_type": "code",
   "execution_count": 1,
   "id": "d19a02df",
   "metadata": {},
   "outputs": [],
   "source": [
    "import cv2 \n",
    "import os \n",
    "import time \n",
    "import datetime\n",
    "# import cv2\n",
    "import numpy as np\n",
    "from IPython.display import clear_output\n",
    "from datetime import timedelta\n"
   ]
  },
  {
   "cell_type": "markdown",
   "id": "73558674",
   "metadata": {},
   "source": [
    "### Get picture "
   ]
  },
  {
   "cell_type": "code",
   "execution_count": 15,
   "id": "92481e14",
   "metadata": {},
   "outputs": [
    {
     "data": {
      "text/plain": [
       "13"
      ]
     },
     "execution_count": 15,
     "metadata": {},
     "output_type": "execute_result"
    }
   ],
   "source": [
    "cameras =[\"301\",\"201\",\"101\"]\n",
    "start_date = datetime.datetime(2022, 6, 6, 0, 0, 0)\n",
    "growing_start_date = datetime.datetime(2022, 5, 9, 0, 0, 0)\n",
    "days_forward = 1\n",
    "number_of_images = 100\n",
    "minutes_interval =int(24 * 60 /number_of_images) - 1 \n",
    "minutes_interval"
   ]
  },
  {
   "cell_type": "code",
   "execution_count": 16,
   "id": "001ff46f",
   "metadata": {
    "scrolled": true
   },
   "outputs": [
    {
     "data": {
      "text/plain": [
       "[datetime.datetime(2022, 6, 6, 0, 0)]"
      ]
     },
     "execution_count": 16,
     "metadata": {},
     "output_type": "execute_result"
    }
   ],
   "source": [
    "dates = [( start_date + datetime.timedelta(days=x)) \\\n",
    "         for x in range(days_forward )]\n",
    "dates"
   ]
  },
  {
   "cell_type": "code",
   "execution_count": 18,
   "id": "782d7744",
   "metadata": {},
   "outputs": [
    {
     "ename": "KeyboardInterrupt",
     "evalue": "",
     "output_type": "error",
     "traceback": [
      "\u001b[0;31m---------------------------------------------------------------------------\u001b[0m",
      "\u001b[0;31mKeyboardInterrupt\u001b[0m                         Traceback (most recent call last)",
      "\u001b[0;32m/var/folders/hz/jw69d7s516q7_yst5pxmtr3c0000gn/T/ipykernel_62537/902657815.py\u001b[0m in \u001b[0;36m<module>\u001b[0;34m\u001b[0m\n\u001b[1;32m     25\u001b[0m             \u001b[0mpath\u001b[0m \u001b[0;34m=\u001b[0m \u001b[0;34mf\"rtsp://admin:{password}@{ip}/Streaming/tracks/{camera}/?starttime={time}/picture\"\u001b[0m\u001b[0;34m\u001b[0m\u001b[0;34m\u001b[0m\u001b[0m\n\u001b[1;32m     26\u001b[0m \u001b[0;34m\u001b[0m\u001b[0m\n\u001b[0;32m---> 27\u001b[0;31m             \u001b[0mcap\u001b[0m \u001b[0;34m=\u001b[0m \u001b[0mcv2\u001b[0m\u001b[0;34m.\u001b[0m\u001b[0mVideoCapture\u001b[0m\u001b[0;34m(\u001b[0m\u001b[0mpath\u001b[0m\u001b[0;34m)\u001b[0m\u001b[0;34m\u001b[0m\u001b[0;34m\u001b[0m\u001b[0m\n\u001b[0m\u001b[1;32m     28\u001b[0m \u001b[0;34m\u001b[0m\u001b[0m\n\u001b[1;32m     29\u001b[0m             \u001b[0mcounter\u001b[0m \u001b[0;34m=\u001b[0m  \u001b[0;36m0\u001b[0m\u001b[0;34m\u001b[0m\u001b[0;34m\u001b[0m\u001b[0m\n",
      "\u001b[0;31mKeyboardInterrupt\u001b[0m: "
     ]
    }
   ],
   "source": [
    "over_all_iterations = len(cameras) * (number_of_images ) * days_forward\n",
    "iters = 0 \n",
    "\n",
    "for date in dates:\n",
    "    growing_day = (date - growing_start_date ).days\n",
    "    \n",
    "    times = [( date + datetime.timedelta(minutes=minutes_interval*x)) \\\n",
    "         for x in range(number_of_images  )]\n",
    "    times = [i.strftime(\"%Y%m%dT%H%M%SZ\") for i in times]\n",
    "\n",
    "\n",
    "    for camera in cameras:\n",
    "        for time in times:\n",
    "            iters +=1 \n",
    "            print(f\"left { over_all_iterations - iters}, working on {date}\")\n",
    "            clear_output(wait=True)\n",
    "            start = date.strftime(\"%Y%m%dT%H%M%SZ\")\n",
    "            save_date = date.strftime(\"%Y-%m-%d\")\n",
    "            saving_dir = f\"pictures/date={save_date}_growing_day={growing_day}/camera={camera}\"\n",
    "            saving_path = f\"{saving_dir}/time={time}_growing_day={growing_day}_camera={camera}.png\"\n",
    "            isExist = os.path.exists(saving_dir)\n",
    "            if not isExist:\n",
    "                os.makedirs(saving_dir)\n",
    "\n",
    "            path = f\"rtsp://admin:{password}@{ip}/Streaming/tracks/{camera}/?starttime={time}/picture\"\n",
    "\n",
    "            cap = cv2.VideoCapture(path)\n",
    "\n",
    "            counter =  0 \n",
    "            while counter <= 2:\n",
    "\n",
    "                ret, frame = cap.read()\n",
    "                if counter == 2:\n",
    "                    cv2.imwrite(saving_path,frame)\n",
    "\n",
    "                counter +=1\n",
    "\n",
    "\n"
   ]
  },
  {
   "cell_type": "markdown",
   "id": "41ee457c",
   "metadata": {},
   "source": [
    "### Given interval"
   ]
  },
  {
   "cell_type": "code",
   "execution_count": 19,
   "id": "ddd344fb",
   "metadata": {},
   "outputs": [],
   "source": [
    "start_time  = datetime.datetime(2022, 5, 24, 21, 1, 0)\n",
    "end_time = datetime.datetime(2022, 5, 24, 21, 10, 0)\n",
    "dates = [start_time]"
   ]
  },
  {
   "cell_type": "code",
   "execution_count": 3,
   "id": "cb8c769e",
   "metadata": {},
   "outputs": [
    {
     "ename": "NameError",
     "evalue": "name 'datetime' is not defined",
     "output_type": "error",
     "traceback": [
      "\u001b[0;31m---------------------------------------------------------------------------\u001b[0m",
      "\u001b[0;31mNameError\u001b[0m                                 Traceback (most recent call last)",
      "\u001b[0;32m/var/folders/hz/jw69d7s516q7_yst5pxmtr3c0000gn/T/ipykernel_15201/450856632.py\u001b[0m in \u001b[0;36m<module>\u001b[0;34m\u001b[0m\n\u001b[1;32m      1\u001b[0m \u001b[0mcameras\u001b[0m \u001b[0;34m=\u001b[0m\u001b[0;34m[\u001b[0m\u001b[0;34m\"301\"\u001b[0m\u001b[0;34m]\u001b[0m\u001b[0;34m\u001b[0m\u001b[0;34m\u001b[0m\u001b[0m\n\u001b[0;32m----> 2\u001b[0;31m \u001b[0mgrowing_start_date\u001b[0m \u001b[0;34m=\u001b[0m \u001b[0mdatetime\u001b[0m\u001b[0;34m.\u001b[0m\u001b[0mdatetime\u001b[0m\u001b[0;34m(\u001b[0m\u001b[0;36m2022\u001b[0m\u001b[0;34m,\u001b[0m \u001b[0;36m6\u001b[0m\u001b[0;34m,\u001b[0m \u001b[0;36m11\u001b[0m\u001b[0;34m,\u001b[0m \u001b[0;36m0\u001b[0m\u001b[0;34m,\u001b[0m \u001b[0;36m9\u001b[0m\u001b[0;34m,\u001b[0m \u001b[0;36m40\u001b[0m\u001b[0;34m)\u001b[0m\u001b[0;34m\u001b[0m\u001b[0;34m\u001b[0m\u001b[0m\n\u001b[0m\u001b[1;32m      3\u001b[0m \u001b[0mdays_forward\u001b[0m \u001b[0;34m=\u001b[0m \u001b[0;36m1\u001b[0m\u001b[0;34m\u001b[0m\u001b[0;34m\u001b[0m\u001b[0m\n\u001b[1;32m      4\u001b[0m \u001b[0mnumber_of_images\u001b[0m \u001b[0;34m=\u001b[0m \u001b[0;36m15\u001b[0m\u001b[0;34m\u001b[0m\u001b[0;34m\u001b[0m\u001b[0m\n\u001b[1;32m      5\u001b[0m \u001b[0mseconds_interval\u001b[0m \u001b[0;34m=\u001b[0m \u001b[0;36m1000\u001b[0m\u001b[0;34m\u001b[0m\u001b[0;34m\u001b[0m\u001b[0m\n",
      "\u001b[0;31mNameError\u001b[0m: name 'datetime' is not defined"
     ]
    }
   ],
   "source": [
    "cameras =[\"301\"]\n",
    "growing_start_date = datetime.datetime(2022, 5, 9, 0, 0, 0)\n",
    "days_forward = 1\n",
    "number_of_images = 10\n",
    "seconds_interval = int((end_time - start_time).seconds/number_of_images)\n"
   ]
  },
  {
   "cell_type": "code",
   "execution_count": 4,
   "id": "ed36265c",
   "metadata": {},
   "outputs": [
    {
     "ename": "NameError",
     "evalue": "name 'number_of_images' is not defined",
     "output_type": "error",
     "traceback": [
      "\u001b[0;31m---------------------------------------------------------------------------\u001b[0m",
      "\u001b[0;31mNameError\u001b[0m                                 Traceback (most recent call last)",
      "\u001b[0;32m/var/folders/hz/jw69d7s516q7_yst5pxmtr3c0000gn/T/ipykernel_15201/2735895059.py\u001b[0m in \u001b[0;36m<module>\u001b[0;34m\u001b[0m\n\u001b[0;32m----> 1\u001b[0;31m \u001b[0mover_all_iterations\u001b[0m \u001b[0;34m=\u001b[0m \u001b[0mlen\u001b[0m\u001b[0;34m(\u001b[0m\u001b[0mcameras\u001b[0m\u001b[0;34m)\u001b[0m \u001b[0;34m*\u001b[0m \u001b[0;34m(\u001b[0m\u001b[0mnumber_of_images\u001b[0m \u001b[0;34m)\u001b[0m \u001b[0;34m*\u001b[0m \u001b[0mdays_forward\u001b[0m\u001b[0;34m\u001b[0m\u001b[0;34m\u001b[0m\u001b[0m\n\u001b[0m\u001b[1;32m      2\u001b[0m \u001b[0miters\u001b[0m \u001b[0;34m=\u001b[0m \u001b[0;36m0\u001b[0m\u001b[0;34m\u001b[0m\u001b[0;34m\u001b[0m\u001b[0m\n\u001b[1;32m      3\u001b[0m \u001b[0;34m\u001b[0m\u001b[0m\n\u001b[1;32m      4\u001b[0m \u001b[0;32mfor\u001b[0m \u001b[0mdate\u001b[0m \u001b[0;32min\u001b[0m \u001b[0mdates\u001b[0m\u001b[0;34m:\u001b[0m\u001b[0;34m\u001b[0m\u001b[0;34m\u001b[0m\u001b[0m\n\u001b[1;32m      5\u001b[0m     \u001b[0mgrowing_day\u001b[0m \u001b[0;34m=\u001b[0m \u001b[0;34m(\u001b[0m\u001b[0mdate\u001b[0m \u001b[0;34m-\u001b[0m \u001b[0mgrowing_start_date\u001b[0m \u001b[0;34m)\u001b[0m\u001b[0;34m.\u001b[0m\u001b[0mdays\u001b[0m\u001b[0;34m\u001b[0m\u001b[0;34m\u001b[0m\u001b[0m\n",
      "\u001b[0;31mNameError\u001b[0m: name 'number_of_images' is not defined"
     ]
    }
   ],
   "source": [
    "over_all_iterations = len(cameras) * (number_of_images ) * days_forward\n",
    "iters = 0 \n",
    "\n",
    "for date in dates:\n",
    "    growing_day = (date - growing_start_date ).days\n",
    "    \n",
    "    times = [( date + datetime.timedelta(seconds=seconds_interval*x)) \\\n",
    "          for x in range(number_of_images  )]\n",
    "    times = [i.strftime(\"%Y%m%dT%H%M%SZ\") for i in times]\n",
    "\n",
    "\n",
    "    for camera in cameras:\n",
    "        for time in times:\n",
    "            iters +=1 \n",
    "            print(f\"left { over_all_iterations - iters}, working on {date}\")\n",
    "            clear_output(wait=True)\n",
    "            start = date.strftime(\"%Y%m%dT%H%M%SZ\")\n",
    "            save_date = date.strftime(\"%Y-%m-%d\")\n",
    "            saving_dir = f\"pictures/date={save_date}_growing_day={growing_day}/camera={camera}\"\n",
    "            saving_path = f\"{saving_dir}/time={time}_growing_day={growing_day}_camera={camera}.png\"\n",
    "            isExist = os.path.exists(saving_dir)\n",
    "            if not isExist:\n",
    "                os.makedirs(saving_dir)\n",
    "\n",
    "            path = f\"rtsp://admin:{password}@{ip}/Streaming/tracks/{camera}/?starttime={time}/picture\"\n",
    "\n",
    "            cap = cv2.VideoCapture(path)\n",
    "\n",
    "            counter =  0 \n",
    "            while counter <= 2:\n",
    "\n",
    "                ret, frame = cap.read()\n",
    "                if counter == 2:\n",
    "                    cv2.imwrite(saving_path,frame)\n",
    "\n",
    "                counter +=1\n",
    "\n",
    "\n"
   ]
  },
  {
   "cell_type": "code",
   "execution_count": null,
   "id": "60259262",
   "metadata": {},
   "outputs": [],
   "source": []
  }
 ],
 "metadata": {
  "kernelspec": {
   "display_name": "Python 3 (ipykernel)",
   "language": "python",
   "name": "python3"
  },
  "language_info": {
   "codemirror_mode": {
    "name": "ipython",
    "version": 3
   },
   "file_extension": ".py",
   "mimetype": "text/x-python",
   "name": "python",
   "nbconvert_exporter": "python",
   "pygments_lexer": "ipython3",
   "version": "3.9.10"
  }
 },
 "nbformat": 4,
 "nbformat_minor": 5
}
