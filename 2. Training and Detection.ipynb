{
 "cells": [
  {
   "cell_type": "markdown",
   "metadata": {
    "id": "QUANWN3rpfC9"
   },
   "source": [
    "# 0. Setup Paths"
   ]
  },
  {
   "cell_type": "code",
   "execution_count": 5,
   "metadata": {
    "id": "146BB11JpfDA"
   },
   "outputs": [],
   "source": [
    "import os \n",
    "from train import trainingPreperations,training\n",
    "from Detect_from_an_image import DetectfromImage"
   ]
  },
  {
   "cell_type": "code",
   "execution_count": 6,
   "metadata": {},
   "outputs": [
    {
     "data": {
      "text/plain": [
       "{'WORKSPACE_PATH': 'Tensorflow/workspace',\n",
       " 'SCRIPTS_PATH': 'Tensorflow/scripts',\n",
       " 'APIMODEL_PATH': 'Tensorflow/models',\n",
       " 'ANNOTATION_PATH': 'Tensorflow/workspace/annotations',\n",
       " 'IMAGE_PATH': 'Tensorflow/workspace/drinking-images_3',\n",
       " 'MODEL_PATH': 'Tensorflow/workspace/models',\n",
       " 'PRETRAINED_MODEL_PATH': 'Tensorflow/workspace/pre-trained-models',\n",
       " 'CHECKPOINT_PATH': 'Tensorflow/workspace/models/drinking_chickens_3',\n",
       " 'OUTPUT_PATH': 'Tensorflow/workspace/models/drinking_chickens_3/export',\n",
       " 'TFJS_PATH': 'Tensorflow/workspace/models/drinking_chickens_3/tfjsexport',\n",
       " 'TFLITE_PATH': 'Tensorflow/workspace/models/drinking_chickens_3/tfliteexport',\n",
       " 'PROTOC_PATH': 'Tensorflow/protoc',\n",
       " 'VERIFICATION_SCRIPT_PATH': 'Tensorflow/models/research/object_detection/builders'}"
      ]
     },
     "execution_count": 6,
     "metadata": {},
     "output_type": "execute_result"
    }
   ],
   "source": [
    "trn = trainingPreperations()\n",
    "trn.configs.paths.__dict__"
   ]
  },
  {
   "cell_type": "markdown",
   "metadata": {},
   "source": [
    "## Create files "
   ]
  },
  {
   "cell_type": "code",
   "execution_count": 7,
   "metadata": {},
   "outputs": [],
   "source": [
    "trn.create_paths(paths = trn.configs.paths.__dict__)"
   ]
  },
  {
   "cell_type": "markdown",
   "metadata": {
    "id": "OLU-rs_ipfDE"
   },
   "source": [
    "# 1. Download TF Models Pretrained Models from Tensorflow Model Zoo and Install TFOD"
   ]
  },
  {
   "cell_type": "code",
   "execution_count": 4,
   "metadata": {
    "scrolled": true
   },
   "outputs": [
    {
     "name": "stderr",
     "output_type": "stream",
     "text": [
      "sh: apt-get: command not found\n",
      "WARNING: Ignoring invalid distribution -ensorflow (/Users/raz.shmuely/Documents/privet/chickens/chicken_classification_project/TFODCourse/chickenproject2/lib/python3.9/site-packages)\n",
      "WARNING: Ignoring invalid distribution -ensorflow (/Users/raz.shmuely/Documents/privet/chickens/chicken_classification_project/TFODCourse/chickenproject2/lib/python3.9/site-packages)\n"
     ]
    },
    {
     "name": "stdout",
     "output_type": "stream",
     "text": [
      "Processing /Users/raz.shmuely/Documents/privet/chickens/production-project/object_detection_project/TFODCourse/Tensorflow/models/research\n",
      "  Preparing metadata (setup.py): started\n",
      "  Preparing metadata (setup.py): finished with status 'done'\n",
      "Requirement already satisfied: avro-python3 in /Users/raz.shmuely/Documents/privet/chickens/chicken_classification_project/TFODCourse/chickenproject2/lib/python3.9/site-packages (from object-detection==0.1) (1.9.2.1)\n",
      "Requirement already satisfied: apache-beam in /Users/raz.shmuely/Documents/privet/chickens/chicken_classification_project/TFODCourse/chickenproject2/lib/python3.9/site-packages (from object-detection==0.1) (2.33.0)\n",
      "Requirement already satisfied: pillow in /Users/raz.shmuely/Documents/privet/chickens/chicken_classification_project/TFODCourse/chickenproject2/lib/python3.9/site-packages (from object-detection==0.1) (8.3.2)\n",
      "Requirement already satisfied: lxml in /Users/raz.shmuely/Documents/privet/chickens/chicken_classification_project/TFODCourse/chickenproject2/lib/python3.9/site-packages (from object-detection==0.1) (4.6.3)\n",
      "Requirement already satisfied: matplotlib in /Users/raz.shmuely/Documents/privet/chickens/chicken_classification_project/TFODCourse/chickenproject2/lib/python3.9/site-packages (from object-detection==0.1) (3.4.3)\n",
      "Requirement already satisfied: Cython in /Users/raz.shmuely/Documents/privet/chickens/chicken_classification_project/TFODCourse/chickenproject2/lib/python3.9/site-packages (from object-detection==0.1) (0.29.24)\n",
      "Requirement already satisfied: contextlib2 in /Users/raz.shmuely/Documents/privet/chickens/chicken_classification_project/TFODCourse/chickenproject2/lib/python3.9/site-packages (from object-detection==0.1) (21.6.0)\n",
      "Requirement already satisfied: tf-slim in /Users/raz.shmuely/Documents/privet/chickens/chicken_classification_project/TFODCourse/chickenproject2/lib/python3.9/site-packages (from object-detection==0.1) (1.1.0)\n",
      "Requirement already satisfied: six in /Users/raz.shmuely/Documents/privet/chickens/chicken_classification_project/TFODCourse/chickenproject2/lib/python3.9/site-packages (from object-detection==0.1) (1.15.0)\n",
      "Requirement already satisfied: pycocotools in /Users/raz.shmuely/Documents/privet/chickens/chicken_classification_project/TFODCourse/chickenproject2/lib/python3.9/site-packages (from object-detection==0.1) (2.0.2)\n",
      "Requirement already satisfied: lvis in /Users/raz.shmuely/Documents/privet/chickens/chicken_classification_project/TFODCourse/chickenproject2/lib/python3.9/site-packages (from object-detection==0.1) (0.5.3)\n",
      "Requirement already satisfied: scipy in /Users/raz.shmuely/Documents/privet/chickens/chicken_classification_project/TFODCourse/chickenproject2/lib/python3.9/site-packages (from object-detection==0.1) (1.7.1)\n",
      "Requirement already satisfied: pandas in /Users/raz.shmuely/Documents/privet/chickens/chicken_classification_project/TFODCourse/chickenproject2/lib/python3.9/site-packages (from object-detection==0.1) (1.3.3)\n",
      "Requirement already satisfied: tf-models-official>=2.5.1 in /Users/raz.shmuely/Documents/privet/chickens/chicken_classification_project/TFODCourse/chickenproject2/lib/python3.9/site-packages (from object-detection==0.1) (2.6.0)\n",
      "Requirement already satisfied: kaggle>=1.3.9 in /Users/raz.shmuely/Documents/privet/chickens/chicken_classification_project/TFODCourse/chickenproject2/lib/python3.9/site-packages (from tf-models-official>=2.5.1->object-detection==0.1) (1.5.12)\n",
      "Requirement already satisfied: tensorflow-addons in /Users/raz.shmuely/Documents/privet/chickens/chicken_classification_project/TFODCourse/chickenproject2/lib/python3.9/site-packages (from tf-models-official>=2.5.1->object-detection==0.1) (0.14.0)\n",
      "Requirement already satisfied: tensorflow>=2.5.0 in /Users/raz.shmuely/Documents/privet/chickens/chicken_classification_project/TFODCourse/chickenproject2/lib/python3.9/site-packages (from tf-models-official>=2.5.1->object-detection==0.1) (2.7.0)\n",
      "Requirement already satisfied: gin-config in /Users/raz.shmuely/Documents/privet/chickens/chicken_classification_project/TFODCourse/chickenproject2/lib/python3.9/site-packages (from tf-models-official>=2.5.1->object-detection==0.1) (0.4.0)\n",
      "Requirement already satisfied: sacrebleu in /Users/raz.shmuely/Documents/privet/chickens/chicken_classification_project/TFODCourse/chickenproject2/lib/python3.9/site-packages (from tf-models-official>=2.5.1->object-detection==0.1) (2.0.0)\n",
      "Requirement already satisfied: tensorflow-model-optimization>=0.4.1 in /Users/raz.shmuely/Documents/privet/chickens/chicken_classification_project/TFODCourse/chickenproject2/lib/python3.9/site-packages (from tf-models-official>=2.5.1->object-detection==0.1) (0.7.0)\n",
      "Requirement already satisfied: numpy>=1.15.4 in /Users/raz.shmuely/Documents/privet/chickens/chicken_classification_project/TFODCourse/chickenproject2/lib/python3.9/site-packages (from tf-models-official>=2.5.1->object-detection==0.1) (1.19.5)\n",
      "Requirement already satisfied: sentencepiece in /Users/raz.shmuely/Documents/privet/chickens/chicken_classification_project/TFODCourse/chickenproject2/lib/python3.9/site-packages (from tf-models-official>=2.5.1->object-detection==0.1) (0.1.96)\n",
      "Requirement already satisfied: pyyaml>=5.1 in /Users/raz.shmuely/Documents/privet/chickens/chicken_classification_project/TFODCourse/chickenproject2/lib/python3.9/site-packages (from tf-models-official>=2.5.1->object-detection==0.1) (6.0)\n",
      "Requirement already satisfied: google-api-python-client>=1.6.7 in /Users/raz.shmuely/Documents/privet/chickens/chicken_classification_project/TFODCourse/chickenproject2/lib/python3.9/site-packages (from tf-models-official>=2.5.1->object-detection==0.1) (2.26.1)\n",
      "Requirement already satisfied: tensorflow-datasets in /Users/raz.shmuely/Documents/privet/chickens/chicken_classification_project/TFODCourse/chickenproject2/lib/python3.9/site-packages (from tf-models-official>=2.5.1->object-detection==0.1) (4.4.0)\n",
      "Requirement already satisfied: oauth2client in /Users/raz.shmuely/Documents/privet/chickens/chicken_classification_project/TFODCourse/chickenproject2/lib/python3.9/site-packages (from tf-models-official>=2.5.1->object-detection==0.1) (4.1.3)\n",
      "Requirement already satisfied: psutil>=5.4.3 in /Users/raz.shmuely/Documents/privet/chickens/chicken_classification_project/TFODCourse/chickenproject2/lib/python3.9/site-packages (from tf-models-official>=2.5.1->object-detection==0.1) (5.8.0)\n",
      "Requirement already satisfied: tensorflow-text>=2.5.0 in /Users/raz.shmuely/Documents/privet/chickens/chicken_classification_project/TFODCourse/chickenproject2/lib/python3.9/site-packages (from tf-models-official>=2.5.1->object-detection==0.1) (2.6.0)\n",
      "Requirement already satisfied: seqeval in /Users/raz.shmuely/Documents/privet/chickens/chicken_classification_project/TFODCourse/chickenproject2/lib/python3.9/site-packages (from tf-models-official>=2.5.1->object-detection==0.1) (1.2.2)\n",
      "Requirement already satisfied: tensorflow-hub>=0.6.0 in /Users/raz.shmuely/Documents/privet/chickens/chicken_classification_project/TFODCourse/chickenproject2/lib/python3.9/site-packages (from tf-models-official>=2.5.1->object-detection==0.1) (0.12.0)\n",
      "Requirement already satisfied: opencv-python-headless in /Users/raz.shmuely/Documents/privet/chickens/chicken_classification_project/TFODCourse/chickenproject2/lib/python3.9/site-packages (from tf-models-official>=2.5.1->object-detection==0.1) (4.5.3.56)\n",
      "Requirement already satisfied: py-cpuinfo>=3.3.0 in /Users/raz.shmuely/Documents/privet/chickens/chicken_classification_project/TFODCourse/chickenproject2/lib/python3.9/site-packages (from tf-models-official>=2.5.1->object-detection==0.1) (8.0.0)\n",
      "Requirement already satisfied: pytz>=2017.3 in /Users/raz.shmuely/Documents/privet/chickens/chicken_classification_project/TFODCourse/chickenproject2/lib/python3.9/site-packages (from pandas->object-detection==0.1) (2021.3)\n",
      "Requirement already satisfied: python-dateutil>=2.7.3 in /Users/raz.shmuely/Documents/privet/chickens/chicken_classification_project/TFODCourse/chickenproject2/lib/python3.9/site-packages (from pandas->object-detection==0.1) (2.8.2)\n",
      "Requirement already satisfied: absl-py>=0.2.2 in /Users/raz.shmuely/Documents/privet/chickens/chicken_classification_project/TFODCourse/chickenproject2/lib/python3.9/site-packages (from tf-slim->object-detection==0.1) (0.12.0)\n"
     ]
    },
    {
     "name": "stdout",
     "output_type": "stream",
     "text": [
      "Requirement already satisfied: crcmod<2.0,>=1.7 in /Users/raz.shmuely/Documents/privet/chickens/chicken_classification_project/TFODCourse/chickenproject2/lib/python3.9/site-packages (from apache-beam->object-detection==0.1) (1.7)\n",
      "Requirement already satisfied: dill<0.3.2,>=0.3.1.1 in /Users/raz.shmuely/Documents/privet/chickens/chicken_classification_project/TFODCourse/chickenproject2/lib/python3.9/site-packages (from apache-beam->object-detection==0.1) (0.3.1.1)\n",
      "Requirement already satisfied: fastavro<2,>=0.21.4 in /Users/raz.shmuely/Documents/privet/chickens/chicken_classification_project/TFODCourse/chickenproject2/lib/python3.9/site-packages (from apache-beam->object-detection==0.1) (1.4.5)\n",
      "Requirement already satisfied: future<1.0.0,>=0.18.2 in /Users/raz.shmuely/Documents/privet/chickens/chicken_classification_project/TFODCourse/chickenproject2/lib/python3.9/site-packages (from apache-beam->object-detection==0.1) (0.18.2)\n",
      "Requirement already satisfied: grpcio<2,>=1.29.0 in /Users/raz.shmuely/Documents/privet/chickens/chicken_classification_project/TFODCourse/chickenproject2/lib/python3.9/site-packages (from apache-beam->object-detection==0.1) (1.41.0)\n",
      "Requirement already satisfied: hdfs<3.0.0,>=2.1.0 in /Users/raz.shmuely/Documents/privet/chickens/chicken_classification_project/TFODCourse/chickenproject2/lib/python3.9/site-packages (from apache-beam->object-detection==0.1) (2.6.0)\n",
      "Requirement already satisfied: httplib2<0.20.0,>=0.8 in /Users/raz.shmuely/Documents/privet/chickens/chicken_classification_project/TFODCourse/chickenproject2/lib/python3.9/site-packages (from apache-beam->object-detection==0.1) (0.19.1)\n",
      "Requirement already satisfied: pymongo<4.0.0,>=3.8.0 in /Users/raz.shmuely/Documents/privet/chickens/chicken_classification_project/TFODCourse/chickenproject2/lib/python3.9/site-packages (from apache-beam->object-detection==0.1) (3.12.0)\n",
      "Requirement already satisfied: protobuf<4,>=3.12.2 in /Users/raz.shmuely/Documents/privet/chickens/chicken_classification_project/TFODCourse/chickenproject2/lib/python3.9/site-packages (from apache-beam->object-detection==0.1) (3.19.1)\n",
      "Requirement already satisfied: pyarrow<5.0.0,>=0.15.1 in /Users/raz.shmuely/Documents/privet/chickens/chicken_classification_project/TFODCourse/chickenproject2/lib/python3.9/site-packages (from apache-beam->object-detection==0.1) (4.0.1)\n",
      "Requirement already satisfied: pydot<2,>=1.2.0 in /Users/raz.shmuely/Documents/privet/chickens/chicken_classification_project/TFODCourse/chickenproject2/lib/python3.9/site-packages (from apache-beam->object-detection==0.1) (1.4.2)\n",
      "Requirement already satisfied: requests<3.0.0,>=2.24.0 in /Users/raz.shmuely/Documents/privet/chickens/chicken_classification_project/TFODCourse/chickenproject2/lib/python3.9/site-packages (from apache-beam->object-detection==0.1) (2.26.0)\n",
      "Requirement already satisfied: typing-extensions<4,>=3.7.0 in /Users/raz.shmuely/Documents/privet/chickens/chicken_classification_project/TFODCourse/chickenproject2/lib/python3.9/site-packages (from apache-beam->object-detection==0.1) (3.7.4.3)\n",
      "Requirement already satisfied: orjson<4.0 in /Users/raz.shmuely/Documents/privet/chickens/chicken_classification_project/TFODCourse/chickenproject2/lib/python3.9/site-packages (from apache-beam->object-detection==0.1) (3.6.4)\n",
      "Requirement already satisfied: kiwisolver>=1.1.0 in /Users/raz.shmuely/Documents/privet/chickens/chicken_classification_project/TFODCourse/chickenproject2/lib/python3.9/site-packages (from lvis->object-detection==0.1) (1.3.2)\n",
      "Requirement already satisfied: cycler>=0.10.0 in /Users/raz.shmuely/Documents/privet/chickens/chicken_classification_project/TFODCourse/chickenproject2/lib/python3.9/site-packages (from lvis->object-detection==0.1) (0.10.0)\n",
      "Requirement already satisfied: pyparsing>=2.4.0 in /Users/raz.shmuely/Documents/privet/chickens/chicken_classification_project/TFODCourse/chickenproject2/lib/python3.9/site-packages (from lvis->object-detection==0.1) (2.4.7)\n",
      "Requirement already satisfied: opencv-python>=4.1.0.25 in /Users/raz.shmuely/Documents/privet/chickens/chicken_classification_project/TFODCourse/chickenproject2/lib/python3.9/site-packages (from lvis->object-detection==0.1) (4.5.3.56)\n",
      "Requirement already satisfied: setuptools>=18.0 in /Users/raz.shmuely/Documents/privet/chickens/chicken_classification_project/TFODCourse/chickenproject2/lib/python3.9/site-packages (from pycocotools->object-detection==0.1) (56.0.0)\n",
      "Requirement already satisfied: google-auth<3.0.0dev,>=1.16.0 in /Users/raz.shmuely/Documents/privet/chickens/chicken_classification_project/TFODCourse/chickenproject2/lib/python3.9/site-packages (from google-api-python-client>=1.6.7->tf-models-official>=2.5.1->object-detection==0.1) (2.3.0)\n",
      "Requirement already satisfied: uritemplate<5,>=3.0.0 in /Users/raz.shmuely/Documents/privet/chickens/chicken_classification_project/TFODCourse/chickenproject2/lib/python3.9/site-packages (from google-api-python-client>=1.6.7->tf-models-official>=2.5.1->object-detection==0.1) (4.1.1)\n",
      "Requirement already satisfied: google-api-core<3.0.0dev,>=1.21.0 in /Users/raz.shmuely/Documents/privet/chickens/chicken_classification_project/TFODCourse/chickenproject2/lib/python3.9/site-packages (from google-api-python-client>=1.6.7->tf-models-official>=2.5.1->object-detection==0.1) (2.1.1)\n",
      "Requirement already satisfied: google-auth-httplib2>=0.1.0 in /Users/raz.shmuely/Documents/privet/chickens/chicken_classification_project/TFODCourse/chickenproject2/lib/python3.9/site-packages (from google-api-python-client>=1.6.7->tf-models-official>=2.5.1->object-detection==0.1) (0.1.0)\n",
      "Requirement already satisfied: docopt in /Users/raz.shmuely/Documents/privet/chickens/chicken_classification_project/TFODCourse/chickenproject2/lib/python3.9/site-packages (from hdfs<3.0.0,>=2.1.0->apache-beam->object-detection==0.1) (0.6.2)\n",
      "Requirement already satisfied: certifi in /Users/raz.shmuely/Documents/privet/chickens/chicken_classification_project/TFODCourse/chickenproject2/lib/python3.9/site-packages (from kaggle>=1.3.9->tf-models-official>=2.5.1->object-detection==0.1) (2021.10.8)\n",
      "Requirement already satisfied: python-slugify in /Users/raz.shmuely/Documents/privet/chickens/chicken_classification_project/TFODCourse/chickenproject2/lib/python3.9/site-packages (from kaggle>=1.3.9->tf-models-official>=2.5.1->object-detection==0.1) (5.0.2)\n",
      "Requirement already satisfied: tqdm in /Users/raz.shmuely/Documents/privet/chickens/chicken_classification_project/TFODCourse/chickenproject2/lib/python3.9/site-packages (from kaggle>=1.3.9->tf-models-official>=2.5.1->object-detection==0.1) (4.62.3)\n",
      "Requirement already satisfied: urllib3 in /Users/raz.shmuely/Documents/privet/chickens/chicken_classification_project/TFODCourse/chickenproject2/lib/python3.9/site-packages (from kaggle>=1.3.9->tf-models-official>=2.5.1->object-detection==0.1) (1.26.7)\n",
      "Requirement already satisfied: pyasn1>=0.1.7 in /Users/raz.shmuely/Documents/privet/chickens/chicken_classification_project/TFODCourse/chickenproject2/lib/python3.9/site-packages (from oauth2client->tf-models-official>=2.5.1->object-detection==0.1) (0.4.8)\n",
      "Requirement already satisfied: pyasn1-modules>=0.0.5 in /Users/raz.shmuely/Documents/privet/chickens/chicken_classification_project/TFODCourse/chickenproject2/lib/python3.9/site-packages (from oauth2client->tf-models-official>=2.5.1->object-detection==0.1) (0.2.8)\n",
      "Requirement already satisfied: rsa>=3.1.4 in /Users/raz.shmuely/Documents/privet/chickens/chicken_classification_project/TFODCourse/chickenproject2/lib/python3.9/site-packages (from oauth2client->tf-models-official>=2.5.1->object-detection==0.1) (4.7.2)\n",
      "Requirement already satisfied: idna<4,>=2.5 in /Users/raz.shmuely/Documents/privet/chickens/chicken_classification_project/TFODCourse/chickenproject2/lib/python3.9/site-packages (from requests<3.0.0,>=2.24.0->apache-beam->object-detection==0.1) (3.3)\n",
      "Requirement already satisfied: charset-normalizer~=2.0.0 in /Users/raz.shmuely/Documents/privet/chickens/chicken_classification_project/TFODCourse/chickenproject2/lib/python3.9/site-packages (from requests<3.0.0,>=2.24.0->apache-beam->object-detection==0.1) (2.0.7)\n",
      "Requirement already satisfied: tensorflow-io-gcs-filesystem>=0.21.0 in /Users/raz.shmuely/Documents/privet/chickens/chicken_classification_project/TFODCourse/chickenproject2/lib/python3.9/site-packages (from tensorflow>=2.5.0->tf-models-official>=2.5.1->object-detection==0.1) (0.23.1)\n",
      "Requirement already satisfied: keras<2.8,>=2.7.0rc0 in /Users/raz.shmuely/Documents/privet/chickens/chicken_classification_project/TFODCourse/chickenproject2/lib/python3.9/site-packages (from tensorflow>=2.5.0->tf-models-official>=2.5.1->object-detection==0.1) (2.7.0)\n",
      "Requirement already satisfied: wheel<1.0,>=0.32.0 in /Users/raz.shmuely/Documents/privet/chickens/chicken_classification_project/TFODCourse/chickenproject2/lib/python3.9/site-packages (from tensorflow>=2.5.0->tf-models-official>=2.5.1->object-detection==0.1) (0.37.0)\n",
      "Requirement already satisfied: libclang>=9.0.1 in /Users/raz.shmuely/Documents/privet/chickens/chicken_classification_project/TFODCourse/chickenproject2/lib/python3.9/site-packages (from tensorflow>=2.5.0->tf-models-official>=2.5.1->object-detection==0.1) (13.0.0)\n",
      "Requirement already satisfied: flatbuffers<3.0,>=1.12 in /Users/raz.shmuely/Documents/privet/chickens/chicken_classification_project/TFODCourse/chickenproject2/lib/python3.9/site-packages (from tensorflow>=2.5.0->tf-models-official>=2.5.1->object-detection==0.1) (1.12)\n",
      "Requirement already satisfied: opt-einsum>=2.3.2 in /Users/raz.shmuely/Documents/privet/chickens/chicken_classification_project/TFODCourse/chickenproject2/lib/python3.9/site-packages (from tensorflow>=2.5.0->tf-models-official>=2.5.1->object-detection==0.1) (3.3.0)\n",
      "Requirement already satisfied: tensorflow-estimator<2.8,~=2.7.0rc0 in /Users/raz.shmuely/Documents/privet/chickens/chicken_classification_project/TFODCourse/chickenproject2/lib/python3.9/site-packages (from tensorflow>=2.5.0->tf-models-official>=2.5.1->object-detection==0.1) (2.7.0)\n",
      "Requirement already satisfied: google-pasta>=0.1.1 in /Users/raz.shmuely/Documents/privet/chickens/chicken_classification_project/TFODCourse/chickenproject2/lib/python3.9/site-packages (from tensorflow>=2.5.0->tf-models-official>=2.5.1->object-detection==0.1) (0.2.0)\n",
      "Requirement already satisfied: wrapt>=1.11.0 in /Users/raz.shmuely/Documents/privet/chickens/chicken_classification_project/TFODCourse/chickenproject2/lib/python3.9/site-packages (from tensorflow>=2.5.0->tf-models-official>=2.5.1->object-detection==0.1) (1.12.1)\n",
      "Requirement already satisfied: astunparse>=1.6.0 in /Users/raz.shmuely/Documents/privet/chickens/chicken_classification_project/TFODCourse/chickenproject2/lib/python3.9/site-packages (from tensorflow>=2.5.0->tf-models-official>=2.5.1->object-detection==0.1) (1.6.3)\n",
      "Requirement already satisfied: tensorboard~=2.6 in /Users/raz.shmuely/Documents/privet/chickens/chicken_classification_project/TFODCourse/chickenproject2/lib/python3.9/site-packages (from tensorflow>=2.5.0->tf-models-official>=2.5.1->object-detection==0.1) (2.7.0)\n",
      "Requirement already satisfied: h5py>=2.9.0 in /Users/raz.shmuely/Documents/privet/chickens/chicken_classification_project/TFODCourse/chickenproject2/lib/python3.9/site-packages (from tensorflow>=2.5.0->tf-models-official>=2.5.1->object-detection==0.1) (3.1.0)\n",
      "Requirement already satisfied: keras-preprocessing>=1.1.1 in /Users/raz.shmuely/Documents/privet/chickens/chicken_classification_project/TFODCourse/chickenproject2/lib/python3.9/site-packages (from tensorflow>=2.5.0->tf-models-official>=2.5.1->object-detection==0.1) (1.1.2)\n",
      "Requirement already satisfied: gast<0.5.0,>=0.2.1 in /Users/raz.shmuely/Documents/privet/chickens/chicken_classification_project/TFODCourse/chickenproject2/lib/python3.9/site-packages (from tensorflow>=2.5.0->tf-models-official>=2.5.1->object-detection==0.1) (0.4.0)\n",
      "Requirement already satisfied: termcolor>=1.1.0 in /Users/raz.shmuely/Documents/privet/chickens/chicken_classification_project/TFODCourse/chickenproject2/lib/python3.9/site-packages (from tensorflow>=2.5.0->tf-models-official>=2.5.1->object-detection==0.1) (1.1.0)\n"
     ]
    },
    {
     "name": "stdout",
     "output_type": "stream",
     "text": [
      "Requirement already satisfied: dm-tree~=0.1.1 in /Users/raz.shmuely/Documents/privet/chickens/chicken_classification_project/TFODCourse/chickenproject2/lib/python3.9/site-packages (from tensorflow-model-optimization>=0.4.1->tf-models-official>=2.5.1->object-detection==0.1) (0.1.6)\n",
      "Collecting tensorflow>=2.5.0\n",
      "  Using cached tensorflow-2.6.2-cp39-cp39-macosx_10_11_x86_64.whl (199.0 MB)\n",
      "  Using cached tensorflow-2.6.1-cp39-cp39-macosx_10_14_x86_64.whl (199.0 MB)\n",
      "  Using cached tensorflow-2.6.0-cp39-cp39-macosx_10_11_x86_64.whl (199.0 MB)\n",
      "Requirement already satisfied: clang~=5.0 in /Users/raz.shmuely/Documents/privet/chickens/chicken_classification_project/TFODCourse/chickenproject2/lib/python3.9/site-packages (from tensorflow>=2.5.0->tf-models-official>=2.5.1->object-detection==0.1) (5.0)\n",
      "Requirement already satisfied: portalocker in /Users/raz.shmuely/Documents/privet/chickens/chicken_classification_project/TFODCourse/chickenproject2/lib/python3.9/site-packages (from sacrebleu->tf-models-official>=2.5.1->object-detection==0.1) (2.3.2)\n",
      "Requirement already satisfied: tabulate>=0.8.9 in /Users/raz.shmuely/Documents/privet/chickens/chicken_classification_project/TFODCourse/chickenproject2/lib/python3.9/site-packages (from sacrebleu->tf-models-official>=2.5.1->object-detection==0.1) (0.8.9)\n",
      "Requirement already satisfied: regex in /Users/raz.shmuely/Documents/privet/chickens/chicken_classification_project/TFODCourse/chickenproject2/lib/python3.9/site-packages (from sacrebleu->tf-models-official>=2.5.1->object-detection==0.1) (2021.10.8)\n",
      "Requirement already satisfied: colorama in /Users/raz.shmuely/Documents/privet/chickens/chicken_classification_project/TFODCourse/chickenproject2/lib/python3.9/site-packages (from sacrebleu->tf-models-official>=2.5.1->object-detection==0.1) (0.4.4)\n",
      "Requirement already satisfied: scikit-learn>=0.21.3 in /Users/raz.shmuely/Documents/privet/chickens/chicken_classification_project/TFODCourse/chickenproject2/lib/python3.9/site-packages (from seqeval->tf-models-official>=2.5.1->object-detection==0.1) (1.0)\n",
      "Requirement already satisfied: typeguard>=2.7 in /Users/raz.shmuely/Documents/privet/chickens/chicken_classification_project/TFODCourse/chickenproject2/lib/python3.9/site-packages (from tensorflow-addons->tf-models-official>=2.5.1->object-detection==0.1) (2.13.0)\n",
      "Requirement already satisfied: attrs>=18.1.0 in /Users/raz.shmuely/Documents/privet/chickens/chicken_classification_project/TFODCourse/chickenproject2/lib/python3.9/site-packages (from tensorflow-datasets->tf-models-official>=2.5.1->object-detection==0.1) (21.2.0)\n",
      "Requirement already satisfied: promise in /Users/raz.shmuely/Documents/privet/chickens/chicken_classification_project/TFODCourse/chickenproject2/lib/python3.9/site-packages (from tensorflow-datasets->tf-models-official>=2.5.1->object-detection==0.1) (2.3)\n",
      "Requirement already satisfied: tensorflow-metadata in /Users/raz.shmuely/Documents/privet/chickens/chicken_classification_project/TFODCourse/chickenproject2/lib/python3.9/site-packages (from tensorflow-datasets->tf-models-official>=2.5.1->object-detection==0.1) (1.2.0)\n",
      "Requirement already satisfied: googleapis-common-protos<2.0dev,>=1.6.0 in /Users/raz.shmuely/Documents/privet/chickens/chicken_classification_project/TFODCourse/chickenproject2/lib/python3.9/site-packages (from google-api-core<3.0.0dev,>=1.21.0->google-api-python-client>=1.6.7->tf-models-official>=2.5.1->object-detection==0.1) (1.53.0)\n",
      "Requirement already satisfied: cachetools<5.0,>=2.0.0 in /Users/raz.shmuely/Documents/privet/chickens/chicken_classification_project/TFODCourse/chickenproject2/lib/python3.9/site-packages (from google-auth<3.0.0dev,>=1.16.0->google-api-python-client>=1.6.7->tf-models-official>=2.5.1->object-detection==0.1) (4.2.4)\n",
      "Requirement already satisfied: joblib>=0.11 in /Users/raz.shmuely/Documents/privet/chickens/chicken_classification_project/TFODCourse/chickenproject2/lib/python3.9/site-packages (from scikit-learn>=0.21.3->seqeval->tf-models-official>=2.5.1->object-detection==0.1) (1.1.0)\n",
      "Requirement already satisfied: threadpoolctl>=2.0.0 in /Users/raz.shmuely/Documents/privet/chickens/chicken_classification_project/TFODCourse/chickenproject2/lib/python3.9/site-packages (from scikit-learn>=0.21.3->seqeval->tf-models-official>=2.5.1->object-detection==0.1) (3.0.0)\n",
      "Requirement already satisfied: google-auth-oauthlib<0.5,>=0.4.1 in /Users/raz.shmuely/Documents/privet/chickens/chicken_classification_project/TFODCourse/chickenproject2/lib/python3.9/site-packages (from tensorboard~=2.6->tensorflow>=2.5.0->tf-models-official>=2.5.1->object-detection==0.1) (0.4.6)\n",
      "Requirement already satisfied: markdown>=2.6.8 in /Users/raz.shmuely/Documents/privet/chickens/chicken_classification_project/TFODCourse/chickenproject2/lib/python3.9/site-packages (from tensorboard~=2.6->tensorflow>=2.5.0->tf-models-official>=2.5.1->object-detection==0.1) (3.3.4)\n",
      "Requirement already satisfied: tensorboard-data-server<0.7.0,>=0.6.0 in /Users/raz.shmuely/Documents/privet/chickens/chicken_classification_project/TFODCourse/chickenproject2/lib/python3.9/site-packages (from tensorboard~=2.6->tensorflow>=2.5.0->tf-models-official>=2.5.1->object-detection==0.1) (0.6.1)\n",
      "Requirement already satisfied: werkzeug>=0.11.15 in /Users/raz.shmuely/Documents/privet/chickens/chicken_classification_project/TFODCourse/chickenproject2/lib/python3.9/site-packages (from tensorboard~=2.6->tensorflow>=2.5.0->tf-models-official>=2.5.1->object-detection==0.1) (2.0.2)\n",
      "Requirement already satisfied: tensorboard-plugin-wit>=1.6.0 in /Users/raz.shmuely/Documents/privet/chickens/chicken_classification_project/TFODCourse/chickenproject2/lib/python3.9/site-packages (from tensorboard~=2.6->tensorflow>=2.5.0->tf-models-official>=2.5.1->object-detection==0.1) (1.8.0)\n",
      "Requirement already satisfied: text-unidecode>=1.3 in /Users/raz.shmuely/Documents/privet/chickens/chicken_classification_project/TFODCourse/chickenproject2/lib/python3.9/site-packages (from python-slugify->kaggle>=1.3.9->tf-models-official>=2.5.1->object-detection==0.1) (1.3)\n",
      "Requirement already satisfied: requests-oauthlib>=0.7.0 in /Users/raz.shmuely/Documents/privet/chickens/chicken_classification_project/TFODCourse/chickenproject2/lib/python3.9/site-packages (from google-auth-oauthlib<0.5,>=0.4.1->tensorboard~=2.6->tensorflow>=2.5.0->tf-models-official>=2.5.1->object-detection==0.1) (1.3.0)\n",
      "Requirement already satisfied: oauthlib>=3.0.0 in /Users/raz.shmuely/Documents/privet/chickens/chicken_classification_project/TFODCourse/chickenproject2/lib/python3.9/site-packages (from requests-oauthlib>=0.7.0->google-auth-oauthlib<0.5,>=0.4.1->tensorboard~=2.6->tensorflow>=2.5.0->tf-models-official>=2.5.1->object-detection==0.1) (3.1.1)\n",
      "Building wheels for collected packages: object-detection\n",
      "  Building wheel for object-detection (setup.py): started\n",
      "  Building wheel for object-detection (setup.py): finished with status 'done'\n",
      "  Created wheel for object-detection: filename=object_detection-0.1-py3-none-any.whl size=1676841 sha256=068a1a1db924b44b800605a9253eb2681c98901b75f88f33e9cfd07b3e2f977f\n",
      "  Stored in directory: /private/var/folders/hz/jw69d7s516q7_yst5pxmtr3c0000gn/T/pip-ephem-wheel-cache-nccdcjcd/wheels/24/57/ac/e6caba7e32c3e7c2537b6d90baf7b5bf7d10057d2d22080538\n",
      "Successfully built object-detection\n"
     ]
    },
    {
     "name": "stderr",
     "output_type": "stream",
     "text": [
      "WARNING: Ignoring invalid distribution -ensorflow (/Users/raz.shmuely/Documents/privet/chickens/chicken_classification_project/TFODCourse/chickenproject2/lib/python3.9/site-packages)\n"
     ]
    },
    {
     "name": "stdout",
     "output_type": "stream",
     "text": [
      "Installing collected packages: tensorflow, object-detection\n",
      "  Attempting uninstall: tensorflow\n",
      "    Found existing installation: tensorflow 2.7.0\n"
     ]
    },
    {
     "name": "stderr",
     "output_type": "stream",
     "text": [
      "    WARNING: Ignoring invalid distribution -ensorflow (/Users/raz.shmuely/Documents/privet/chickens/chicken_classification_project/TFODCourse/chickenproject2/lib/python3.9/site-packages)\n"
     ]
    },
    {
     "name": "stdout",
     "output_type": "stream",
     "text": [
      "    Uninstalling tensorflow-2.7.0:\n",
      "      Successfully uninstalled tensorflow-2.7.0\n",
      "  Attempting uninstall: object-detection\n",
      "    Found existing installation: object-detection 0.1\n"
     ]
    },
    {
     "name": "stderr",
     "output_type": "stream",
     "text": [
      "    WARNING: Ignoring invalid distribution -ensorflow (/Users/raz.shmuely/Documents/privet/chickens/chicken_classification_project/TFODCourse/chickenproject2/lib/python3.9/site-packages)\n"
     ]
    },
    {
     "name": "stdout",
     "output_type": "stream",
     "text": [
      "    Uninstalling object-detection-0.1:\n",
      "      Successfully uninstalled object-detection-0.1\n"
     ]
    },
    {
     "name": "stderr",
     "output_type": "stream",
     "text": [
      "WARNING: Ignoring invalid distribution -ensorflow (/Users/raz.shmuely/Documents/privet/chickens/chicken_classification_project/TFODCourse/chickenproject2/lib/python3.9/site-packages)\n",
      "WARNING: Ignoring invalid distribution -ensorflow (/Users/raz.shmuely/Documents/privet/chickens/chicken_classification_project/TFODCourse/chickenproject2/lib/python3.9/site-packages)\n",
      "WARNING: Ignoring invalid distribution -ensorflow (/Users/raz.shmuely/Documents/privet/chickens/chicken_classification_project/TFODCourse/chickenproject2/lib/python3.9/site-packages)\n",
      "WARNING: Ignoring invalid distribution -ensorflow (/Users/raz.shmuely/Documents/privet/chickens/chicken_classification_project/TFODCourse/chickenproject2/lib/python3.9/site-packages)\n",
      "WARNING: Ignoring invalid distribution -ensorflow (/Users/raz.shmuely/Documents/privet/chickens/chicken_classification_project/TFODCourse/chickenproject2/lib/python3.9/site-packages)\n",
      "WARNING: You are using pip version 21.3; however, version 21.3.1 is available.\n",
      "You should consider upgrading via the '/Users/raz.shmuely/Documents/privet/chickens/chicken_classification_project/TFODCourse/chickenproject2/bin/python -m pip install --upgrade pip' command.\n"
     ]
    },
    {
     "name": "stdout",
     "output_type": "stream",
     "text": [
      "Successfully installed object-detection-0.1 tensorflow-2.6.0\n"
     ]
    },
    {
     "name": "stderr",
     "output_type": "stream",
     "text": [
      "WARNING: Ignoring invalid distribution -ensorflow (/Users/raz.shmuely/Documents/privet/chickens/chicken_classification_project/TFODCourse/chickenproject2/lib/python3.9/site-packages)\n",
      "WARNING: Ignoring invalid distribution -ensorflow (/Users/raz.shmuely/Documents/privet/chickens/chicken_classification_project/TFODCourse/chickenproject2/lib/python3.9/site-packages)\n"
     ]
    },
    {
     "name": "stdout",
     "output_type": "stream",
     "text": [
      "Requirement already satisfied: tensorflow in /Users/raz.shmuely/Documents/privet/chickens/chicken_classification_project/TFODCourse/chickenproject2/lib/python3.9/site-packages (2.6.0)\n",
      "Collecting tensorflow\n",
      "  Using cached tensorflow-2.7.0-cp39-cp39-macosx_10_11_x86_64.whl (207.1 MB)\n",
      "Requirement already satisfied: six>=1.12.0 in /Users/raz.shmuely/Documents/privet/chickens/chicken_classification_project/TFODCourse/chickenproject2/lib/python3.9/site-packages (from tensorflow) (1.15.0)\n",
      "Requirement already satisfied: wrapt>=1.11.0 in /Users/raz.shmuely/Documents/privet/chickens/chicken_classification_project/TFODCourse/chickenproject2/lib/python3.9/site-packages (from tensorflow) (1.12.1)\n",
      "Requirement already satisfied: termcolor>=1.1.0 in /Users/raz.shmuely/Documents/privet/chickens/chicken_classification_project/TFODCourse/chickenproject2/lib/python3.9/site-packages (from tensorflow) (1.1.0)\n",
      "Requirement already satisfied: google-pasta>=0.1.1 in /Users/raz.shmuely/Documents/privet/chickens/chicken_classification_project/TFODCourse/chickenproject2/lib/python3.9/site-packages (from tensorflow) (0.2.0)\n",
      "Requirement already satisfied: h5py>=2.9.0 in /Users/raz.shmuely/Documents/privet/chickens/chicken_classification_project/TFODCourse/chickenproject2/lib/python3.9/site-packages (from tensorflow) (3.1.0)\n",
      "Requirement already satisfied: tensorboard~=2.6 in /Users/raz.shmuely/Documents/privet/chickens/chicken_classification_project/TFODCourse/chickenproject2/lib/python3.9/site-packages (from tensorflow) (2.7.0)\n",
      "Requirement already satisfied: tensorflow-estimator<2.8,~=2.7.0rc0 in /Users/raz.shmuely/Documents/privet/chickens/chicken_classification_project/TFODCourse/chickenproject2/lib/python3.9/site-packages (from tensorflow) (2.7.0)\n",
      "Requirement already satisfied: astunparse>=1.6.0 in /Users/raz.shmuely/Documents/privet/chickens/chicken_classification_project/TFODCourse/chickenproject2/lib/python3.9/site-packages (from tensorflow) (1.6.3)\n",
      "Requirement already satisfied: opt-einsum>=2.3.2 in /Users/raz.shmuely/Documents/privet/chickens/chicken_classification_project/TFODCourse/chickenproject2/lib/python3.9/site-packages (from tensorflow) (3.3.0)\n",
      "Requirement already satisfied: tensorflow-io-gcs-filesystem>=0.21.0 in /Users/raz.shmuely/Documents/privet/chickens/chicken_classification_project/TFODCourse/chickenproject2/lib/python3.9/site-packages (from tensorflow) (0.23.1)\n",
      "Requirement already satisfied: gast<0.5.0,>=0.2.1 in /Users/raz.shmuely/Documents/privet/chickens/chicken_classification_project/TFODCourse/chickenproject2/lib/python3.9/site-packages (from tensorflow) (0.4.0)\n",
      "Requirement already satisfied: keras-preprocessing>=1.1.1 in /Users/raz.shmuely/Documents/privet/chickens/chicken_classification_project/TFODCourse/chickenproject2/lib/python3.9/site-packages (from tensorflow) (1.1.2)\n",
      "Requirement already satisfied: grpcio<2.0,>=1.24.3 in /Users/raz.shmuely/Documents/privet/chickens/chicken_classification_project/TFODCourse/chickenproject2/lib/python3.9/site-packages (from tensorflow) (1.41.0)\n",
      "Requirement already satisfied: typing-extensions>=3.6.6 in /Users/raz.shmuely/Documents/privet/chickens/chicken_classification_project/TFODCourse/chickenproject2/lib/python3.9/site-packages (from tensorflow) (3.7.4.3)\n",
      "Requirement already satisfied: protobuf>=3.9.2 in /Users/raz.shmuely/Documents/privet/chickens/chicken_classification_project/TFODCourse/chickenproject2/lib/python3.9/site-packages (from tensorflow) (3.19.1)\n",
      "Requirement already satisfied: numpy>=1.14.5 in /Users/raz.shmuely/Documents/privet/chickens/chicken_classification_project/TFODCourse/chickenproject2/lib/python3.9/site-packages (from tensorflow) (1.19.5)\n",
      "Requirement already satisfied: keras<2.8,>=2.7.0rc0 in /Users/raz.shmuely/Documents/privet/chickens/chicken_classification_project/TFODCourse/chickenproject2/lib/python3.9/site-packages (from tensorflow) (2.7.0)\n",
      "Requirement already satisfied: libclang>=9.0.1 in /Users/raz.shmuely/Documents/privet/chickens/chicken_classification_project/TFODCourse/chickenproject2/lib/python3.9/site-packages (from tensorflow) (13.0.0)\n",
      "Requirement already satisfied: flatbuffers<3.0,>=1.12 in /Users/raz.shmuely/Documents/privet/chickens/chicken_classification_project/TFODCourse/chickenproject2/lib/python3.9/site-packages (from tensorflow) (1.12)\n",
      "Requirement already satisfied: absl-py>=0.4.0 in /Users/raz.shmuely/Documents/privet/chickens/chicken_classification_project/TFODCourse/chickenproject2/lib/python3.9/site-packages (from tensorflow) (0.12.0)\n",
      "Requirement already satisfied: wheel<1.0,>=0.32.0 in /Users/raz.shmuely/Documents/privet/chickens/chicken_classification_project/TFODCourse/chickenproject2/lib/python3.9/site-packages (from tensorflow) (0.37.0)\n",
      "Requirement already satisfied: requests<3,>=2.21.0 in /Users/raz.shmuely/Documents/privet/chickens/chicken_classification_project/TFODCourse/chickenproject2/lib/python3.9/site-packages (from tensorboard~=2.6->tensorflow) (2.26.0)\n",
      "Requirement already satisfied: markdown>=2.6.8 in /Users/raz.shmuely/Documents/privet/chickens/chicken_classification_project/TFODCourse/chickenproject2/lib/python3.9/site-packages (from tensorboard~=2.6->tensorflow) (3.3.4)\n",
      "Requirement already satisfied: werkzeug>=0.11.15 in /Users/raz.shmuely/Documents/privet/chickens/chicken_classification_project/TFODCourse/chickenproject2/lib/python3.9/site-packages (from tensorboard~=2.6->tensorflow) (2.0.2)\n",
      "Requirement already satisfied: google-auth-oauthlib<0.5,>=0.4.1 in /Users/raz.shmuely/Documents/privet/chickens/chicken_classification_project/TFODCourse/chickenproject2/lib/python3.9/site-packages (from tensorboard~=2.6->tensorflow) (0.4.6)\n",
      "Requirement already satisfied: google-auth<3,>=1.6.3 in /Users/raz.shmuely/Documents/privet/chickens/chicken_classification_project/TFODCourse/chickenproject2/lib/python3.9/site-packages (from tensorboard~=2.6->tensorflow) (2.3.0)\n",
      "Requirement already satisfied: tensorboard-data-server<0.7.0,>=0.6.0 in /Users/raz.shmuely/Documents/privet/chickens/chicken_classification_project/TFODCourse/chickenproject2/lib/python3.9/site-packages (from tensorboard~=2.6->tensorflow) (0.6.1)\n",
      "Requirement already satisfied: tensorboard-plugin-wit>=1.6.0 in /Users/raz.shmuely/Documents/privet/chickens/chicken_classification_project/TFODCourse/chickenproject2/lib/python3.9/site-packages (from tensorboard~=2.6->tensorflow) (1.8.0)\n",
      "Requirement already satisfied: setuptools>=41.0.0 in /Users/raz.shmuely/Documents/privet/chickens/chicken_classification_project/TFODCourse/chickenproject2/lib/python3.9/site-packages (from tensorboard~=2.6->tensorflow) (56.0.0)\n",
      "Requirement already satisfied: rsa<5,>=3.1.4 in /Users/raz.shmuely/Documents/privet/chickens/chicken_classification_project/TFODCourse/chickenproject2/lib/python3.9/site-packages (from google-auth<3,>=1.6.3->tensorboard~=2.6->tensorflow) (4.7.2)\n",
      "Requirement already satisfied: cachetools<5.0,>=2.0.0 in /Users/raz.shmuely/Documents/privet/chickens/chicken_classification_project/TFODCourse/chickenproject2/lib/python3.9/site-packages (from google-auth<3,>=1.6.3->tensorboard~=2.6->tensorflow) (4.2.4)\n",
      "Requirement already satisfied: pyasn1-modules>=0.2.1 in /Users/raz.shmuely/Documents/privet/chickens/chicken_classification_project/TFODCourse/chickenproject2/lib/python3.9/site-packages (from google-auth<3,>=1.6.3->tensorboard~=2.6->tensorflow) (0.2.8)\n",
      "Requirement already satisfied: requests-oauthlib>=0.7.0 in /Users/raz.shmuely/Documents/privet/chickens/chicken_classification_project/TFODCourse/chickenproject2/lib/python3.9/site-packages (from google-auth-oauthlib<0.5,>=0.4.1->tensorboard~=2.6->tensorflow) (1.3.0)\n",
      "Requirement already satisfied: urllib3<1.27,>=1.21.1 in /Users/raz.shmuely/Documents/privet/chickens/chicken_classification_project/TFODCourse/chickenproject2/lib/python3.9/site-packages (from requests<3,>=2.21.0->tensorboard~=2.6->tensorflow) (1.26.7)\n",
      "Requirement already satisfied: idna<4,>=2.5 in /Users/raz.shmuely/Documents/privet/chickens/chicken_classification_project/TFODCourse/chickenproject2/lib/python3.9/site-packages (from requests<3,>=2.21.0->tensorboard~=2.6->tensorflow) (3.3)\n",
      "Requirement already satisfied: charset-normalizer~=2.0.0 in /Users/raz.shmuely/Documents/privet/chickens/chicken_classification_project/TFODCourse/chickenproject2/lib/python3.9/site-packages (from requests<3,>=2.21.0->tensorboard~=2.6->tensorflow) (2.0.7)\n",
      "Requirement already satisfied: certifi>=2017.4.17 in /Users/raz.shmuely/Documents/privet/chickens/chicken_classification_project/TFODCourse/chickenproject2/lib/python3.9/site-packages (from requests<3,>=2.21.0->tensorboard~=2.6->tensorflow) (2021.10.8)\n"
     ]
    },
    {
     "name": "stdout",
     "output_type": "stream",
     "text": [
      "Requirement already satisfied: pyasn1<0.5.0,>=0.4.6 in /Users/raz.shmuely/Documents/privet/chickens/chicken_classification_project/TFODCourse/chickenproject2/lib/python3.9/site-packages (from pyasn1-modules>=0.2.1->google-auth<3,>=1.6.3->tensorboard~=2.6->tensorflow) (0.4.8)\n",
      "Requirement already satisfied: oauthlib>=3.0.0 in /Users/raz.shmuely/Documents/privet/chickens/chicken_classification_project/TFODCourse/chickenproject2/lib/python3.9/site-packages (from requests-oauthlib>=0.7.0->google-auth-oauthlib<0.5,>=0.4.1->tensorboard~=2.6->tensorflow) (3.1.1)\n"
     ]
    },
    {
     "name": "stderr",
     "output_type": "stream",
     "text": [
      "WARNING: Ignoring invalid distribution -ensorflow (/Users/raz.shmuely/Documents/privet/chickens/chicken_classification_project/TFODCourse/chickenproject2/lib/python3.9/site-packages)\n"
     ]
    },
    {
     "name": "stdout",
     "output_type": "stream",
     "text": [
      "Installing collected packages: tensorflow\n",
      "  Attempting uninstall: tensorflow\n",
      "    Found existing installation: tensorflow 2.6.0\n"
     ]
    },
    {
     "name": "stderr",
     "output_type": "stream",
     "text": [
      "    WARNING: Ignoring invalid distribution -ensorflow (/Users/raz.shmuely/Documents/privet/chickens/chicken_classification_project/TFODCourse/chickenproject2/lib/python3.9/site-packages)\n"
     ]
    },
    {
     "name": "stdout",
     "output_type": "stream",
     "text": [
      "    Uninstalling tensorflow-2.6.0:\n",
      "      Successfully uninstalled tensorflow-2.6.0\n"
     ]
    },
    {
     "name": "stderr",
     "output_type": "stream",
     "text": [
      "WARNING: Ignoring invalid distribution -ensorflow (/Users/raz.shmuely/Documents/privet/chickens/chicken_classification_project/TFODCourse/chickenproject2/lib/python3.9/site-packages)\n",
      "ERROR: pip's dependency resolver does not currently take into account all the packages that are installed. This behaviour is the source of the following dependency conflicts.\n",
      "tensorflow-text 2.6.0 requires tensorflow<2.7,>=2.6.0, but you have tensorflow 2.7.0 which is incompatible.\n",
      "WARNING: Ignoring invalid distribution -ensorflow (/Users/raz.shmuely/Documents/privet/chickens/chicken_classification_project/TFODCourse/chickenproject2/lib/python3.9/site-packages)\n",
      "WARNING: Ignoring invalid distribution -ensorflow (/Users/raz.shmuely/Documents/privet/chickens/chicken_classification_project/TFODCourse/chickenproject2/lib/python3.9/site-packages)\n",
      "WARNING: Ignoring invalid distribution -ensorflow (/Users/raz.shmuely/Documents/privet/chickens/chicken_classification_project/TFODCourse/chickenproject2/lib/python3.9/site-packages)\n",
      "WARNING: You are using pip version 21.3; however, version 21.3.1 is available.\n",
      "You should consider upgrading via the '/Users/raz.shmuely/Documents/privet/chickens/chicken_classification_project/TFODCourse/chickenproject2/bin/python -m pip install --upgrade pip' command.\n"
     ]
    },
    {
     "name": "stdout",
     "output_type": "stream",
     "text": [
      "Successfully installed tensorflow-2.7.0\n"
     ]
    },
    {
     "name": "stderr",
     "output_type": "stream",
     "text": [
      "WARNING: Ignoring invalid distribution -ensorflow (/Users/raz.shmuely/Documents/privet/chickens/chicken_classification_project/TFODCourse/chickenproject2/lib/python3.9/site-packages)\n",
      "WARNING: Ignoring invalid distribution -ensorflow (/Users/raz.shmuely/Documents/privet/chickens/chicken_classification_project/TFODCourse/chickenproject2/lib/python3.9/site-packages)\n"
     ]
    },
    {
     "name": "stdout",
     "output_type": "stream",
     "text": [
      "Found existing installation: protobuf 3.19.1\n",
      "Uninstalling protobuf-3.19.1:\n",
      "  Successfully uninstalled protobuf-3.19.1\n",
      "Found existing installation: matplotlib 3.4.3\n"
     ]
    },
    {
     "name": "stderr",
     "output_type": "stream",
     "text": [
      "WARNING: Ignoring invalid distribution -ensorflow (/Users/raz.shmuely/Documents/privet/chickens/chicken_classification_project/TFODCourse/chickenproject2/lib/python3.9/site-packages)\n"
     ]
    },
    {
     "name": "stdout",
     "output_type": "stream",
     "text": [
      "Uninstalling matplotlib-3.4.3:\n",
      "  Successfully uninstalled matplotlib-3.4.3\n"
     ]
    },
    {
     "name": "stderr",
     "output_type": "stream",
     "text": [
      "WARNING: Ignoring invalid distribution -ensorflow (/Users/raz.shmuely/Documents/privet/chickens/chicken_classification_project/TFODCourse/chickenproject2/lib/python3.9/site-packages)\n",
      "WARNING: Ignoring invalid distribution -ensorflow (/Users/raz.shmuely/Documents/privet/chickens/chicken_classification_project/TFODCourse/chickenproject2/lib/python3.9/site-packages)\n"
     ]
    },
    {
     "name": "stdout",
     "output_type": "stream",
     "text": [
      "Collecting protobuf\n",
      "  Using cached protobuf-3.19.3-cp39-cp39-macosx_10_9_x86_64.whl (1.0 MB)\n",
      "Collecting matplotlib==3.2\n",
      "  Using cached matplotlib-3.2.0-cp39-cp39-macosx_10_9_x86_64.whl\n",
      "Requirement already satisfied: numpy>=1.11 in /Users/raz.shmuely/Documents/privet/chickens/chicken_classification_project/TFODCourse/chickenproject2/lib/python3.9/site-packages (from matplotlib==3.2) (1.19.5)\n",
      "Requirement already satisfied: cycler>=0.10 in /Users/raz.shmuely/Documents/privet/chickens/chicken_classification_project/TFODCourse/chickenproject2/lib/python3.9/site-packages (from matplotlib==3.2) (0.10.0)\n",
      "Requirement already satisfied: kiwisolver>=1.0.1 in /Users/raz.shmuely/Documents/privet/chickens/chicken_classification_project/TFODCourse/chickenproject2/lib/python3.9/site-packages (from matplotlib==3.2) (1.3.2)\n",
      "Requirement already satisfied: pyparsing!=2.0.4,!=2.1.2,!=2.1.6,>=2.0.1 in /Users/raz.shmuely/Documents/privet/chickens/chicken_classification_project/TFODCourse/chickenproject2/lib/python3.9/site-packages (from matplotlib==3.2) (2.4.7)\n",
      "Requirement already satisfied: python-dateutil>=2.1 in /Users/raz.shmuely/Documents/privet/chickens/chicken_classification_project/TFODCourse/chickenproject2/lib/python3.9/site-packages (from matplotlib==3.2) (2.8.2)\n",
      "Requirement already satisfied: six in /Users/raz.shmuely/Documents/privet/chickens/chicken_classification_project/TFODCourse/chickenproject2/lib/python3.9/site-packages (from cycler>=0.10->matplotlib==3.2) (1.15.0)\n"
     ]
    },
    {
     "name": "stderr",
     "output_type": "stream",
     "text": [
      "WARNING: Ignoring invalid distribution -ensorflow (/Users/raz.shmuely/Documents/privet/chickens/chicken_classification_project/TFODCourse/chickenproject2/lib/python3.9/site-packages)\n"
     ]
    },
    {
     "name": "stdout",
     "output_type": "stream",
     "text": [
      "Installing collected packages: protobuf, matplotlib\n"
     ]
    },
    {
     "name": "stderr",
     "output_type": "stream",
     "text": [
      "WARNING: Ignoring invalid distribution -ensorflow (/Users/raz.shmuely/Documents/privet/chickens/chicken_classification_project/TFODCourse/chickenproject2/lib/python3.9/site-packages)\n",
      "WARNING: Ignoring invalid distribution -ensorflow (/Users/raz.shmuely/Documents/privet/chickens/chicken_classification_project/TFODCourse/chickenproject2/lib/python3.9/site-packages)\n",
      "ERROR: pip's dependency resolver does not currently take into account all the packages that are installed. This behaviour is the source of the following dependency conflicts.\n",
      "tensorflow-text 2.6.0 requires tensorflow<2.7,>=2.6.0, but you have tensorflow 2.7.0 which is incompatible.\n",
      "WARNING: Ignoring invalid distribution -ensorflow (/Users/raz.shmuely/Documents/privet/chickens/chicken_classification_project/TFODCourse/chickenproject2/lib/python3.9/site-packages)\n",
      "WARNING: Ignoring invalid distribution -ensorflow (/Users/raz.shmuely/Documents/privet/chickens/chicken_classification_project/TFODCourse/chickenproject2/lib/python3.9/site-packages)\n",
      "WARNING: Ignoring invalid distribution -ensorflow (/Users/raz.shmuely/Documents/privet/chickens/chicken_classification_project/TFODCourse/chickenproject2/lib/python3.9/site-packages)\n",
      "WARNING: You are using pip version 21.3; however, version 21.3.1 is available.\n",
      "You should consider upgrading via the '/Users/raz.shmuely/Documents/privet/chickens/chicken_classification_project/TFODCourse/chickenproject2/bin/python -m pip install --upgrade pip' command.\n"
     ]
    },
    {
     "name": "stdout",
     "output_type": "stream",
     "text": [
      "Successfully installed matplotlib-3.2.0 protobuf-3.19.3\n"
     ]
    },
    {
     "name": "stderr",
     "output_type": "stream",
     "text": [
      "fatal: destination path 'Tensorflow/scripts' already exists and is not an empty directory.\n"
     ]
    }
   ],
   "source": [
    "trn.installations()"
   ]
  },
  {
   "cell_type": "code",
   "execution_count": 5,
   "metadata": {},
   "outputs": [
    {
     "name": "stderr",
     "output_type": "stream",
     "text": [
      "Running tests under Python 3.9.7: /Users/raz.shmuely/Documents/privet/chickens/chicken_classification_project/TFODCourse/chickenproject2/bin/python\n",
      "[ RUN      ] ModelBuilderTF2Test.test_create_center_net_deepmac\n",
      "2022-01-27 23:13:00.414773: I tensorflow/core/platform/cpu_feature_guard.cc:151] This TensorFlow binary is optimized with oneAPI Deep Neural Network Library (oneDNN) to use the following CPU instructions in performance-critical operations:  AVX2 FMA\n",
      "To enable them in other operations, rebuild TensorFlow with the appropriate compiler flags.\n",
      "/Users/raz.shmuely/Documents/privet/chickens/chicken_classification_project/TFODCourse/chickenproject2/lib/python3.9/site-packages/object_detection/builders/model_builder.py:1100: DeprecationWarning: The 'warn' function is deprecated, use 'warning' instead\n",
      "  logging.warn(('Building experimental DeepMAC meta-arch.'\n",
      "W0127 23:13:00.609997 4469710336 model_builder.py:1100] Building experimental DeepMAC meta-arch. Some features may be omitted.\n",
      "INFO:tensorflow:time(__main__.ModelBuilderTF2Test.test_create_center_net_deepmac): 0.51s\n",
      "I0127 23:13:00.917338 4469710336 test_util.py:2308] time(__main__.ModelBuilderTF2Test.test_create_center_net_deepmac): 0.51s\n",
      "[       OK ] ModelBuilderTF2Test.test_create_center_net_deepmac\n",
      "[ RUN      ] ModelBuilderTF2Test.test_create_center_net_model0 (customize_head_params=True)\n",
      "INFO:tensorflow:time(__main__.ModelBuilderTF2Test.test_create_center_net_model0 (customize_head_params=True)): 0.82s\n",
      "I0127 23:13:01.742467 4469710336 test_util.py:2308] time(__main__.ModelBuilderTF2Test.test_create_center_net_model0 (customize_head_params=True)): 0.82s\n",
      "[       OK ] ModelBuilderTF2Test.test_create_center_net_model0 (customize_head_params=True)\n",
      "[ RUN      ] ModelBuilderTF2Test.test_create_center_net_model1 (customize_head_params=False)\n",
      "INFO:tensorflow:time(__main__.ModelBuilderTF2Test.test_create_center_net_model1 (customize_head_params=False)): 0.22s\n",
      "I0127 23:13:01.966215 4469710336 test_util.py:2308] time(__main__.ModelBuilderTF2Test.test_create_center_net_model1 (customize_head_params=False)): 0.22s\n",
      "[       OK ] ModelBuilderTF2Test.test_create_center_net_model1 (customize_head_params=False)\n",
      "[ RUN      ] ModelBuilderTF2Test.test_create_center_net_model_from_keypoints\n",
      "INFO:tensorflow:time(__main__.ModelBuilderTF2Test.test_create_center_net_model_from_keypoints): 0.2s\n",
      "I0127 23:13:02.168101 4469710336 test_util.py:2308] time(__main__.ModelBuilderTF2Test.test_create_center_net_model_from_keypoints): 0.2s\n",
      "[       OK ] ModelBuilderTF2Test.test_create_center_net_model_from_keypoints\n",
      "[ RUN      ] ModelBuilderTF2Test.test_create_center_net_model_mobilenet\n",
      "INFO:tensorflow:time(__main__.ModelBuilderTF2Test.test_create_center_net_model_mobilenet): 1.42s\n",
      "I0127 23:13:03.593395 4469710336 test_util.py:2308] time(__main__.ModelBuilderTF2Test.test_create_center_net_model_mobilenet): 1.42s\n",
      "[       OK ] ModelBuilderTF2Test.test_create_center_net_model_mobilenet\n",
      "[ RUN      ] ModelBuilderTF2Test.test_create_experimental_model\n",
      "INFO:tensorflow:time(__main__.ModelBuilderTF2Test.test_create_experimental_model): 0.0s\n",
      "I0127 23:13:03.594347 4469710336 test_util.py:2308] time(__main__.ModelBuilderTF2Test.test_create_experimental_model): 0.0s\n",
      "[       OK ] ModelBuilderTF2Test.test_create_experimental_model\n",
      "[ RUN      ] ModelBuilderTF2Test.test_create_faster_rcnn_from_config_with_crop_feature0 (True)\n",
      "INFO:tensorflow:time(__main__.ModelBuilderTF2Test.test_create_faster_rcnn_from_config_with_crop_feature0 (True)): 0.02s\n",
      "I0127 23:13:03.610704 4469710336 test_util.py:2308] time(__main__.ModelBuilderTF2Test.test_create_faster_rcnn_from_config_with_crop_feature0 (True)): 0.02s\n",
      "[       OK ] ModelBuilderTF2Test.test_create_faster_rcnn_from_config_with_crop_feature0 (True)\n",
      "[ RUN      ] ModelBuilderTF2Test.test_create_faster_rcnn_from_config_with_crop_feature1 (False)\n",
      "INFO:tensorflow:time(__main__.ModelBuilderTF2Test.test_create_faster_rcnn_from_config_with_crop_feature1 (False)): 0.01s\n",
      "I0127 23:13:03.621474 4469710336 test_util.py:2308] time(__main__.ModelBuilderTF2Test.test_create_faster_rcnn_from_config_with_crop_feature1 (False)): 0.01s\n",
      "[       OK ] ModelBuilderTF2Test.test_create_faster_rcnn_from_config_with_crop_feature1 (False)\n",
      "[ RUN      ] ModelBuilderTF2Test.test_create_faster_rcnn_model_from_config_with_example_miner\n",
      "INFO:tensorflow:time(__main__.ModelBuilderTF2Test.test_create_faster_rcnn_model_from_config_with_example_miner): 0.01s\n",
      "I0127 23:13:03.632562 4469710336 test_util.py:2308] time(__main__.ModelBuilderTF2Test.test_create_faster_rcnn_model_from_config_with_example_miner): 0.01s\n",
      "[       OK ] ModelBuilderTF2Test.test_create_faster_rcnn_model_from_config_with_example_miner\n",
      "[ RUN      ] ModelBuilderTF2Test.test_create_faster_rcnn_models_from_config_faster_rcnn_with_matmul\n",
      "INFO:tensorflow:time(__main__.ModelBuilderTF2Test.test_create_faster_rcnn_models_from_config_faster_rcnn_with_matmul): 0.08s\n",
      "I0127 23:13:03.710199 4469710336 test_util.py:2308] time(__main__.ModelBuilderTF2Test.test_create_faster_rcnn_models_from_config_faster_rcnn_with_matmul): 0.08s\n",
      "[       OK ] ModelBuilderTF2Test.test_create_faster_rcnn_models_from_config_faster_rcnn_with_matmul\n",
      "[ RUN      ] ModelBuilderTF2Test.test_create_faster_rcnn_models_from_config_faster_rcnn_without_matmul\n",
      "INFO:tensorflow:time(__main__.ModelBuilderTF2Test.test_create_faster_rcnn_models_from_config_faster_rcnn_without_matmul): 0.07s\n",
      "I0127 23:13:03.780683 4469710336 test_util.py:2308] time(__main__.ModelBuilderTF2Test.test_create_faster_rcnn_models_from_config_faster_rcnn_without_matmul): 0.07s\n",
      "[       OK ] ModelBuilderTF2Test.test_create_faster_rcnn_models_from_config_faster_rcnn_without_matmul\n",
      "[ RUN      ] ModelBuilderTF2Test.test_create_faster_rcnn_models_from_config_mask_rcnn_with_matmul\n",
      "INFO:tensorflow:time(__main__.ModelBuilderTF2Test.test_create_faster_rcnn_models_from_config_mask_rcnn_with_matmul): 0.08s\n",
      "I0127 23:13:03.861504 4469710336 test_util.py:2308] time(__main__.ModelBuilderTF2Test.test_create_faster_rcnn_models_from_config_mask_rcnn_with_matmul): 0.08s\n",
      "[       OK ] ModelBuilderTF2Test.test_create_faster_rcnn_models_from_config_mask_rcnn_with_matmul\n",
      "[ RUN      ] ModelBuilderTF2Test.test_create_faster_rcnn_models_from_config_mask_rcnn_without_matmul\n",
      "INFO:tensorflow:time(__main__.ModelBuilderTF2Test.test_create_faster_rcnn_models_from_config_mask_rcnn_without_matmul): 0.07s\n",
      "I0127 23:13:03.934182 4469710336 test_util.py:2308] time(__main__.ModelBuilderTF2Test.test_create_faster_rcnn_models_from_config_mask_rcnn_without_matmul): 0.07s\n",
      "[       OK ] ModelBuilderTF2Test.test_create_faster_rcnn_models_from_config_mask_rcnn_without_matmul\n",
      "[ RUN      ] ModelBuilderTF2Test.test_create_rfcn_model_from_config\n",
      "INFO:tensorflow:time(__main__.ModelBuilderTF2Test.test_create_rfcn_model_from_config): 0.08s\n",
      "I0127 23:13:04.014970 4469710336 test_util.py:2308] time(__main__.ModelBuilderTF2Test.test_create_rfcn_model_from_config): 0.08s\n",
      "[       OK ] ModelBuilderTF2Test.test_create_rfcn_model_from_config\n",
      "[ RUN      ] ModelBuilderTF2Test.test_create_ssd_fpn_model_from_config\n",
      "INFO:tensorflow:time(__main__.ModelBuilderTF2Test.test_create_ssd_fpn_model_from_config): 0.02s\n",
      "I0127 23:13:04.036112 4469710336 test_util.py:2308] time(__main__.ModelBuilderTF2Test.test_create_ssd_fpn_model_from_config): 0.02s\n",
      "[       OK ] ModelBuilderTF2Test.test_create_ssd_fpn_model_from_config\n",
      "[ RUN      ] ModelBuilderTF2Test.test_create_ssd_models_from_config\n",
      "I0127 23:13:04.182018 4469710336 ssd_efficientnet_bifpn_feature_extractor.py:142] EfficientDet EfficientNet backbone version: efficientnet-b0\n",
      "I0127 23:13:04.182114 4469710336 ssd_efficientnet_bifpn_feature_extractor.py:144] EfficientDet BiFPN num filters: 64\n",
      "I0127 23:13:04.182159 4469710336 ssd_efficientnet_bifpn_feature_extractor.py:145] EfficientDet BiFPN num iterations: 3\n",
      "I0127 23:13:04.183753 4469710336 efficientnet_model.py:147] round_filter input=32 output=32\n",
      "I0127 23:13:04.197101 4469710336 efficientnet_model.py:147] round_filter input=32 output=32\n",
      "I0127 23:13:04.197205 4469710336 efficientnet_model.py:147] round_filter input=16 output=16\n",
      "I0127 23:13:04.237040 4469710336 efficientnet_model.py:147] round_filter input=16 output=16\n",
      "I0127 23:13:04.237133 4469710336 efficientnet_model.py:147] round_filter input=24 output=24\n",
      "I0127 23:13:04.353467 4469710336 efficientnet_model.py:147] round_filter input=24 output=24\n",
      "I0127 23:13:04.353569 4469710336 efficientnet_model.py:147] round_filter input=40 output=40\n"
     ]
    },
    {
     "name": "stderr",
     "output_type": "stream",
     "text": [
      "I0127 23:13:04.472257 4469710336 efficientnet_model.py:147] round_filter input=40 output=40\n",
      "I0127 23:13:04.472352 4469710336 efficientnet_model.py:147] round_filter input=80 output=80\n",
      "I0127 23:13:04.632790 4469710336 efficientnet_model.py:147] round_filter input=80 output=80\n",
      "I0127 23:13:04.632881 4469710336 efficientnet_model.py:147] round_filter input=112 output=112\n",
      "I0127 23:13:04.795757 4469710336 efficientnet_model.py:147] round_filter input=112 output=112\n",
      "I0127 23:13:04.795860 4469710336 efficientnet_model.py:147] round_filter input=192 output=192\n",
      "I0127 23:13:05.013242 4469710336 efficientnet_model.py:147] round_filter input=192 output=192\n",
      "I0127 23:13:05.013342 4469710336 efficientnet_model.py:147] round_filter input=320 output=320\n",
      "I0127 23:13:05.067434 4469710336 efficientnet_model.py:147] round_filter input=1280 output=1280\n",
      "I0127 23:13:05.095443 4469710336 efficientnet_model.py:458] Building model efficientnet with params ModelConfig(width_coefficient=1.0, depth_coefficient=1.0, resolution=224, dropout_rate=0.2, blocks=(BlockConfig(input_filters=32, output_filters=16, kernel_size=3, num_repeat=1, expand_ratio=1, strides=(1, 1), se_ratio=0.25, id_skip=True, fused_conv=False, conv_type='depthwise'), BlockConfig(input_filters=16, output_filters=24, kernel_size=3, num_repeat=2, expand_ratio=6, strides=(2, 2), se_ratio=0.25, id_skip=True, fused_conv=False, conv_type='depthwise'), BlockConfig(input_filters=24, output_filters=40, kernel_size=5, num_repeat=2, expand_ratio=6, strides=(2, 2), se_ratio=0.25, id_skip=True, fused_conv=False, conv_type='depthwise'), BlockConfig(input_filters=40, output_filters=80, kernel_size=3, num_repeat=3, expand_ratio=6, strides=(2, 2), se_ratio=0.25, id_skip=True, fused_conv=False, conv_type='depthwise'), BlockConfig(input_filters=80, output_filters=112, kernel_size=5, num_repeat=3, expand_ratio=6, strides=(1, 1), se_ratio=0.25, id_skip=True, fused_conv=False, conv_type='depthwise'), BlockConfig(input_filters=112, output_filters=192, kernel_size=5, num_repeat=4, expand_ratio=6, strides=(2, 2), se_ratio=0.25, id_skip=True, fused_conv=False, conv_type='depthwise'), BlockConfig(input_filters=192, output_filters=320, kernel_size=3, num_repeat=1, expand_ratio=6, strides=(1, 1), se_ratio=0.25, id_skip=True, fused_conv=False, conv_type='depthwise')), stem_base_filters=32, top_base_filters=1280, activation='simple_swish', batch_norm='default', bn_momentum=0.99, bn_epsilon=0.001, weight_decay=5e-06, drop_connect_rate=0.2, depth_divisor=8, min_depth=None, use_se=True, input_channels=3, num_classes=1000, model_name='efficientnet', rescale_input=False, data_format='channels_last', dtype='float32')\n",
      "I0127 23:13:05.259351 4469710336 ssd_efficientnet_bifpn_feature_extractor.py:142] EfficientDet EfficientNet backbone version: efficientnet-b1\n",
      "I0127 23:13:05.259471 4469710336 ssd_efficientnet_bifpn_feature_extractor.py:144] EfficientDet BiFPN num filters: 88\n",
      "I0127 23:13:05.259530 4469710336 ssd_efficientnet_bifpn_feature_extractor.py:145] EfficientDet BiFPN num iterations: 4\n",
      "I0127 23:13:05.261080 4469710336 efficientnet_model.py:147] round_filter input=32 output=32\n",
      "I0127 23:13:05.272996 4469710336 efficientnet_model.py:147] round_filter input=32 output=32\n",
      "I0127 23:13:05.273123 4469710336 efficientnet_model.py:147] round_filter input=16 output=16\n",
      "I0127 23:13:05.355552 4469710336 efficientnet_model.py:147] round_filter input=16 output=16\n",
      "I0127 23:13:05.355648 4469710336 efficientnet_model.py:147] round_filter input=24 output=24\n",
      "I0127 23:13:05.510030 4469710336 efficientnet_model.py:147] round_filter input=24 output=24\n",
      "I0127 23:13:05.510125 4469710336 efficientnet_model.py:147] round_filter input=40 output=40\n",
      "I0127 23:13:05.663360 4469710336 efficientnet_model.py:147] round_filter input=40 output=40\n",
      "I0127 23:13:05.663455 4469710336 efficientnet_model.py:147] round_filter input=80 output=80\n",
      "I0127 23:13:05.871002 4469710336 efficientnet_model.py:147] round_filter input=80 output=80\n",
      "I0127 23:13:05.871097 4469710336 efficientnet_model.py:147] round_filter input=112 output=112\n",
      "I0127 23:13:06.077846 4469710336 efficientnet_model.py:147] round_filter input=112 output=112\n",
      "I0127 23:13:06.077960 4469710336 efficientnet_model.py:147] round_filter input=192 output=192\n",
      "I0127 23:13:06.354600 4469710336 efficientnet_model.py:147] round_filter input=192 output=192\n",
      "I0127 23:13:06.354696 4469710336 efficientnet_model.py:147] round_filter input=320 output=320\n",
      "I0127 23:13:06.466703 4469710336 efficientnet_model.py:147] round_filter input=1280 output=1280\n",
      "I0127 23:13:06.492442 4469710336 efficientnet_model.py:458] Building model efficientnet with params ModelConfig(width_coefficient=1.0, depth_coefficient=1.1, resolution=240, dropout_rate=0.2, blocks=(BlockConfig(input_filters=32, output_filters=16, kernel_size=3, num_repeat=1, expand_ratio=1, strides=(1, 1), se_ratio=0.25, id_skip=True, fused_conv=False, conv_type='depthwise'), BlockConfig(input_filters=16, output_filters=24, kernel_size=3, num_repeat=2, expand_ratio=6, strides=(2, 2), se_ratio=0.25, id_skip=True, fused_conv=False, conv_type='depthwise'), BlockConfig(input_filters=24, output_filters=40, kernel_size=5, num_repeat=2, expand_ratio=6, strides=(2, 2), se_ratio=0.25, id_skip=True, fused_conv=False, conv_type='depthwise'), BlockConfig(input_filters=40, output_filters=80, kernel_size=3, num_repeat=3, expand_ratio=6, strides=(2, 2), se_ratio=0.25, id_skip=True, fused_conv=False, conv_type='depthwise'), BlockConfig(input_filters=80, output_filters=112, kernel_size=5, num_repeat=3, expand_ratio=6, strides=(1, 1), se_ratio=0.25, id_skip=True, fused_conv=False, conv_type='depthwise'), BlockConfig(input_filters=112, output_filters=192, kernel_size=5, num_repeat=4, expand_ratio=6, strides=(2, 2), se_ratio=0.25, id_skip=True, fused_conv=False, conv_type='depthwise'), BlockConfig(input_filters=192, output_filters=320, kernel_size=3, num_repeat=1, expand_ratio=6, strides=(1, 1), se_ratio=0.25, id_skip=True, fused_conv=False, conv_type='depthwise')), stem_base_filters=32, top_base_filters=1280, activation='simple_swish', batch_norm='default', bn_momentum=0.99, bn_epsilon=0.001, weight_decay=5e-06, drop_connect_rate=0.2, depth_divisor=8, min_depth=None, use_se=True, input_channels=3, num_classes=1000, model_name='efficientnet', rescale_input=False, data_format='channels_last', dtype='float32')\n",
      "I0127 23:13:06.539130 4469710336 ssd_efficientnet_bifpn_feature_extractor.py:142] EfficientDet EfficientNet backbone version: efficientnet-b2\n",
      "I0127 23:13:06.539224 4469710336 ssd_efficientnet_bifpn_feature_extractor.py:144] EfficientDet BiFPN num filters: 112\n",
      "I0127 23:13:06.539269 4469710336 ssd_efficientnet_bifpn_feature_extractor.py:145] EfficientDet BiFPN num iterations: 5\n",
      "I0127 23:13:06.540481 4469710336 efficientnet_model.py:147] round_filter input=32 output=32\n",
      "I0127 23:13:06.550618 4469710336 efficientnet_model.py:147] round_filter input=32 output=32\n",
      "I0127 23:13:06.550705 4469710336 efficientnet_model.py:147] round_filter input=16 output=16\n",
      "I0127 23:13:06.632397 4469710336 efficientnet_model.py:147] round_filter input=16 output=16\n",
      "I0127 23:13:06.632492 4469710336 efficientnet_model.py:147] round_filter input=24 output=24\n",
      "I0127 23:13:06.785161 4469710336 efficientnet_model.py:147] round_filter input=24 output=24\n",
      "I0127 23:13:06.785266 4469710336 efficientnet_model.py:147] round_filter input=40 output=48\n",
      "I0127 23:13:06.942655 4469710336 efficientnet_model.py:147] round_filter input=40 output=48\n",
      "I0127 23:13:06.942747 4469710336 efficientnet_model.py:147] round_filter input=80 output=88\n",
      "I0127 23:13:07.151748 4469710336 efficientnet_model.py:147] round_filter input=80 output=88\n",
      "I0127 23:13:07.151853 4469710336 efficientnet_model.py:147] round_filter input=112 output=120\n",
      "I0127 23:13:07.360991 4469710336 efficientnet_model.py:147] round_filter input=112 output=120\n",
      "I0127 23:13:07.361088 4469710336 efficientnet_model.py:147] round_filter input=192 output=208\n",
      "I0127 23:13:07.634977 4469710336 efficientnet_model.py:147] round_filter input=192 output=208\n",
      "I0127 23:13:07.635075 4469710336 efficientnet_model.py:147] round_filter input=320 output=352\n",
      "I0127 23:13:07.752157 4469710336 efficientnet_model.py:147] round_filter input=1280 output=1408\n",
      "I0127 23:13:07.779093 4469710336 efficientnet_model.py:458] Building model efficientnet with params ModelConfig(width_coefficient=1.1, depth_coefficient=1.2, resolution=260, dropout_rate=0.3, blocks=(BlockConfig(input_filters=32, output_filters=16, kernel_size=3, num_repeat=1, expand_ratio=1, strides=(1, 1), se_ratio=0.25, id_skip=True, fused_conv=False, conv_type='depthwise'), BlockConfig(input_filters=16, output_filters=24, kernel_size=3, num_repeat=2, expand_ratio=6, strides=(2, 2), se_ratio=0.25, id_skip=True, fused_conv=False, conv_type='depthwise'), BlockConfig(input_filters=24, output_filters=40, kernel_size=5, num_repeat=2, expand_ratio=6, strides=(2, 2), se_ratio=0.25, id_skip=True, fused_conv=False, conv_type='depthwise'), BlockConfig(input_filters=40, output_filters=80, kernel_size=3, num_repeat=3, expand_ratio=6, strides=(2, 2), se_ratio=0.25, id_skip=True, fused_conv=False, conv_type='depthwise'), BlockConfig(input_filters=80, output_filters=112, kernel_size=5, num_repeat=3, expand_ratio=6, strides=(1, 1), se_ratio=0.25, id_skip=True, fused_conv=False, conv_type='depthwise'), BlockConfig(input_filters=112, output_filters=192, kernel_size=5, num_repeat=4, expand_ratio=6, strides=(2, 2), se_ratio=0.25, id_skip=True, fused_conv=False, conv_type='depthwise'), BlockConfig(input_filters=192, output_filters=320, kernel_size=3, num_repeat=1, expand_ratio=6, strides=(1, 1), se_ratio=0.25, id_skip=True, fused_conv=False, conv_type='depthwise')), stem_base_filters=32, top_base_filters=1280, activation='simple_swish', batch_norm='default', bn_momentum=0.99, bn_epsilon=0.001, weight_decay=5e-06, drop_connect_rate=0.2, depth_divisor=8, min_depth=None, use_se=True, input_channels=3, num_classes=1000, model_name='efficientnet', rescale_input=False, data_format='channels_last', dtype='float32')\n",
      "I0127 23:13:07.826587 4469710336 ssd_efficientnet_bifpn_feature_extractor.py:142] EfficientDet EfficientNet backbone version: efficientnet-b3\n",
      "I0127 23:13:07.826682 4469710336 ssd_efficientnet_bifpn_feature_extractor.py:144] EfficientDet BiFPN num filters: 160\n",
      "I0127 23:13:07.826737 4469710336 ssd_efficientnet_bifpn_feature_extractor.py:145] EfficientDet BiFPN num iterations: 6\n",
      "I0127 23:13:07.828046 4469710336 efficientnet_model.py:147] round_filter input=32 output=40\n"
     ]
    },
    {
     "name": "stderr",
     "output_type": "stream",
     "text": [
      "I0127 23:13:07.838279 4469710336 efficientnet_model.py:147] round_filter input=32 output=40\n",
      "I0127 23:13:07.838364 4469710336 efficientnet_model.py:147] round_filter input=16 output=24\n",
      "I0127 23:13:07.923694 4469710336 efficientnet_model.py:147] round_filter input=16 output=24\n",
      "I0127 23:13:07.923787 4469710336 efficientnet_model.py:147] round_filter input=24 output=32\n",
      "I0127 23:13:08.225881 4469710336 efficientnet_model.py:147] round_filter input=24 output=32\n",
      "I0127 23:13:08.225975 4469710336 efficientnet_model.py:147] round_filter input=40 output=48\n",
      "I0127 23:13:08.379765 4469710336 efficientnet_model.py:147] round_filter input=40 output=48\n",
      "I0127 23:13:08.379858 4469710336 efficientnet_model.py:147] round_filter input=80 output=96\n",
      "I0127 23:13:08.638994 4469710336 efficientnet_model.py:147] round_filter input=80 output=96\n",
      "I0127 23:13:08.639089 4469710336 efficientnet_model.py:147] round_filter input=112 output=136\n",
      "I0127 23:13:08.902281 4469710336 efficientnet_model.py:147] round_filter input=112 output=136\n",
      "I0127 23:13:08.902376 4469710336 efficientnet_model.py:147] round_filter input=192 output=232\n",
      "I0127 23:13:09.236885 4469710336 efficientnet_model.py:147] round_filter input=192 output=232\n",
      "I0127 23:13:09.236979 4469710336 efficientnet_model.py:147] round_filter input=320 output=384\n",
      "I0127 23:13:09.352020 4469710336 efficientnet_model.py:147] round_filter input=1280 output=1536\n",
      "I0127 23:13:09.378285 4469710336 efficientnet_model.py:458] Building model efficientnet with params ModelConfig(width_coefficient=1.2, depth_coefficient=1.4, resolution=300, dropout_rate=0.3, blocks=(BlockConfig(input_filters=32, output_filters=16, kernel_size=3, num_repeat=1, expand_ratio=1, strides=(1, 1), se_ratio=0.25, id_skip=True, fused_conv=False, conv_type='depthwise'), BlockConfig(input_filters=16, output_filters=24, kernel_size=3, num_repeat=2, expand_ratio=6, strides=(2, 2), se_ratio=0.25, id_skip=True, fused_conv=False, conv_type='depthwise'), BlockConfig(input_filters=24, output_filters=40, kernel_size=5, num_repeat=2, expand_ratio=6, strides=(2, 2), se_ratio=0.25, id_skip=True, fused_conv=False, conv_type='depthwise'), BlockConfig(input_filters=40, output_filters=80, kernel_size=3, num_repeat=3, expand_ratio=6, strides=(2, 2), se_ratio=0.25, id_skip=True, fused_conv=False, conv_type='depthwise'), BlockConfig(input_filters=80, output_filters=112, kernel_size=5, num_repeat=3, expand_ratio=6, strides=(1, 1), se_ratio=0.25, id_skip=True, fused_conv=False, conv_type='depthwise'), BlockConfig(input_filters=112, output_filters=192, kernel_size=5, num_repeat=4, expand_ratio=6, strides=(2, 2), se_ratio=0.25, id_skip=True, fused_conv=False, conv_type='depthwise'), BlockConfig(input_filters=192, output_filters=320, kernel_size=3, num_repeat=1, expand_ratio=6, strides=(1, 1), se_ratio=0.25, id_skip=True, fused_conv=False, conv_type='depthwise')), stem_base_filters=32, top_base_filters=1280, activation='simple_swish', batch_norm='default', bn_momentum=0.99, bn_epsilon=0.001, weight_decay=5e-06, drop_connect_rate=0.2, depth_divisor=8, min_depth=None, use_se=True, input_channels=3, num_classes=1000, model_name='efficientnet', rescale_input=False, data_format='channels_last', dtype='float32')\n",
      "I0127 23:13:09.429998 4469710336 ssd_efficientnet_bifpn_feature_extractor.py:142] EfficientDet EfficientNet backbone version: efficientnet-b4\n",
      "I0127 23:13:09.430103 4469710336 ssd_efficientnet_bifpn_feature_extractor.py:144] EfficientDet BiFPN num filters: 224\n",
      "I0127 23:13:09.430152 4469710336 ssd_efficientnet_bifpn_feature_extractor.py:145] EfficientDet BiFPN num iterations: 7\n",
      "I0127 23:13:09.431374 4469710336 efficientnet_model.py:147] round_filter input=32 output=48\n",
      "I0127 23:13:09.441704 4469710336 efficientnet_model.py:147] round_filter input=32 output=48\n",
      "I0127 23:13:09.441792 4469710336 efficientnet_model.py:147] round_filter input=16 output=24\n",
      "I0127 23:13:09.523612 4469710336 efficientnet_model.py:147] round_filter input=16 output=24\n",
      "I0127 23:13:09.523705 4469710336 efficientnet_model.py:147] round_filter input=24 output=32\n",
      "I0127 23:13:09.727621 4469710336 efficientnet_model.py:147] round_filter input=24 output=32\n",
      "I0127 23:13:09.727713 4469710336 efficientnet_model.py:147] round_filter input=40 output=56\n",
      "I0127 23:13:09.930810 4469710336 efficientnet_model.py:147] round_filter input=40 output=56\n",
      "I0127 23:13:09.930905 4469710336 efficientnet_model.py:147] round_filter input=80 output=112\n",
      "I0127 23:13:10.247609 4469710336 efficientnet_model.py:147] round_filter input=80 output=112\n",
      "I0127 23:13:10.247709 4469710336 efficientnet_model.py:147] round_filter input=112 output=160\n",
      "I0127 23:13:10.579762 4469710336 efficientnet_model.py:147] round_filter input=112 output=160\n",
      "I0127 23:13:10.579859 4469710336 efficientnet_model.py:147] round_filter input=192 output=272\n",
      "I0127 23:13:11.037986 4469710336 efficientnet_model.py:147] round_filter input=192 output=272\n",
      "I0127 23:13:11.038079 4469710336 efficientnet_model.py:147] round_filter input=320 output=448\n",
      "I0127 23:13:11.164089 4469710336 efficientnet_model.py:147] round_filter input=1280 output=1792\n",
      "I0127 23:13:11.193206 4469710336 efficientnet_model.py:458] Building model efficientnet with params ModelConfig(width_coefficient=1.4, depth_coefficient=1.8, resolution=380, dropout_rate=0.4, blocks=(BlockConfig(input_filters=32, output_filters=16, kernel_size=3, num_repeat=1, expand_ratio=1, strides=(1, 1), se_ratio=0.25, id_skip=True, fused_conv=False, conv_type='depthwise'), BlockConfig(input_filters=16, output_filters=24, kernel_size=3, num_repeat=2, expand_ratio=6, strides=(2, 2), se_ratio=0.25, id_skip=True, fused_conv=False, conv_type='depthwise'), BlockConfig(input_filters=24, output_filters=40, kernel_size=5, num_repeat=2, expand_ratio=6, strides=(2, 2), se_ratio=0.25, id_skip=True, fused_conv=False, conv_type='depthwise'), BlockConfig(input_filters=40, output_filters=80, kernel_size=3, num_repeat=3, expand_ratio=6, strides=(2, 2), se_ratio=0.25, id_skip=True, fused_conv=False, conv_type='depthwise'), BlockConfig(input_filters=80, output_filters=112, kernel_size=5, num_repeat=3, expand_ratio=6, strides=(1, 1), se_ratio=0.25, id_skip=True, fused_conv=False, conv_type='depthwise'), BlockConfig(input_filters=112, output_filters=192, kernel_size=5, num_repeat=4, expand_ratio=6, strides=(2, 2), se_ratio=0.25, id_skip=True, fused_conv=False, conv_type='depthwise'), BlockConfig(input_filters=192, output_filters=320, kernel_size=3, num_repeat=1, expand_ratio=6, strides=(1, 1), se_ratio=0.25, id_skip=True, fused_conv=False, conv_type='depthwise')), stem_base_filters=32, top_base_filters=1280, activation='simple_swish', batch_norm='default', bn_momentum=0.99, bn_epsilon=0.001, weight_decay=5e-06, drop_connect_rate=0.2, depth_divisor=8, min_depth=None, use_se=True, input_channels=3, num_classes=1000, model_name='efficientnet', rescale_input=False, data_format='channels_last', dtype='float32')\n",
      "I0127 23:13:11.424705 4469710336 ssd_efficientnet_bifpn_feature_extractor.py:142] EfficientDet EfficientNet backbone version: efficientnet-b5\n",
      "I0127 23:13:11.424829 4469710336 ssd_efficientnet_bifpn_feature_extractor.py:144] EfficientDet BiFPN num filters: 288\n",
      "I0127 23:13:11.424891 4469710336 ssd_efficientnet_bifpn_feature_extractor.py:145] EfficientDet BiFPN num iterations: 7\n",
      "I0127 23:13:11.426500 4469710336 efficientnet_model.py:147] round_filter input=32 output=48\n",
      "I0127 23:13:11.439939 4469710336 efficientnet_model.py:147] round_filter input=32 output=48\n",
      "I0127 23:13:11.440066 4469710336 efficientnet_model.py:147] round_filter input=16 output=24\n",
      "I0127 23:13:11.576710 4469710336 efficientnet_model.py:147] round_filter input=16 output=24\n",
      "I0127 23:13:11.576805 4469710336 efficientnet_model.py:147] round_filter input=24 output=40\n",
      "I0127 23:13:11.871611 4469710336 efficientnet_model.py:147] round_filter input=24 output=40\n",
      "I0127 23:13:11.871704 4469710336 efficientnet_model.py:147] round_filter input=40 output=64\n",
      "I0127 23:13:12.213714 4469710336 efficientnet_model.py:147] round_filter input=40 output=64\n",
      "I0127 23:13:12.213829 4469710336 efficientnet_model.py:147] round_filter input=80 output=128\n",
      "I0127 23:13:12.638356 4469710336 efficientnet_model.py:147] round_filter input=80 output=128\n",
      "I0127 23:13:12.638473 4469710336 efficientnet_model.py:147] round_filter input=112 output=176\n"
     ]
    },
    {
     "name": "stderr",
     "output_type": "stream",
     "text": [
      "I0127 23:13:13.035346 4469710336 efficientnet_model.py:147] round_filter input=112 output=176\n",
      "I0127 23:13:13.035454 4469710336 efficientnet_model.py:147] round_filter input=192 output=304\n",
      "I0127 23:13:13.682301 4469710336 efficientnet_model.py:147] round_filter input=192 output=304\n",
      "I0127 23:13:13.682395 4469710336 efficientnet_model.py:147] round_filter input=320 output=512\n",
      "I0127 23:13:13.884754 4469710336 efficientnet_model.py:147] round_filter input=1280 output=2048\n",
      "I0127 23:13:13.920439 4469710336 efficientnet_model.py:458] Building model efficientnet with params ModelConfig(width_coefficient=1.6, depth_coefficient=2.2, resolution=456, dropout_rate=0.4, blocks=(BlockConfig(input_filters=32, output_filters=16, kernel_size=3, num_repeat=1, expand_ratio=1, strides=(1, 1), se_ratio=0.25, id_skip=True, fused_conv=False, conv_type='depthwise'), BlockConfig(input_filters=16, output_filters=24, kernel_size=3, num_repeat=2, expand_ratio=6, strides=(2, 2), se_ratio=0.25, id_skip=True, fused_conv=False, conv_type='depthwise'), BlockConfig(input_filters=24, output_filters=40, kernel_size=5, num_repeat=2, expand_ratio=6, strides=(2, 2), se_ratio=0.25, id_skip=True, fused_conv=False, conv_type='depthwise'), BlockConfig(input_filters=40, output_filters=80, kernel_size=3, num_repeat=3, expand_ratio=6, strides=(2, 2), se_ratio=0.25, id_skip=True, fused_conv=False, conv_type='depthwise'), BlockConfig(input_filters=80, output_filters=112, kernel_size=5, num_repeat=3, expand_ratio=6, strides=(1, 1), se_ratio=0.25, id_skip=True, fused_conv=False, conv_type='depthwise'), BlockConfig(input_filters=112, output_filters=192, kernel_size=5, num_repeat=4, expand_ratio=6, strides=(2, 2), se_ratio=0.25, id_skip=True, fused_conv=False, conv_type='depthwise'), BlockConfig(input_filters=192, output_filters=320, kernel_size=3, num_repeat=1, expand_ratio=6, strides=(1, 1), se_ratio=0.25, id_skip=True, fused_conv=False, conv_type='depthwise')), stem_base_filters=32, top_base_filters=1280, activation='simple_swish', batch_norm='default', bn_momentum=0.99, bn_epsilon=0.001, weight_decay=5e-06, drop_connect_rate=0.2, depth_divisor=8, min_depth=None, use_se=True, input_channels=3, num_classes=1000, model_name='efficientnet', rescale_input=False, data_format='channels_last', dtype='float32')\n",
      "I0127 23:13:13.996680 4469710336 ssd_efficientnet_bifpn_feature_extractor.py:142] EfficientDet EfficientNet backbone version: efficientnet-b6\n",
      "I0127 23:13:13.996794 4469710336 ssd_efficientnet_bifpn_feature_extractor.py:144] EfficientDet BiFPN num filters: 384\n",
      "I0127 23:13:13.996843 4469710336 ssd_efficientnet_bifpn_feature_extractor.py:145] EfficientDet BiFPN num iterations: 8\n",
      "I0127 23:13:13.998218 4469710336 efficientnet_model.py:147] round_filter input=32 output=56\n",
      "I0127 23:13:14.010417 4469710336 efficientnet_model.py:147] round_filter input=32 output=56\n",
      "I0127 23:13:14.010521 4469710336 efficientnet_model.py:147] round_filter input=16 output=32\n",
      "I0127 23:13:14.178247 4469710336 efficientnet_model.py:147] round_filter input=16 output=32\n",
      "I0127 23:13:14.178363 4469710336 efficientnet_model.py:147] round_filter input=24 output=40\n",
      "I0127 23:13:14.568022 4469710336 efficientnet_model.py:147] round_filter input=24 output=40\n",
      "I0127 23:13:14.568114 4469710336 efficientnet_model.py:147] round_filter input=40 output=72\n",
      "I0127 23:13:14.878140 4469710336 efficientnet_model.py:147] round_filter input=40 output=72\n",
      "I0127 23:13:14.878234 4469710336 efficientnet_model.py:147] round_filter input=80 output=144\n",
      "I0127 23:13:15.614575 4469710336 efficientnet_model.py:147] round_filter input=80 output=144\n",
      "I0127 23:13:15.614670 4469710336 efficientnet_model.py:147] round_filter input=112 output=200\n",
      "I0127 23:13:16.059739 4469710336 efficientnet_model.py:147] round_filter input=112 output=200\n",
      "I0127 23:13:16.059864 4469710336 efficientnet_model.py:147] round_filter input=192 output=344\n",
      "I0127 23:13:16.802727 4469710336 efficientnet_model.py:147] round_filter input=192 output=344\n",
      "I0127 23:13:16.802849 4469710336 efficientnet_model.py:147] round_filter input=320 output=576\n",
      "I0127 23:13:17.043570 4469710336 efficientnet_model.py:147] round_filter input=1280 output=2304\n",
      "I0127 23:13:17.088115 4469710336 efficientnet_model.py:458] Building model efficientnet with params ModelConfig(width_coefficient=1.8, depth_coefficient=2.6, resolution=528, dropout_rate=0.5, blocks=(BlockConfig(input_filters=32, output_filters=16, kernel_size=3, num_repeat=1, expand_ratio=1, strides=(1, 1), se_ratio=0.25, id_skip=True, fused_conv=False, conv_type='depthwise'), BlockConfig(input_filters=16, output_filters=24, kernel_size=3, num_repeat=2, expand_ratio=6, strides=(2, 2), se_ratio=0.25, id_skip=True, fused_conv=False, conv_type='depthwise'), BlockConfig(input_filters=24, output_filters=40, kernel_size=5, num_repeat=2, expand_ratio=6, strides=(2, 2), se_ratio=0.25, id_skip=True, fused_conv=False, conv_type='depthwise'), BlockConfig(input_filters=40, output_filters=80, kernel_size=3, num_repeat=3, expand_ratio=6, strides=(2, 2), se_ratio=0.25, id_skip=True, fused_conv=False, conv_type='depthwise'), BlockConfig(input_filters=80, output_filters=112, kernel_size=5, num_repeat=3, expand_ratio=6, strides=(1, 1), se_ratio=0.25, id_skip=True, fused_conv=False, conv_type='depthwise'), BlockConfig(input_filters=112, output_filters=192, kernel_size=5, num_repeat=4, expand_ratio=6, strides=(2, 2), se_ratio=0.25, id_skip=True, fused_conv=False, conv_type='depthwise'), BlockConfig(input_filters=192, output_filters=320, kernel_size=3, num_repeat=1, expand_ratio=6, strides=(1, 1), se_ratio=0.25, id_skip=True, fused_conv=False, conv_type='depthwise')), stem_base_filters=32, top_base_filters=1280, activation='simple_swish', batch_norm='default', bn_momentum=0.99, bn_epsilon=0.001, weight_decay=5e-06, drop_connect_rate=0.2, depth_divisor=8, min_depth=None, use_se=True, input_channels=3, num_classes=1000, model_name='efficientnet', rescale_input=False, data_format='channels_last', dtype='float32')\n",
      "I0127 23:13:17.190362 4469710336 ssd_efficientnet_bifpn_feature_extractor.py:142] EfficientDet EfficientNet backbone version: efficientnet-b7\n",
      "I0127 23:13:17.190484 4469710336 ssd_efficientnet_bifpn_feature_extractor.py:144] EfficientDet BiFPN num filters: 384\n",
      "I0127 23:13:17.190541 4469710336 ssd_efficientnet_bifpn_feature_extractor.py:145] EfficientDet BiFPN num iterations: 8\n",
      "I0127 23:13:17.192130 4469710336 efficientnet_model.py:147] round_filter input=32 output=64\n",
      "I0127 23:13:17.205821 4469710336 efficientnet_model.py:147] round_filter input=32 output=64\n",
      "I0127 23:13:17.205933 4469710336 efficientnet_model.py:147] round_filter input=16 output=32\n",
      "I0127 23:13:17.433754 4469710336 efficientnet_model.py:147] round_filter input=16 output=32\n",
      "I0127 23:13:17.433856 4469710336 efficientnet_model.py:147] round_filter input=24 output=48\n",
      "I0127 23:13:17.823026 4469710336 efficientnet_model.py:147] round_filter input=24 output=48\n",
      "I0127 23:13:17.823119 4469710336 efficientnet_model.py:147] round_filter input=40 output=80\n",
      "I0127 23:13:18.239586 4469710336 efficientnet_model.py:147] round_filter input=40 output=80\n",
      "I0127 23:13:18.239683 4469710336 efficientnet_model.py:147] round_filter input=80 output=160\n",
      "I0127 23:13:18.782246 4469710336 efficientnet_model.py:147] round_filter input=80 output=160\n",
      "I0127 23:13:18.782339 4469710336 efficientnet_model.py:147] round_filter input=112 output=224\n",
      "I0127 23:13:19.365854 4469710336 efficientnet_model.py:147] round_filter input=112 output=224\n",
      "I0127 23:13:19.365947 4469710336 efficientnet_model.py:147] round_filter input=192 output=384\n",
      "I0127 23:13:20.380950 4469710336 efficientnet_model.py:147] round_filter input=192 output=384\n",
      "I0127 23:13:20.381042 4469710336 efficientnet_model.py:147] round_filter input=320 output=640\n",
      "I0127 23:13:20.693582 4469710336 efficientnet_model.py:147] round_filter input=1280 output=2560\n",
      "I0127 23:13:20.732552 4469710336 efficientnet_model.py:458] Building model efficientnet with params ModelConfig(width_coefficient=2.0, depth_coefficient=3.1, resolution=600, dropout_rate=0.5, blocks=(BlockConfig(input_filters=32, output_filters=16, kernel_size=3, num_repeat=1, expand_ratio=1, strides=(1, 1), se_ratio=0.25, id_skip=True, fused_conv=False, conv_type='depthwise'), BlockConfig(input_filters=16, output_filters=24, kernel_size=3, num_repeat=2, expand_ratio=6, strides=(2, 2), se_ratio=0.25, id_skip=True, fused_conv=False, conv_type='depthwise'), BlockConfig(input_filters=24, output_filters=40, kernel_size=5, num_repeat=2, expand_ratio=6, strides=(2, 2), se_ratio=0.25, id_skip=True, fused_conv=False, conv_type='depthwise'), BlockConfig(input_filters=40, output_filters=80, kernel_size=3, num_repeat=3, expand_ratio=6, strides=(2, 2), se_ratio=0.25, id_skip=True, fused_conv=False, conv_type='depthwise'), BlockConfig(input_filters=80, output_filters=112, kernel_size=5, num_repeat=3, expand_ratio=6, strides=(1, 1), se_ratio=0.25, id_skip=True, fused_conv=False, conv_type='depthwise'), BlockConfig(input_filters=112, output_filters=192, kernel_size=5, num_repeat=4, expand_ratio=6, strides=(2, 2), se_ratio=0.25, id_skip=True, fused_conv=False, conv_type='depthwise'), BlockConfig(input_filters=192, output_filters=320, kernel_size=3, num_repeat=1, expand_ratio=6, strides=(1, 1), se_ratio=0.25, id_skip=True, fused_conv=False, conv_type='depthwise')), stem_base_filters=32, top_base_filters=1280, activation='simple_swish', batch_norm='default', bn_momentum=0.99, bn_epsilon=0.001, weight_decay=5e-06, drop_connect_rate=0.2, depth_divisor=8, min_depth=None, use_se=True, input_channels=3, num_classes=1000, model_name='efficientnet', rescale_input=False, data_format='channels_last', dtype='float32')\n",
      "INFO:tensorflow:time(__main__.ModelBuilderTF2Test.test_create_ssd_models_from_config): 16.79s\n",
      "I0127 23:13:20.830381 4469710336 test_util.py:2308] time(__main__.ModelBuilderTF2Test.test_create_ssd_models_from_config): 16.79s\n",
      "[       OK ] ModelBuilderTF2Test.test_create_ssd_models_from_config\n",
      "[ RUN      ] ModelBuilderTF2Test.test_invalid_faster_rcnn_batchnorm_update\n",
      "INFO:tensorflow:time(__main__.ModelBuilderTF2Test.test_invalid_faster_rcnn_batchnorm_update): 0.0s\n",
      "I0127 23:13:20.837478 4469710336 test_util.py:2308] time(__main__.ModelBuilderTF2Test.test_invalid_faster_rcnn_batchnorm_update): 0.0s\n",
      "[       OK ] ModelBuilderTF2Test.test_invalid_faster_rcnn_batchnorm_update\n",
      "[ RUN      ] ModelBuilderTF2Test.test_invalid_first_stage_nms_iou_threshold\n",
      "INFO:tensorflow:time(__main__.ModelBuilderTF2Test.test_invalid_first_stage_nms_iou_threshold): 0.0s\n",
      "I0127 23:13:20.838735 4469710336 test_util.py:2308] time(__main__.ModelBuilderTF2Test.test_invalid_first_stage_nms_iou_threshold): 0.0s\n",
      "[       OK ] ModelBuilderTF2Test.test_invalid_first_stage_nms_iou_threshold\n",
      "[ RUN      ] ModelBuilderTF2Test.test_invalid_model_config_proto\n",
      "INFO:tensorflow:time(__main__.ModelBuilderTF2Test.test_invalid_model_config_proto): 0.0s\n",
      "I0127 23:13:20.839024 4469710336 test_util.py:2308] time(__main__.ModelBuilderTF2Test.test_invalid_model_config_proto): 0.0s\n",
      "[       OK ] ModelBuilderTF2Test.test_invalid_model_config_proto\n",
      "[ RUN      ] ModelBuilderTF2Test.test_invalid_second_stage_batch_size\n",
      "INFO:tensorflow:time(__main__.ModelBuilderTF2Test.test_invalid_second_stage_batch_size): 0.0s\n",
      "I0127 23:13:20.840182 4469710336 test_util.py:2308] time(__main__.ModelBuilderTF2Test.test_invalid_second_stage_batch_size): 0.0s\n",
      "[       OK ] ModelBuilderTF2Test.test_invalid_second_stage_batch_size\n",
      "[ RUN      ] ModelBuilderTF2Test.test_session\n",
      "[  SKIPPED ] ModelBuilderTF2Test.test_session\n",
      "[ RUN      ] ModelBuilderTF2Test.test_unknown_faster_rcnn_feature_extractor\n",
      "INFO:tensorflow:time(__main__.ModelBuilderTF2Test.test_unknown_faster_rcnn_feature_extractor): 0.0s\n",
      "I0127 23:13:20.841294 4469710336 test_util.py:2308] time(__main__.ModelBuilderTF2Test.test_unknown_faster_rcnn_feature_extractor): 0.0s\n",
      "[       OK ] ModelBuilderTF2Test.test_unknown_faster_rcnn_feature_extractor\n",
      "[ RUN      ] ModelBuilderTF2Test.test_unknown_meta_architecture\n",
      "INFO:tensorflow:time(__main__.ModelBuilderTF2Test.test_unknown_meta_architecture): 0.0s\n",
      "I0127 23:13:20.841567 4469710336 test_util.py:2308] time(__main__.ModelBuilderTF2Test.test_unknown_meta_architecture): 0.0s\n",
      "[       OK ] ModelBuilderTF2Test.test_unknown_meta_architecture\n",
      "[ RUN      ] ModelBuilderTF2Test.test_unknown_ssd_feature_extractor\n",
      "INFO:tensorflow:time(__main__.ModelBuilderTF2Test.test_unknown_ssd_feature_extractor): 0.0s\n",
      "I0127 23:13:20.842342 4469710336 test_util.py:2308] time(__main__.ModelBuilderTF2Test.test_unknown_ssd_feature_extractor): 0.0s\n",
      "[       OK ] ModelBuilderTF2Test.test_unknown_ssd_feature_extractor\n",
      "----------------------------------------------------------------------\n",
      "Ran 24 tests in 20.431s\n",
      "\n",
      "OK (skipped=1)\n"
     ]
    }
   ],
   "source": [
    "trn.run_varification_script(trn.configs.paths.VERIFICATION_SCRIPT_PATH)"
   ]
  },
  {
   "cell_type": "code",
   "execution_count": 9,
   "metadata": {},
   "outputs": [
    {
     "name": "stderr",
     "output_type": "stream",
     "text": [
      "--2022-02-16 17:49:24--  http://download.tensorflow.org/models/object_detection/tf2/20200711/ssd_mobilenet_v2_fpnlite_320x320_coco17_tpu-8.tar.gz\n",
      "Resolving download.tensorflow.org (download.tensorflow.org)... 142.250.185.144\n",
      "Connecting to download.tensorflow.org (download.tensorflow.org)|142.250.185.144|:80... connected.\n",
      "HTTP request sent, awaiting response... 200 OK\n",
      "Length: 20515344 (20M) [application/x-tar]\n",
      "Saving to: ‘ssd_mobilenet_v2_fpnlite_320x320_coco17_tpu-8.tar.gz’\n",
      "\n",
      "     0K .......... .......... .......... .......... ..........  0%  299K 67s\n",
      "    50K .......... .......... .......... .......... ..........  0%  709K 47s\n",
      "   100K .......... .......... .......... .......... ..........  0% 1.53M 36s\n",
      "   150K .......... .......... .......... .......... ..........  0% 75.4K 93s\n",
      "   200K .......... .......... .......... .......... ..........  1% 1.57M 76s\n",
      "   250K .......... .......... .......... .......... ..........  1% 1.63M 65s\n",
      "   300K .......... .......... .......... .......... ..........  1% 80.9K 91s\n",
      "   350K .......... .......... .......... .......... ..........  1% 1.47M 81s\n",
      "   400K .......... .......... .......... .......... ..........  2% 1.44M 73s\n",
      "   450K .......... .......... .......... .......... ....x ssd_mobilenet_v2_fpnlite_320x320_coco17_tpu-8/\n",
      "x ssd_mobilenet_v2_fpnlite_320x320_coco17_tpu-8/checkpoint/\n",
      "x ssd_mobilenet_v2_fpnlite_320x320_coco17_tpu-8/checkpoint/ckpt-0.data-00000-of-00001: truncated gzip input\n",
      "tar: Error exit delayed from previous errors.\n"
     ]
    }
   ],
   "source": [
    "trn.download_pre_trained_models(PRETRAINED_MODEL_URL  = trn.configs.PRETRAINED_MODEL_URL,\n",
    "                                PRETRAINED_MODEL_NAME = trn.configs.PRETRAINED_MODEL_NAME,\n",
    "                                PRETRAINED_MODEL_PATH = trn.configs.paths.PRETRAINED_MODEL_PATH)"
   ]
  },
  {
   "cell_type": "markdown",
   "metadata": {
    "id": "M5KJTnkfpfDC"
   },
   "source": [
    "# 2. Create Label Map"
   ]
  },
  {
   "cell_type": "code",
   "execution_count": 8,
   "metadata": {},
   "outputs": [
    {
     "data": {
      "text/plain": [
       "'Tensorflow/workspace/annotations/label_map.pbtxt'"
      ]
     },
     "execution_count": 8,
     "metadata": {},
     "output_type": "execute_result"
    }
   ],
   "source": [
    "trn.configs.files.LABELMAP\n"
   ]
  },
  {
   "cell_type": "code",
   "execution_count": 9,
   "metadata": {},
   "outputs": [
    {
     "data": {
      "text/plain": [
       "'Tensorflow/workspace/drinking-images_3'"
      ]
     },
     "execution_count": 9,
     "metadata": {},
     "output_type": "execute_result"
    }
   ],
   "source": [
    "trn.configs.paths.IMAGE_PATH"
   ]
  },
  {
   "cell_type": "code",
   "execution_count": 10,
   "metadata": {},
   "outputs": [
    {
     "data": {
      "text/plain": [
       "[{'name': 'drinking', 'id': 1},\n",
       " {'name': 'drinking_b', 'id': 2},\n",
       " {'name': 'eating_b', 'id': 3},\n",
       " {'name': 'eating_s', 'id': 4},\n",
       " {'name': 'eating_24', 'id': 5},\n",
       " {'name': 'mashroom', 'id': 6},\n",
       " {'name': 'freeFS', 'id': 7}]"
      ]
     },
     "execution_count": 10,
     "metadata": {},
     "output_type": "execute_result"
    }
   ],
   "source": [
    "trn.configs.labels"
   ]
  },
  {
   "cell_type": "code",
   "execution_count": 11,
   "metadata": {},
   "outputs": [
    {
     "data": {
      "text/plain": [
       "'Tensorflow/workspace/annotations/label_map.pbtxt'"
      ]
     },
     "execution_count": 11,
     "metadata": {},
     "output_type": "execute_result"
    }
   ],
   "source": [
    "trn.configs.files.LABELMAP"
   ]
  },
  {
   "cell_type": "code",
   "execution_count": 12,
   "metadata": {},
   "outputs": [
    {
     "data": {
      "text/plain": [
       "'Tensorflow/scripts/generate_tfrecord.py'"
      ]
     },
     "execution_count": 12,
     "metadata": {},
     "output_type": "execute_result"
    }
   ],
   "source": [
    "trn.configs.files.TF_RECORD_SCRIPT"
   ]
  },
  {
   "cell_type": "code",
   "execution_count": 14,
   "metadata": {},
   "outputs": [],
   "source": [
    "trn.create_label_map(labels = trn.configs.labels,\n",
    "                     label_map_path = trn.configs.files.LABELMAP)"
   ]
  },
  {
   "cell_type": "code",
   "execution_count": 14,
   "metadata": {},
   "outputs": [
    {
     "data": {
      "text/plain": [
       "'Tensorflow/scripts'"
      ]
     },
     "execution_count": 14,
     "metadata": {},
     "output_type": "execute_result"
    }
   ],
   "source": [
    "trn.configs.paths.SCRIPTS_PATH"
   ]
  },
  {
   "cell_type": "markdown",
   "metadata": {
    "id": "C88zyVELpfDC"
   },
   "source": [
    "# 3. Create TF records"
   ]
  },
  {
   "cell_type": "code",
   "execution_count": 17,
   "metadata": {},
   "outputs": [
    {
     "data": {
      "text/plain": [
       "'Tensorflow/workspace/drinking-images_3'"
      ]
     },
     "execution_count": 17,
     "metadata": {},
     "output_type": "execute_result"
    }
   ],
   "source": [
    "trn.configs.paths.IMAGE_PATH"
   ]
  },
  {
   "cell_type": "code",
   "execution_count": 4,
   "metadata": {},
   "outputs": [
    {
     "name": "stderr",
     "output_type": "stream",
     "text": [
      "Traceback (most recent call last):\n",
      "  File \"/Users/raz.shmuely/Documents/privet/chickens/production-project/object_detection_project/TFODCourse/Tensorflow/scripts/generate_tfrecord.py\", line 168, in <module>\n",
      "    tf.app.run()\n",
      "  File \"/Users/raz.shmuely/Documents/privet/chickens/object-detection-course/TFODCourse/tfod/lib/python3.9/site-packages/tensorflow/python/platform/app.py\", line 40, in run\n",
      "    _run(main=main, argv=argv, flags_parser=_parse_flags_tolerate_undef)\n",
      "  File \"/Users/raz.shmuely/Documents/privet/chickens/object-detection-course/TFODCourse/tfod/lib/python3.9/site-packages/absl/app.py\", line 303, in run\n",
      "    _run_main(main, args)\n",
      "  File \"/Users/raz.shmuely/Documents/privet/chickens/object-detection-course/TFODCourse/tfod/lib/python3.9/site-packages/absl/app.py\", line 251, in _run_main\n",
      "    sys.exit(main(argv))\n",
      "  File \"/Users/raz.shmuely/Documents/privet/chickens/production-project/object_detection_project/TFODCourse/Tensorflow/scripts/generate_tfrecord.py\", line 158, in main\n",
      "    tf_example = create_tf_example(group, path)\n",
      "  File \"/Users/raz.shmuely/Documents/privet/chickens/production-project/object_detection_project/TFODCourse/Tensorflow/scripts/generate_tfrecord.py\", line 135, in create_tf_example\n",
      "    'image/height': dataset_util.int64_feature(height),\n",
      "  File \"/Users/raz.shmuely/Documents/privet/chickens/object-detection-course/TFODCourse/tfod/lib/python3.9/site-packages/object_detection/utils/dataset_util.py\", line 26, in int64_feature\n",
      "    return tf.trainingPreperations.Feature(int64_list=tf.trainingPreperations.Int64List(value=[value]))\n",
      "AttributeError: module 'tensorflow.compat.v1' has no attribute 'trainingPreperations'\n",
      "Traceback (most recent call last):\n",
      "  File \"/Users/raz.shmuely/Documents/privet/chickens/production-project/object_detection_project/TFODCourse/Tensorflow/scripts/generate_tfrecord.py\", line 168, in <module>\n",
      "    tf.app.run()\n",
      "  File \"/Users/raz.shmuely/Documents/privet/chickens/object-detection-course/TFODCourse/tfod/lib/python3.9/site-packages/tensorflow/python/platform/app.py\", line 40, in run\n",
      "    _run(main=main, argv=argv, flags_parser=_parse_flags_tolerate_undef)\n",
      "  File \"/Users/raz.shmuely/Documents/privet/chickens/object-detection-course/TFODCourse/tfod/lib/python3.9/site-packages/absl/app.py\", line 303, in run\n",
      "    _run_main(main, args)\n",
      "  File \"/Users/raz.shmuely/Documents/privet/chickens/object-detection-course/TFODCourse/tfod/lib/python3.9/site-packages/absl/app.py\", line 251, in _run_main\n",
      "    sys.exit(main(argv))\n",
      "  File \"/Users/raz.shmuely/Documents/privet/chickens/production-project/object_detection_project/TFODCourse/Tensorflow/scripts/generate_tfrecord.py\", line 158, in main\n",
      "    tf_example = create_tf_example(group, path)\n",
      "  File \"/Users/raz.shmuely/Documents/privet/chickens/production-project/object_detection_project/TFODCourse/Tensorflow/scripts/generate_tfrecord.py\", line 135, in create_tf_example\n",
      "    'image/height': dataset_util.int64_feature(height),\n",
      "  File \"/Users/raz.shmuely/Documents/privet/chickens/object-detection-course/TFODCourse/tfod/lib/python3.9/site-packages/object_detection/utils/dataset_util.py\", line 26, in int64_feature\n",
      "    return tf.trainingPreperations.Feature(int64_list=tf.trainingPreperations.Int64List(value=[value]))\n",
      "AttributeError: module 'tensorflow.compat.v1' has no attribute 'trainingPreperations'\n"
     ]
    }
   ],
   "source": [
    "trn.generate_tf_records()"
   ]
  },
  {
   "cell_type": "markdown",
   "metadata": {
    "id": "qT4QU7pLpfDE"
   },
   "source": [
    "# 4. Copy Model Config to Training Folder"
   ]
  },
  {
   "cell_type": "code",
   "execution_count": 37,
   "metadata": {},
   "outputs": [
    {
     "data": {
      "text/plain": [
       "'Tensorflow/workspace/pre-trained-models'"
      ]
     },
     "execution_count": 37,
     "metadata": {},
     "output_type": "execute_result"
    }
   ],
   "source": [
    "trn.configs.paths.PRETRAINED_MODEL_PATH"
   ]
  },
  {
   "cell_type": "code",
   "execution_count": 38,
   "metadata": {},
   "outputs": [],
   "source": [
    "# Define path to copy from \n",
    "path_from = os.path.join(trn.configs.paths.PRETRAINED_MODEL_PATH, \n",
    "                         trn.configs.PRETRAINED_MODEL_NAME, \n",
    "                         'pipeline.config')\n",
    "\n",
    "# Path to past into\n",
    "path_to = os.path.join(trn.configs.paths.CHECKPOINT_PATH)\n",
    "\n",
    "# run copy model configs\n",
    "trn.copy_model_configs(path_from = path_from, path_to = path_to)"
   ]
  },
  {
   "cell_type": "markdown",
   "metadata": {
    "id": "Ga8gpNslpfDF"
   },
   "source": [
    "# 5. Update Config For Transfer Learning"
   ]
  },
  {
   "cell_type": "code",
   "execution_count": 3,
   "metadata": {},
   "outputs": [],
   "source": [
    "trnning = training(trn.configs)\n",
    "config = trnning.get_configs_from_pipeline()\n",
    "trnning.custom_train_configs()"
   ]
  },
  {
   "cell_type": "markdown",
   "metadata": {
    "id": "Zr3ON7xMpfDG"
   },
   "source": [
    "# 6. Train the model"
   ]
  },
  {
   "cell_type": "code",
   "execution_count": 5,
   "metadata": {},
   "outputs": [
    {
     "name": "stdout",
     "output_type": "stream",
     "text": [
      "python Tensorflow/models/research/object_detection/model_main_tf2.py --model_dir=Tensorflow/workspace/models/drinking_chickens_3 --pipeline_config_path=Tensorflow/workspace/models/drinking_chickens_3/pipeline.config --num_train_steps=20000\n"
     ]
    }
   ],
   "source": [
    "command = trnning.print_train_command(num_train_steps =20000)\n",
    "print(command)"
   ]
  },
  {
   "cell_type": "markdown",
   "metadata": {
    "id": "4_YRZu7npfDH"
   },
   "source": [
    "# 7. Evaluate the Model"
   ]
  },
  {
   "cell_type": "code",
   "execution_count": 16,
   "metadata": {
    "id": "80L7-fdPpfDH"
   },
   "outputs": [
    {
     "name": "stdout",
     "output_type": "stream",
     "text": [
      "python Tensorflow/models/research/object_detection/model_main_tf2.py --model_dir=Tensorflow/workspace/models/drinking_chickens_3 --pipeline_config_path=Tensorflow/workspace/models/drinking_chickens_3/pipeline.config --checkpoint_dir=Tensorflow/workspace/models/drinking_chickens_3\n"
     ]
    }
   ],
   "source": [
    "command = trnning.evaluate_model()\n",
    "print(command)"
   ]
  },
  {
   "cell_type": "code",
   "execution_count": 17,
   "metadata": {
    "scrolled": true
   },
   "outputs": [
    {
     "name": "stdout",
     "output_type": "stream",
     "text": [
      "WARNING:tensorflow:Forced number of epochs for all eval validations to be 1.\n",
      "W0206 11:36:16.800739 4619771392 model_lib_v2.py:1081] Forced number of epochs for all eval validations to be 1.\n",
      "INFO:tensorflow:Maybe overwriting sample_1_of_n_eval_examples: None\n",
      "I0206 11:36:16.801269 4619771392 config_util.py:552] Maybe overwriting sample_1_of_n_eval_examples: None\n",
      "INFO:tensorflow:Maybe overwriting use_bfloat16: False\n",
      "I0206 11:36:16.801422 4619771392 config_util.py:552] Maybe overwriting use_bfloat16: False\n",
      "INFO:tensorflow:Maybe overwriting eval_num_epochs: 1\n",
      "I0206 11:36:16.801503 4619771392 config_util.py:552] Maybe overwriting eval_num_epochs: 1\n",
      "WARNING:tensorflow:Expected number of evaluation epochs is 1, but instead encountered `eval_on_train_input_config.num_epochs` = 0. Overwriting `num_epochs` to 1.\n",
      "W0206 11:36:16.801693 4619771392 model_lib_v2.py:1099] Expected number of evaluation epochs is 1, but instead encountered `eval_on_train_input_config.num_epochs` = 0. Overwriting `num_epochs` to 1.\n",
      "2022-02-06 11:36:16.806547: I tensorflow/core/platform/cpu_feature_guard.cc:142] This TensorFlow binary is optimized with oneAPI Deep Neural Network Library (oneDNN) to use the following CPU instructions in performance-critical operations:  AVX2 FMA\n",
      "To enable them in other operations, rebuild TensorFlow with the appropriate compiler flags.\n",
      "INFO:tensorflow:Reading unweighted datasets: ['Tensorflow/workspace/annotations/test.record']\n",
      "I0206 11:36:16.864666 4619771392 dataset_builder.py:163] Reading unweighted datasets: ['Tensorflow/workspace/annotations/test.record']\n",
      "INFO:tensorflow:Reading record datasets for input file: ['Tensorflow/workspace/annotations/test.record']\n",
      "I0206 11:36:16.865407 4619771392 dataset_builder.py:80] Reading record datasets for input file: ['Tensorflow/workspace/annotations/test.record']\n",
      "INFO:tensorflow:Number of filenames to read: 1\n",
      "I0206 11:36:16.865570 4619771392 dataset_builder.py:81] Number of filenames to read: 1\n",
      "WARNING:tensorflow:num_readers has been reduced to 1 to match input file shards.\n",
      "W0206 11:36:16.865698 4619771392 dataset_builder.py:87] num_readers has been reduced to 1 to match input file shards.\n",
      "WARNING:tensorflow:From /Users/raz.shmuely/Documents/privet/chickens/object-detection-course/TFODCourse/tfod/lib/python3.9/site-packages/object_detection/builders/dataset_builder.py:101: parallel_interleave (from tensorflow.python.data.experimental.ops.interleave_ops) is deprecated and will be removed in a future version.\n",
      "Instructions for updating:\n",
      "Use `tf.data.Dataset.interleave(map_func, cycle_length, block_length, num_parallel_calls=tf.data.AUTOTUNE)` instead. If sloppy execution is desired, use `tf.data.Options.experimental_deterministic`.\n",
      "W0206 11:36:16.868141 4619771392 deprecation.py:339] From /Users/raz.shmuely/Documents/privet/chickens/object-detection-course/TFODCourse/tfod/lib/python3.9/site-packages/object_detection/builders/dataset_builder.py:101: parallel_interleave (from tensorflow.python.data.experimental.ops.interleave_ops) is deprecated and will be removed in a future version.\n",
      "Instructions for updating:\n",
      "Use `tf.data.Dataset.interleave(map_func, cycle_length, block_length, num_parallel_calls=tf.data.AUTOTUNE)` instead. If sloppy execution is desired, use `tf.data.Options.experimental_deterministic`.\n",
      "WARNING:tensorflow:From /Users/raz.shmuely/Documents/privet/chickens/object-detection-course/TFODCourse/tfod/lib/python3.9/site-packages/object_detection/builders/dataset_builder.py:236: DatasetV1.map_with_legacy_function (from tensorflow.python.data.ops.dataset_ops) is deprecated and will be removed in a future version.\n",
      "Instructions for updating:\n",
      "Use `tf.data.Dataset.map()\n",
      "W0206 11:36:16.923577 4619771392 deprecation.py:339] From /Users/raz.shmuely/Documents/privet/chickens/object-detection-course/TFODCourse/tfod/lib/python3.9/site-packages/object_detection/builders/dataset_builder.py:236: DatasetV1.map_with_legacy_function (from tensorflow.python.data.ops.dataset_ops) is deprecated and will be removed in a future version.\n",
      "Instructions for updating:\n",
      "Use `tf.data.Dataset.map()\n",
      "WARNING:tensorflow:From /Users/raz.shmuely/Documents/privet/chickens/object-detection-course/TFODCourse/tfod/lib/python3.9/site-packages/tensorflow/python/util/dispatch.py:206: sparse_to_dense (from tensorflow.python.ops.sparse_ops) is deprecated and will be removed in a future version.\n",
      "Instructions for updating:\n",
      "Create a `tf.sparse.SparseTensor` and use `tf.sparse.to_dense` instead.\n",
      "W0206 11:36:30.288831 4619771392 deprecation.py:339] From /Users/raz.shmuely/Documents/privet/chickens/object-detection-course/TFODCourse/tfod/lib/python3.9/site-packages/tensorflow/python/util/dispatch.py:206: sparse_to_dense (from tensorflow.python.ops.sparse_ops) is deprecated and will be removed in a future version.\n",
      "Instructions for updating:\n",
      "Create a `tf.sparse.SparseTensor` and use `tf.sparse.to_dense` instead.\n",
      "WARNING:tensorflow:From /Users/raz.shmuely/Documents/privet/chickens/object-detection-course/TFODCourse/tfod/lib/python3.9/site-packages/tensorflow/python/autograph/impl/api.py:464: to_float (from tensorflow.python.ops.math_ops) is deprecated and will be removed in a future version.\n",
      "Instructions for updating:\n",
      "Use `tf.cast` instead.\n",
      "W0206 11:36:33.604428 4619771392 deprecation.py:339] From /Users/raz.shmuely/Documents/privet/chickens/object-detection-course/TFODCourse/tfod/lib/python3.9/site-packages/tensorflow/python/autograph/impl/api.py:464: to_float (from tensorflow.python.ops.math_ops) is deprecated and will be removed in a future version.\n",
      "Instructions for updating:\n",
      "Use `tf.cast` instead.\n",
      "INFO:tensorflow:Waiting for new checkpoint at Tensorflow/workspace/models/drinking_chickens_3\n",
      "I0206 11:36:41.718115 4619771392 checkpoint_utils.py:140] Waiting for new checkpoint at Tensorflow/workspace/models/drinking_chickens_3\n",
      "INFO:tensorflow:Found new checkpoint at Tensorflow/workspace/models/drinking_chickens_3/ckpt-150\n",
      "I0206 11:36:41.720893 4619771392 checkpoint_utils.py:149] Found new checkpoint at Tensorflow/workspace/models/drinking_chickens_3/ckpt-150\n",
      "/Users/raz.shmuely/Documents/privet/chickens/object-detection-course/TFODCourse/tfod/lib/python3.9/site-packages/keras/backend.py:401: UserWarning: `tf.keras.backend.set_learning_phase` is deprecated and will be removed after 2020-10-11. To update it, simply pass a True/False value to the `training` argument of the `__call__` method of your layer or model.\n",
      "  warnings.warn('`tf.keras.backend.set_learning_phase` is deprecated and '\n",
      "2022-02-06 11:36:42.070836: I tensorflow/compiler/mlir/mlir_graph_optimization_pass.cc:185] None of the MLIR Optimization Passes are enabled (registered 2)\n",
      "INFO:tensorflow:Encountered  Input to reshape is a tensor with 750 values, but the requested shape requires a multiple of 8\n",
      "\t [[node WeightSharedConvolutionalBoxPredictor/WeightSharedConvolutionalClassHead/Reshape_7 (defined at /object-detection-course/TFODCourse/tfod/lib/python3.9/site-packages/object_detection/predictors/heads/keras_class_head.py:366) ]] [Op:__inference_compute_eval_dict_15107]\n",
      "\n",
      "Errors may have originated from an input operation.\n",
      "Input Source operations connected to node WeightSharedConvolutionalBoxPredictor/WeightSharedConvolutionalClassHead/Reshape_7:\n",
      " WeightSharedConvolutionalBoxPredictor/WeightSharedConvolutionalClassHead/Identity_3 (defined at /object-detection-course/TFODCourse/tfod/lib/python3.9/site-packages/object_detection/predictors/heads/keras_class_head.py:363)\n",
      "\n",
      "Function call stack:\n",
      "compute_eval_dict\n",
      " exception.\n",
      "I0206 11:37:49.781826 4619771392 model_lib_v2.py:934] Encountered  Input to reshape is a tensor with 750 values, but the requested shape requires a multiple of 8\n",
      "\t [[node WeightSharedConvolutionalBoxPredictor/WeightSharedConvolutionalClassHead/Reshape_7 (defined at /object-detection-course/TFODCourse/tfod/lib/python3.9/site-packages/object_detection/predictors/heads/keras_class_head.py:366) ]] [Op:__inference_compute_eval_dict_15107]\n",
      "\n",
      "Errors may have originated from an input operation.\n",
      "Input Source operations connected to node WeightSharedConvolutionalBoxPredictor/WeightSharedConvolutionalClassHead/Reshape_7:\n",
      " WeightSharedConvolutionalBoxPredictor/WeightSharedConvolutionalClassHead/Identity_3 (defined at /object-detection-course/TFODCourse/tfod/lib/python3.9/site-packages/object_detection/predictors/heads/keras_class_head.py:363)\n",
      "\n",
      "Function call stack:\n",
      "compute_eval_dict\n",
      " exception.\n",
      "INFO:tensorflow:A replica probably exhausted all examples. Skipping pending examples on other replicas.\n",
      "I0206 11:37:49.782449 4619771392 model_lib_v2.py:935] A replica probably exhausted all examples. Skipping pending examples on other replicas.\n"
     ]
    },
    {
     "name": "stdout",
     "output_type": "stream",
     "text": [
      "Traceback (most recent call last):\r\n",
      "  File \"/Users/raz.shmuely/Documents/privet/chickens/production-project/object_detection_project/TFODCourse/Tensorflow/models/research/object_detection/model_main_tf2.py\", line 115, in <module>\r\n",
      "    tf.compat.v1.app.run()\r\n",
      "  File \"/Users/raz.shmuely/Documents/privet/chickens/object-detection-course/TFODCourse/tfod/lib/python3.9/site-packages/tensorflow/python/platform/app.py\", line 40, in run\r\n",
      "    _run(main=main, argv=argv, flags_parser=_parse_flags_tolerate_undef)\r\n",
      "  File \"/Users/raz.shmuely/Documents/privet/chickens/object-detection-course/TFODCourse/tfod/lib/python3.9/site-packages/absl/app.py\", line 303, in run\r\n",
      "    _run_main(main, args)\r\n",
      "  File \"/Users/raz.shmuely/Documents/privet/chickens/object-detection-course/TFODCourse/tfod/lib/python3.9/site-packages/absl/app.py\", line 251, in _run_main\r\n",
      "    sys.exit(main(argv))\r\n",
      "  File \"/Users/raz.shmuely/Documents/privet/chickens/production-project/object_detection_project/TFODCourse/Tensorflow/models/research/object_detection/model_main_tf2.py\", line 82, in main\r\n",
      "    model_lib_v2.eval_continuously(\r\n",
      "  File \"/Users/raz.shmuely/Documents/privet/chickens/object-detection-course/TFODCourse/tfod/lib/python3.9/site-packages/object_detection/model_lib_v2.py\", line 1151, in eval_continuously\r\n",
      "    eager_eval_loop(\r\n",
      "  File \"/Users/raz.shmuely/Documents/privet/chickens/object-detection-course/TFODCourse/tfod/lib/python3.9/site-packages/object_detection/model_lib_v2.py\", line 1001, in eager_eval_loop\r\n",
      "    for evaluator in evaluators:\r\n",
      "TypeError: 'NoneType' object is not iterable\r\n"
     ]
    }
   ],
   "source": [
    "!python Tensorflow/models/research/object_detection/model_main_tf2.py --model_dir=Tensorflow/workspace/models/drinking_chickens_3 --pipeline_config_path=Tensorflow/workspace/models/drinking_chickens_3/pipeline.config --checkpoint_dir=Tensorflow/workspace/models/drinking_chickens_3\n"
   ]
  },
  {
   "cell_type": "markdown",
   "metadata": {
    "id": "orvRk02UpfDI"
   },
   "source": [
    "# 8. Load Train Model From Checkpoint"
   ]
  },
  {
   "cell_type": "code",
   "execution_count": 13,
   "metadata": {},
   "outputs": [
    {
     "data": {
      "text/plain": [
       "'Tensorflow/workspace/models/drinking_chickens_3/pipeline.config'"
      ]
     },
     "execution_count": 13,
     "metadata": {},
     "output_type": "execute_result"
    }
   ],
   "source": [
    "trnning.configs.files.PIPELINE_CONFIG"
   ]
  },
  {
   "cell_type": "code",
   "execution_count": null,
   "metadata": {},
   "outputs": [],
   "source": [
    "trnning.configs.paths.CHECKPOINT_PATH = 'Tensorflow/workspace/models/chickens'"
   ]
  },
  {
   "cell_type": "code",
   "execution_count": 14,
   "metadata": {},
   "outputs": [
    {
     "data": {
      "text/plain": [
       "'Tensorflow/workspace/models/drinking_chickens_3'"
      ]
     },
     "execution_count": 14,
     "metadata": {},
     "output_type": "execute_result"
    }
   ],
   "source": [
    "trnning.configs.paths.CHECKPOINT_PATH"
   ]
  },
  {
   "cell_type": "code",
   "execution_count": null,
   "metadata": {},
   "outputs": [],
   "source": [
    "trnning.configs.paths.IMAGE_PATH = 'Tensorflow/workspace/images'"
   ]
  },
  {
   "cell_type": "code",
   "execution_count": 15,
   "metadata": {},
   "outputs": [
    {
     "data": {
      "text/plain": [
       "'Tensorflow/workspace/drinking-images_3'"
      ]
     },
     "execution_count": 15,
     "metadata": {},
     "output_type": "execute_result"
    }
   ],
   "source": [
    "trnning.configs.paths.IMAGE_PATH"
   ]
  },
  {
   "cell_type": "code",
   "execution_count": 10,
   "metadata": {},
   "outputs": [],
   "source": [
    "dfi = DetectfromImage(pipline_config_path = trnning.configs.files.PIPELINE_CONFIG,\n",
    "                      check_point_folder = trnning.configs.paths.CHECKPOINT_PATH, \n",
    "                      check_point_number = 150,\n",
    "                      label_map_path = trnning.configs.files.LABELMAP)\n"
   ]
  },
  {
   "cell_type": "markdown",
   "metadata": {
    "id": "0EmsmbBZpfDI"
   },
   "source": [
    "# 9. Detect from an Image"
   ]
  },
  {
   "cell_type": "code",
   "execution_count": 12,
   "metadata": {},
   "outputs": [
    {
     "name": "stderr",
     "output_type": "stream",
     "text": [
      "2022-02-06 11:33:30.926712: I tensorflow/compiler/mlir/mlir_graph_optimization_pass.cc:185] None of the MLIR Optimization Passes are enabled (registered 2)\n"
     ]
    },
    {
     "ename": "InvalidArgumentError",
     "evalue": " Input to reshape is a tensor with 270 values, but the requested shape requires a multiple of 8\n\t [[node WeightSharedConvolutionalBoxPredictor/WeightSharedConvolutionalClassHead/Reshape_9 (defined at Users/raz.shmuely/Documents/privet/chickens/object-detection-course/TFODCourse/tfod/lib/python3.9/site-packages/object_detection/predictors/heads/keras_class_head.py:366) ]] [Op:__inference_detect_fn_8040]\n\nErrors may have originated from an input operation.\nInput Source operations connected to node WeightSharedConvolutionalBoxPredictor/WeightSharedConvolutionalClassHead/Reshape_9:\n WeightSharedConvolutionalBoxPredictor/WeightSharedConvolutionalClassHead/Identity_4 (defined at Users/raz.shmuely/Documents/privet/chickens/object-detection-course/TFODCourse/tfod/lib/python3.9/site-packages/object_detection/predictors/heads/keras_class_head.py:363)\n\nFunction call stack:\ndetect_fn\n",
     "output_type": "error",
     "traceback": [
      "\u001B[0;31m---------------------------------------------------------------------------\u001B[0m",
      "\u001B[0;31mInvalidArgumentError\u001B[0m                      Traceback (most recent call last)",
      "\u001B[0;32m/var/folders/hz/jw69d7s516q7_yst5pxmtr3c0000gn/T/ipykernel_54830/2443771771.py\u001B[0m in \u001B[0;36m<module>\u001B[0;34m\u001B[0m\n\u001B[1;32m      5\u001B[0m \u001B[0;34m\u001B[0m\u001B[0m\n\u001B[1;32m      6\u001B[0m \u001B[0;31m# Run image detection\u001B[0m\u001B[0;34m\u001B[0m\u001B[0;34m\u001B[0m\u001B[0m\n\u001B[0;32m----> 7\u001B[0;31m \u001B[0mdfi\u001B[0m\u001B[0;34m.\u001B[0m\u001B[0mdetect_image\u001B[0m\u001B[0;34m(\u001B[0m\u001B[0mimage_path\u001B[0m \u001B[0;34m=\u001B[0m \u001B[0mIMAGE_PATH\u001B[0m\u001B[0;34m)\u001B[0m\u001B[0;34m\u001B[0m\u001B[0;34m\u001B[0m\u001B[0m\n\u001B[0m",
      "\u001B[0;32m~/Documents/privet/chickens/production-project/object_detection_project/TFODCourse/Detect_from_an_image.py\u001B[0m in \u001B[0;36mdetect_image\u001B[0;34m(self, image_path)\u001B[0m\n\u001B[1;32m     41\u001B[0m \u001B[0;34m\u001B[0m\u001B[0m\n\u001B[1;32m     42\u001B[0m         \u001B[0minput_tensor\u001B[0m \u001B[0;34m=\u001B[0m \u001B[0mtf\u001B[0m\u001B[0;34m.\u001B[0m\u001B[0mconvert_to_tensor\u001B[0m\u001B[0;34m(\u001B[0m\u001B[0mnp\u001B[0m\u001B[0;34m.\u001B[0m\u001B[0mexpand_dims\u001B[0m\u001B[0;34m(\u001B[0m\u001B[0mimage_np\u001B[0m\u001B[0;34m,\u001B[0m \u001B[0;36m0\u001B[0m\u001B[0;34m)\u001B[0m\u001B[0;34m,\u001B[0m \u001B[0mdtype\u001B[0m\u001B[0;34m=\u001B[0m\u001B[0mtf\u001B[0m\u001B[0;34m.\u001B[0m\u001B[0mfloat32\u001B[0m\u001B[0;34m)\u001B[0m\u001B[0;34m\u001B[0m\u001B[0;34m\u001B[0m\u001B[0m\n\u001B[0;32m---> 43\u001B[0;31m         \u001B[0mdetections\u001B[0m \u001B[0;34m=\u001B[0m \u001B[0mself\u001B[0m\u001B[0;34m.\u001B[0m\u001B[0mdetect_fn\u001B[0m\u001B[0;34m(\u001B[0m\u001B[0minput_tensor\u001B[0m\u001B[0;34m)\u001B[0m\u001B[0;34m\u001B[0m\u001B[0;34m\u001B[0m\u001B[0m\n\u001B[0m\u001B[1;32m     44\u001B[0m \u001B[0;34m\u001B[0m\u001B[0m\n\u001B[1;32m     45\u001B[0m         \u001B[0mnum_detections\u001B[0m \u001B[0;34m=\u001B[0m \u001B[0mint\u001B[0m\u001B[0;34m(\u001B[0m\u001B[0mdetections\u001B[0m\u001B[0;34m.\u001B[0m\u001B[0mpop\u001B[0m\u001B[0;34m(\u001B[0m\u001B[0;34m'num_detections'\u001B[0m\u001B[0;34m)\u001B[0m\u001B[0;34m)\u001B[0m\u001B[0;34m\u001B[0m\u001B[0;34m\u001B[0m\u001B[0m\n",
      "\u001B[0;32m~/Documents/privet/chickens/object-detection-course/TFODCourse/tfod/lib/python3.9/site-packages/tensorflow/python/eager/def_function.py\u001B[0m in \u001B[0;36m__call__\u001B[0;34m(self, *args, **kwds)\u001B[0m\n\u001B[1;32m    883\u001B[0m \u001B[0;34m\u001B[0m\u001B[0m\n\u001B[1;32m    884\u001B[0m       \u001B[0;32mwith\u001B[0m \u001B[0mOptionalXlaContext\u001B[0m\u001B[0;34m(\u001B[0m\u001B[0mself\u001B[0m\u001B[0;34m.\u001B[0m\u001B[0m_jit_compile\u001B[0m\u001B[0;34m)\u001B[0m\u001B[0;34m:\u001B[0m\u001B[0;34m\u001B[0m\u001B[0;34m\u001B[0m\u001B[0m\n\u001B[0;32m--> 885\u001B[0;31m         \u001B[0mresult\u001B[0m \u001B[0;34m=\u001B[0m \u001B[0mself\u001B[0m\u001B[0;34m.\u001B[0m\u001B[0m_call\u001B[0m\u001B[0;34m(\u001B[0m\u001B[0;34m*\u001B[0m\u001B[0margs\u001B[0m\u001B[0;34m,\u001B[0m \u001B[0;34m**\u001B[0m\u001B[0mkwds\u001B[0m\u001B[0;34m)\u001B[0m\u001B[0;34m\u001B[0m\u001B[0;34m\u001B[0m\u001B[0m\n\u001B[0m\u001B[1;32m    886\u001B[0m \u001B[0;34m\u001B[0m\u001B[0m\n\u001B[1;32m    887\u001B[0m       \u001B[0mnew_tracing_count\u001B[0m \u001B[0;34m=\u001B[0m \u001B[0mself\u001B[0m\u001B[0;34m.\u001B[0m\u001B[0mexperimental_get_tracing_count\u001B[0m\u001B[0;34m(\u001B[0m\u001B[0;34m)\u001B[0m\u001B[0;34m\u001B[0m\u001B[0;34m\u001B[0m\u001B[0m\n",
      "\u001B[0;32m~/Documents/privet/chickens/object-detection-course/TFODCourse/tfod/lib/python3.9/site-packages/tensorflow/python/eager/def_function.py\u001B[0m in \u001B[0;36m_call\u001B[0;34m(self, *args, **kwds)\u001B[0m\n\u001B[1;32m    922\u001B[0m       \u001B[0;31m# In this case we have not created variables on the first call. So we can\u001B[0m\u001B[0;34m\u001B[0m\u001B[0;34m\u001B[0m\u001B[0m\n\u001B[1;32m    923\u001B[0m       \u001B[0;31m# run the first trace but we should fail if variables are created.\u001B[0m\u001B[0;34m\u001B[0m\u001B[0;34m\u001B[0m\u001B[0m\n\u001B[0;32m--> 924\u001B[0;31m       \u001B[0mresults\u001B[0m \u001B[0;34m=\u001B[0m \u001B[0mself\u001B[0m\u001B[0;34m.\u001B[0m\u001B[0m_stateful_fn\u001B[0m\u001B[0;34m(\u001B[0m\u001B[0;34m*\u001B[0m\u001B[0margs\u001B[0m\u001B[0;34m,\u001B[0m \u001B[0;34m**\u001B[0m\u001B[0mkwds\u001B[0m\u001B[0;34m)\u001B[0m\u001B[0;34m\u001B[0m\u001B[0;34m\u001B[0m\u001B[0m\n\u001B[0m\u001B[1;32m    925\u001B[0m       \u001B[0;32mif\u001B[0m \u001B[0mself\u001B[0m\u001B[0;34m.\u001B[0m\u001B[0m_created_variables\u001B[0m \u001B[0;32mand\u001B[0m \u001B[0;32mnot\u001B[0m \u001B[0mALLOW_DYNAMIC_VARIABLE_CREATION\u001B[0m\u001B[0;34m:\u001B[0m\u001B[0;34m\u001B[0m\u001B[0;34m\u001B[0m\u001B[0m\n\u001B[1;32m    926\u001B[0m         raise ValueError(\"Creating variables on a non-first call to a function\"\n",
      "\u001B[0;32m~/Documents/privet/chickens/object-detection-course/TFODCourse/tfod/lib/python3.9/site-packages/tensorflow/python/eager/function.py\u001B[0m in \u001B[0;36m__call__\u001B[0;34m(self, *args, **kwargs)\u001B[0m\n\u001B[1;32m   3037\u001B[0m       (graph_function,\n\u001B[1;32m   3038\u001B[0m        filtered_flat_args) = self._maybe_define_function(args, kwargs)\n\u001B[0;32m-> 3039\u001B[0;31m     return graph_function._call_flat(\n\u001B[0m\u001B[1;32m   3040\u001B[0m         filtered_flat_args, captured_inputs=graph_function.captured_inputs)  # pylint: disable=protected-access\n\u001B[1;32m   3041\u001B[0m \u001B[0;34m\u001B[0m\u001B[0m\n",
      "\u001B[0;32m~/Documents/privet/chickens/object-detection-course/TFODCourse/tfod/lib/python3.9/site-packages/tensorflow/python/eager/function.py\u001B[0m in \u001B[0;36m_call_flat\u001B[0;34m(self, args, captured_inputs, cancellation_manager)\u001B[0m\n\u001B[1;32m   1961\u001B[0m         and executing_eagerly):\n\u001B[1;32m   1962\u001B[0m       \u001B[0;31m# No tape is watching; skip to running the function.\u001B[0m\u001B[0;34m\u001B[0m\u001B[0;34m\u001B[0m\u001B[0m\n\u001B[0;32m-> 1963\u001B[0;31m       return self._build_call_outputs(self._inference_function.call(\n\u001B[0m\u001B[1;32m   1964\u001B[0m           ctx, args, cancellation_manager=cancellation_manager))\n\u001B[1;32m   1965\u001B[0m     forward_backward = self._select_forward_and_backward_functions(\n",
      "\u001B[0;32m~/Documents/privet/chickens/object-detection-course/TFODCourse/tfod/lib/python3.9/site-packages/tensorflow/python/eager/function.py\u001B[0m in \u001B[0;36mcall\u001B[0;34m(self, ctx, args, cancellation_manager)\u001B[0m\n\u001B[1;32m    589\u001B[0m       \u001B[0;32mwith\u001B[0m \u001B[0m_InterpolateFunctionError\u001B[0m\u001B[0;34m(\u001B[0m\u001B[0mself\u001B[0m\u001B[0;34m)\u001B[0m\u001B[0;34m:\u001B[0m\u001B[0;34m\u001B[0m\u001B[0;34m\u001B[0m\u001B[0m\n\u001B[1;32m    590\u001B[0m         \u001B[0;32mif\u001B[0m \u001B[0mcancellation_manager\u001B[0m \u001B[0;32mis\u001B[0m \u001B[0;32mNone\u001B[0m\u001B[0;34m:\u001B[0m\u001B[0;34m\u001B[0m\u001B[0;34m\u001B[0m\u001B[0m\n\u001B[0;32m--> 591\u001B[0;31m           outputs = execute.execute(\n\u001B[0m\u001B[1;32m    592\u001B[0m               \u001B[0mstr\u001B[0m\u001B[0;34m(\u001B[0m\u001B[0mself\u001B[0m\u001B[0;34m.\u001B[0m\u001B[0msignature\u001B[0m\u001B[0;34m.\u001B[0m\u001B[0mname\u001B[0m\u001B[0;34m)\u001B[0m\u001B[0;34m,\u001B[0m\u001B[0;34m\u001B[0m\u001B[0;34m\u001B[0m\u001B[0m\n\u001B[1;32m    593\u001B[0m               \u001B[0mnum_outputs\u001B[0m\u001B[0;34m=\u001B[0m\u001B[0mself\u001B[0m\u001B[0;34m.\u001B[0m\u001B[0m_num_outputs\u001B[0m\u001B[0;34m,\u001B[0m\u001B[0;34m\u001B[0m\u001B[0;34m\u001B[0m\u001B[0m\n",
      "\u001B[0;32m~/Documents/privet/chickens/object-detection-course/TFODCourse/tfod/lib/python3.9/site-packages/tensorflow/python/eager/execute.py\u001B[0m in \u001B[0;36mquick_execute\u001B[0;34m(op_name, num_outputs, inputs, attrs, ctx, name)\u001B[0m\n\u001B[1;32m     57\u001B[0m   \u001B[0;32mtry\u001B[0m\u001B[0;34m:\u001B[0m\u001B[0;34m\u001B[0m\u001B[0;34m\u001B[0m\u001B[0m\n\u001B[1;32m     58\u001B[0m     \u001B[0mctx\u001B[0m\u001B[0;34m.\u001B[0m\u001B[0mensure_initialized\u001B[0m\u001B[0;34m(\u001B[0m\u001B[0;34m)\u001B[0m\u001B[0;34m\u001B[0m\u001B[0;34m\u001B[0m\u001B[0m\n\u001B[0;32m---> 59\u001B[0;31m     tensors = pywrap_tfe.TFE_Py_Execute(ctx._handle, device_name, op_name,\n\u001B[0m\u001B[1;32m     60\u001B[0m                                         inputs, attrs, num_outputs)\n\u001B[1;32m     61\u001B[0m   \u001B[0;32mexcept\u001B[0m \u001B[0mcore\u001B[0m\u001B[0;34m.\u001B[0m\u001B[0m_NotOkStatusException\u001B[0m \u001B[0;32mas\u001B[0m \u001B[0me\u001B[0m\u001B[0;34m:\u001B[0m\u001B[0;34m\u001B[0m\u001B[0;34m\u001B[0m\u001B[0m\n",
      "\u001B[0;31mInvalidArgumentError\u001B[0m:  Input to reshape is a tensor with 270 values, but the requested shape requires a multiple of 8\n\t [[node WeightSharedConvolutionalBoxPredictor/WeightSharedConvolutionalClassHead/Reshape_9 (defined at Users/raz.shmuely/Documents/privet/chickens/object-detection-course/TFODCourse/tfod/lib/python3.9/site-packages/object_detection/predictors/heads/keras_class_head.py:366) ]] [Op:__inference_detect_fn_8040]\n\nErrors may have originated from an input operation.\nInput Source operations connected to node WeightSharedConvolutionalBoxPredictor/WeightSharedConvolutionalClassHead/Reshape_9:\n WeightSharedConvolutionalBoxPredictor/WeightSharedConvolutionalClassHead/Identity_4 (defined at Users/raz.shmuely/Documents/privet/chickens/object-detection-course/TFODCourse/tfod/lib/python3.9/site-packages/object_detection/predictors/heads/keras_class_head.py:363)\n\nFunction call stack:\ndetect_fn\n"
     ]
    }
   ],
   "source": [
    "%matplotlib inline\n",
    "\n",
    "# define image path \n",
    "IMAGE_PATH = os.path.join(trnning.configs.paths.IMAGE_PATH, 'train', '2022-01-29-02-02-21_rgb_to_grayscale.jpg')\n",
    "\n",
    "# Run image detection\n",
    "dfi.detect_image(image_path = IMAGE_PATH)"
   ]
  },
  {
   "cell_type": "markdown",
   "metadata": {
    "id": "rzlM4jt0pfDJ"
   },
   "source": [
    "# 10. Freezing the Graph"
   ]
  },
  {
   "cell_type": "code",
   "execution_count": null,
   "metadata": {
    "id": "n4olHB2npfDJ"
   },
   "outputs": [],
   "source": [
    "FREEZE_SCRIPT = os.path.join(paths['APIMODEL_PATH'], 'research', 'object_detection', 'exporter_main_v2.py ')"
   ]
  },
  {
   "cell_type": "code",
   "execution_count": null,
   "metadata": {
    "id": "0AjO93QDpfDJ"
   },
   "outputs": [],
   "source": [
    "command = \"python {} --input_type=image_tensor --pipeline_config_path={} --trained_checkpoint_dir={} --output_directory={}\".format(FREEZE_SCRIPT ,files['PIPELINE_CONFIG'], paths['CHECKPOINT_PATH'], paths['OUTPUT_PATH'])"
   ]
  },
  {
   "cell_type": "code",
   "execution_count": null,
   "metadata": {
    "colab": {
     "base_uri": "https://localhost:8080/"
    },
    "id": "F6Lsp3tCpfDJ",
    "outputId": "c3828529-bf06-4df5-d7f3-145890ec3edd"
   },
   "outputs": [],
   "source": [
    "print(command)"
   ]
  },
  {
   "cell_type": "code",
   "execution_count": null,
   "metadata": {
    "colab": {
     "base_uri": "https://localhost:8080/"
    },
    "id": "1Sw1ULgHpfDJ",
    "outputId": "6fd441e1-9fc9-4889-d072-3395c21e40b6"
   },
   "outputs": [],
   "source": [
    "# !{command}"
   ]
  },
  {
   "cell_type": "markdown",
   "metadata": {
    "id": "wTPmdqaXpfDK"
   },
   "source": [
    "# 11. Conversion to TFJS"
   ]
  },
  {
   "cell_type": "code",
   "execution_count": null,
   "metadata": {
    "colab": {
     "base_uri": "https://localhost:8080/"
    },
    "id": "gZ6UzY_fpfDK",
    "outputId": "0c84722e-1c2b-4002-d857-80827ade828a",
    "scrolled": true
   },
   "outputs": [],
   "source": [
    "# !pip install tensorflowjs"
   ]
  },
  {
   "cell_type": "code",
   "execution_count": null,
   "metadata": {
    "id": "0oxbVynHpfDK"
   },
   "outputs": [],
   "source": [
    "command = \"tensorflowjs_converter --input_format=tf_saved_model --output_node_names='detection_boxes,detection_classes,detection_features,detection_multiclass_scores,detection_scores,num_detections,raw_detection_boxes,raw_detection_scores' --output_format=tfjs_graph_model --signature_name=serving_default {} {}\".format(os.path.join(paths['OUTPUT_PATH'], 'saved_model'), paths['TFJS_PATH'])"
   ]
  },
  {
   "cell_type": "code",
   "execution_count": null,
   "metadata": {
    "colab": {
     "base_uri": "https://localhost:8080/"
    },
    "id": "DB2AGNmJpfDK",
    "outputId": "fbc9f747-f511-47e8-df8f-5ea65cef0374"
   },
   "outputs": [],
   "source": [
    "print(command)"
   ]
  },
  {
   "cell_type": "code",
   "execution_count": null,
   "metadata": {
    "colab": {
     "base_uri": "https://localhost:8080/"
    },
    "id": "K7rfT4-hpfDK",
    "outputId": "532707fd-6feb-4bc6-84a3-325b5d16303c"
   },
   "outputs": [],
   "source": [
    "# !{command}"
   ]
  },
  {
   "cell_type": "code",
   "execution_count": null,
   "metadata": {
    "id": "o8_hm-itpfDK"
   },
   "outputs": [],
   "source": [
    "# Test Code: https://github.com/nicknochnack/RealTimeSignLanguageDetectionwithTFJS"
   ]
  },
  {
   "cell_type": "markdown",
   "metadata": {
    "id": "VtUw73FHpfDK"
   },
   "source": [
    "# 12. Conversion to TFLite"
   ]
  },
  {
   "cell_type": "code",
   "execution_count": null,
   "metadata": {
    "id": "XviMtewLpfDK"
   },
   "outputs": [],
   "source": [
    "TFLITE_SCRIPT = os.path.join(paths['APIMODEL_PATH'], 'research', 'object_detection', 'export_tflite_graph_tf2.py ')"
   ]
  },
  {
   "cell_type": "code",
   "execution_count": null,
   "metadata": {
    "id": "us86cjC4pfDL"
   },
   "outputs": [],
   "source": [
    "command = \"python {} --pipeline_config_path={} --trained_checkpoint_dir={} --output_directory={}\".format(TFLITE_SCRIPT ,files['PIPELINE_CONFIG'], paths['CHECKPOINT_PATH'], paths['TFLITE_PATH'])"
   ]
  },
  {
   "cell_type": "code",
   "execution_count": null,
   "metadata": {
    "colab": {
     "base_uri": "https://localhost:8080/"
    },
    "id": "n1r5YO3rpfDL",
    "outputId": "5fcdf7a4-eee2-4365-f1ca-1751968379ea"
   },
   "outputs": [],
   "source": [
    "print(command)"
   ]
  },
  {
   "cell_type": "code",
   "execution_count": null,
   "metadata": {
    "colab": {
     "base_uri": "https://localhost:8080/"
    },
    "id": "I-xWpHN8pfDL",
    "outputId": "7f6bacd8-d077-43b5-c131-5b081fba24a4"
   },
   "outputs": [],
   "source": [
    "# !{command}"
   ]
  },
  {
   "cell_type": "code",
   "execution_count": null,
   "metadata": {
    "id": "iJfYMbN6pfDL"
   },
   "outputs": [],
   "source": [
    "FROZEN_TFLITE_PATH = os.path.join(paths['TFLITE_PATH'], 'saved_model')\n",
    "TFLITE_MODEL = os.path.join(paths['TFLITE_PATH'], 'saved_model', 'detect.tflite')"
   ]
  },
  {
   "cell_type": "code",
   "execution_count": null,
   "metadata": {},
   "outputs": [],
   "source": [
    "command = \"tflite_convert \\\n",
    "--saved_model_dir={} \\\n",
    "--output_file={} \\\n",
    "--input_shapes=1,300,300,3 \\\n",
    "--input_arrays=normalized_input_image_tensor \\\n",
    "--output_arrays='TFLite_Detection_PostProcess','TFLite_Detection_PostProcess:1','TFLite_Detection_PostProcess:2','TFLite_Detection_PostProcess:3' \\\n",
    "--inference_type=FLOAT \\\n",
    "--allow_custom_ops\".format(FROZEN_TFLITE_PATH, TFLITE_MODEL, )"
   ]
  },
  {
   "cell_type": "code",
   "execution_count": null,
   "metadata": {
    "colab": {
     "base_uri": "https://localhost:8080/"
    },
    "id": "E8GwUeoFpfDL",
    "outputId": "fac43ea4-cc85-471b-a362-e994b06fd583"
   },
   "outputs": [],
   "source": [
    "print(command)"
   ]
  },
  {
   "cell_type": "code",
   "execution_count": null,
   "metadata": {
    "colab": {
     "base_uri": "https://localhost:8080/"
    },
    "id": "Nbd7gqHMpfDL",
    "outputId": "7c8fe6d5-2415-4641-8548-39d425c202f7"
   },
   "outputs": [],
   "source": [
    "# !{command}"
   ]
  },
  {
   "cell_type": "markdown",
   "metadata": {
    "id": "5NQqZRdA21Uc"
   },
   "source": [
    "# 13. Zip and Export Models "
   ]
  },
  {
   "cell_type": "code",
   "execution_count": null,
   "metadata": {},
   "outputs": [],
   "source": [
    "# !tar -czf models.tar.gz {paths['CHECKPOINT_PATH']}"
   ]
  },
  {
   "cell_type": "markdown",
   "metadata": {
    "id": "tTVTGCQp2ZJJ"
   },
   "source": [
    "from google.colab import drive\n",
    "drive.mount('/content/drive')"
   ]
  },
  {
   "cell_type": "markdown",
   "metadata": {},
   "source": [
    "## Detecte video"
   ]
  },
  {
   "cell_type": "code",
   "execution_count": 4,
   "metadata": {},
   "outputs": [],
   "source": [
    "from tf_object_detector_graphs import TFObjectDetector"
   ]
  },
  {
   "cell_type": "code",
   "execution_count": 5,
   "metadata": {},
   "outputs": [
    {
     "data": {
      "text/plain": [
       "'Tensorflow/workspace/annotations/label_map.pbtxt'"
      ]
     },
     "execution_count": 5,
     "metadata": {},
     "output_type": "execute_result"
    }
   ],
   "source": [
    "files = {}\n",
    "paths={}\n",
    "files['LABELMAP']  = 'Tensorflow/workspace/annotations/label_map.pbtxt'\n",
    "files['LABELMAP']"
   ]
  },
  {
   "cell_type": "code",
   "execution_count": 6,
   "metadata": {},
   "outputs": [
    {
     "data": {
      "text/plain": [
       "'Tensorflow/workspace/models/drinking_chickens_3'"
      ]
     },
     "execution_count": 6,
     "metadata": {},
     "output_type": "execute_result"
    }
   ],
   "source": [
    "paths['CHECKPOINT_PATH'] = trnning.configs.paths.CHECKPOINT_PATH\n",
    "paths['CHECKPOINT_PATH']"
   ]
  },
  {
   "cell_type": "code",
   "execution_count": 7,
   "metadata": {},
   "outputs": [
    {
     "data": {
      "text/plain": [
       "'Tensorflow/workspace/models/drinking_chickens_3/pipeline.config'"
      ]
     },
     "execution_count": 7,
     "metadata": {},
     "output_type": "execute_result"
    }
   ],
   "source": [
    "files['PIPELINE_CONFIG'] = trnning.configs.files.PIPELINE_CONFIG\n",
    "files['PIPELINE_CONFIG']"
   ]
  },
  {
   "cell_type": "code",
   "execution_count": 8,
   "metadata": {},
   "outputs": [
    {
     "name": "stderr",
     "output_type": "stream",
     "text": [
      "2022-01-30 07:53:54.786141: I tensorflow/core/platform/cpu_feature_guard.cc:142] This TensorFlow binary is optimized with oneAPI Deep Neural Network Library (oneDNN) to use the following CPU instructions in performance-critical operations:  AVX2 FMA\n",
      "To enable them in other operations, rebuild TensorFlow with the appropriate compiler flags.\n"
     ]
    }
   ],
   "source": [
    "tflrazi = TFObjectDetector(path_to_object_detection= files['PIPELINE_CONFIG'], \\\n",
    "                           path_to_model_checkpoint=paths['CHECKPOINT_PATH'], \n",
    "                           checkpoint_num =21,\n",
    "                           path_to_labels=files['LABELMAP'], \\\n",
    "                           model_name='ssd_mobilenet_v2_fpnlite_640x640_coco17_tpu-8')"
   ]
  },
  {
   "cell_type": "code",
   "execution_count": 18,
   "metadata": {
    "scrolled": true
   },
   "outputs": [
    {
     "ename": "KeyboardInterrupt",
     "evalue": "",
     "output_type": "error",
     "traceback": [
      "\u001B[0;31m---------------------------------------------------------------------------\u001B[0m",
      "\u001B[0;31mKeyboardInterrupt\u001B[0m                         Traceback (most recent call last)",
      "\u001B[0;32m/var/folders/hz/jw69d7s516q7_yst5pxmtr3c0000gn/T/ipykernel_10754/4242255058.py\u001B[0m in \u001B[0;36m<module>\u001B[0;34m\u001B[0m\n\u001B[0;32m----> 1\u001B[0;31m tflrazi.detect_video(path = 'Tensorflow/workspace/Videos/Drinking-slow-motion.mp4', \n\u001B[0m\u001B[1;32m      2\u001B[0m                 output_path = 'Tensorflow/workspace/Videos/counter.mp4')\n",
      "\u001B[0;32m~/Documents/privet/chickens/production-project/object_detection_project/TFODCourse/tf_object_detector_graphs.py\u001B[0m in \u001B[0;36mdetect_video\u001B[0;34m(self, path, output_path)\u001B[0m\n\u001B[1;32m    198\u001B[0m             \u001B[0mi\u001B[0m \u001B[0;34m+=\u001B[0m \u001B[0;36m1\u001B[0m\u001B[0;34m\u001B[0m\u001B[0;34m\u001B[0m\u001B[0m\n\u001B[1;32m    199\u001B[0m             \u001B[0;31m# Perform object detection and add to output file\u001B[0m\u001B[0;34m\u001B[0m\u001B[0;34m\u001B[0m\u001B[0m\n\u001B[0;32m--> 200\u001B[0;31m             \u001B[0moutput_file\u001B[0m \u001B[0;34m=\u001B[0m \u001B[0mself\u001B[0m\u001B[0;34m.\u001B[0m\u001B[0mdetect\u001B[0m\u001B[0;34m(\u001B[0m\u001B[0mimage\u001B[0m\u001B[0;34m)\u001B[0m\u001B[0;34m\u001B[0m\u001B[0;34m\u001B[0m\u001B[0m\n\u001B[0m\u001B[1;32m    201\u001B[0m \u001B[0;34m\u001B[0m\u001B[0m\n\u001B[1;32m    202\u001B[0m             \u001B[0;31m# plot\u001B[0m\u001B[0;34m\u001B[0m\u001B[0;34m\u001B[0m\u001B[0m\n",
      "\u001B[0;32m~/Documents/privet/chickens/production-project/object_detection_project/TFODCourse/tf_object_detector_graphs.py\u001B[0m in \u001B[0;36mdetect\u001B[0;34m(self, image, label_offset)\u001B[0m\n\u001B[1;32m    115\u001B[0m         \u001B[0mimage\u001B[0m \u001B[0;34m=\u001B[0m \u001B[0mimage\u001B[0m\u001B[0;34m.\u001B[0m\u001B[0mcopy\u001B[0m\u001B[0;34m(\u001B[0m\u001B[0;34m)\u001B[0m\u001B[0;34m\u001B[0m\u001B[0;34m\u001B[0m\u001B[0m\n\u001B[1;32m    116\u001B[0m         \u001B[0mimage_tensor\u001B[0m \u001B[0;34m=\u001B[0m \u001B[0mself\u001B[0m\u001B[0;34m.\u001B[0m\u001B[0mprepare_image\u001B[0m\u001B[0;34m(\u001B[0m\u001B[0mimage\u001B[0m\u001B[0;34m)\u001B[0m\u001B[0;34m\u001B[0m\u001B[0;34m\u001B[0m\u001B[0m\n\u001B[0;32m--> 117\u001B[0;31m         \u001B[0mdetections\u001B[0m\u001B[0;34m,\u001B[0m \u001B[0mpredictions_dict\u001B[0m\u001B[0;34m,\u001B[0m \u001B[0mshapes\u001B[0m \u001B[0;34m=\u001B[0m \u001B[0mself\u001B[0m\u001B[0;34m.\u001B[0m\u001B[0mdetection_function\u001B[0m\u001B[0;34m(\u001B[0m\u001B[0mimage_tensor\u001B[0m\u001B[0;34m)\u001B[0m\u001B[0;34m\u001B[0m\u001B[0;34m\u001B[0m\u001B[0m\n\u001B[0m\u001B[1;32m    118\u001B[0m \u001B[0;34m\u001B[0m\u001B[0m\n\u001B[1;32m    119\u001B[0m         \u001B[0;31m# Use keypoints if provided\u001B[0m\u001B[0;34m\u001B[0m\u001B[0;34m\u001B[0m\u001B[0m\n",
      "\u001B[0;32m~/Documents/privet/chickens/object-detection-course/TFODCourse/tfod/lib/python3.9/site-packages/tensorflow/python/eager/def_function.py\u001B[0m in \u001B[0;36m__call__\u001B[0;34m(self, *args, **kwds)\u001B[0m\n\u001B[1;32m    883\u001B[0m \u001B[0;34m\u001B[0m\u001B[0m\n\u001B[1;32m    884\u001B[0m       \u001B[0;32mwith\u001B[0m \u001B[0mOptionalXlaContext\u001B[0m\u001B[0;34m(\u001B[0m\u001B[0mself\u001B[0m\u001B[0;34m.\u001B[0m\u001B[0m_jit_compile\u001B[0m\u001B[0;34m)\u001B[0m\u001B[0;34m:\u001B[0m\u001B[0;34m\u001B[0m\u001B[0;34m\u001B[0m\u001B[0m\n\u001B[0;32m--> 885\u001B[0;31m         \u001B[0mresult\u001B[0m \u001B[0;34m=\u001B[0m \u001B[0mself\u001B[0m\u001B[0;34m.\u001B[0m\u001B[0m_call\u001B[0m\u001B[0;34m(\u001B[0m\u001B[0;34m*\u001B[0m\u001B[0margs\u001B[0m\u001B[0;34m,\u001B[0m \u001B[0;34m**\u001B[0m\u001B[0mkwds\u001B[0m\u001B[0;34m)\u001B[0m\u001B[0;34m\u001B[0m\u001B[0;34m\u001B[0m\u001B[0m\n\u001B[0m\u001B[1;32m    886\u001B[0m \u001B[0;34m\u001B[0m\u001B[0m\n\u001B[1;32m    887\u001B[0m       \u001B[0mnew_tracing_count\u001B[0m \u001B[0;34m=\u001B[0m \u001B[0mself\u001B[0m\u001B[0;34m.\u001B[0m\u001B[0mexperimental_get_tracing_count\u001B[0m\u001B[0;34m(\u001B[0m\u001B[0;34m)\u001B[0m\u001B[0;34m\u001B[0m\u001B[0;34m\u001B[0m\u001B[0m\n",
      "\u001B[0;32m~/Documents/privet/chickens/object-detection-course/TFODCourse/tfod/lib/python3.9/site-packages/tensorflow/python/eager/def_function.py\u001B[0m in \u001B[0;36m_call\u001B[0;34m(self, *args, **kwds)\u001B[0m\n\u001B[1;32m    931\u001B[0m       \u001B[0;31m# This is the first call of __call__, so we have to initialize.\u001B[0m\u001B[0;34m\u001B[0m\u001B[0;34m\u001B[0m\u001B[0m\n\u001B[1;32m    932\u001B[0m       \u001B[0minitializers\u001B[0m \u001B[0;34m=\u001B[0m \u001B[0;34m[\u001B[0m\u001B[0;34m]\u001B[0m\u001B[0;34m\u001B[0m\u001B[0;34m\u001B[0m\u001B[0m\n\u001B[0;32m--> 933\u001B[0;31m       \u001B[0mself\u001B[0m\u001B[0;34m.\u001B[0m\u001B[0m_initialize\u001B[0m\u001B[0;34m(\u001B[0m\u001B[0margs\u001B[0m\u001B[0;34m,\u001B[0m \u001B[0mkwds\u001B[0m\u001B[0;34m,\u001B[0m \u001B[0madd_initializers_to\u001B[0m\u001B[0;34m=\u001B[0m\u001B[0minitializers\u001B[0m\u001B[0;34m)\u001B[0m\u001B[0;34m\u001B[0m\u001B[0;34m\u001B[0m\u001B[0m\n\u001B[0m\u001B[1;32m    934\u001B[0m     \u001B[0;32mfinally\u001B[0m\u001B[0;34m:\u001B[0m\u001B[0;34m\u001B[0m\u001B[0;34m\u001B[0m\u001B[0m\n\u001B[1;32m    935\u001B[0m       \u001B[0;31m# At this point we know that the initialization is complete (or less\u001B[0m\u001B[0;34m\u001B[0m\u001B[0;34m\u001B[0m\u001B[0m\n",
      "\u001B[0;32m~/Documents/privet/chickens/object-detection-course/TFODCourse/tfod/lib/python3.9/site-packages/tensorflow/python/eager/def_function.py\u001B[0m in \u001B[0;36m_initialize\u001B[0;34m(self, args, kwds, add_initializers_to)\u001B[0m\n\u001B[1;32m    757\u001B[0m     \u001B[0mself\u001B[0m\u001B[0;34m.\u001B[0m\u001B[0m_graph_deleter\u001B[0m \u001B[0;34m=\u001B[0m \u001B[0mFunctionDeleter\u001B[0m\u001B[0;34m(\u001B[0m\u001B[0mself\u001B[0m\u001B[0;34m.\u001B[0m\u001B[0m_lifted_initializer_graph\u001B[0m\u001B[0;34m)\u001B[0m\u001B[0;34m\u001B[0m\u001B[0;34m\u001B[0m\u001B[0m\n\u001B[1;32m    758\u001B[0m     self._concrete_stateful_fn = (\n\u001B[0;32m--> 759\u001B[0;31m         self._stateful_fn._get_concrete_function_internal_garbage_collected(  # pylint: disable=protected-access\n\u001B[0m\u001B[1;32m    760\u001B[0m             *args, **kwds))\n\u001B[1;32m    761\u001B[0m \u001B[0;34m\u001B[0m\u001B[0m\n",
      "\u001B[0;32m~/Documents/privet/chickens/object-detection-course/TFODCourse/tfod/lib/python3.9/site-packages/tensorflow/python/eager/function.py\u001B[0m in \u001B[0;36m_get_concrete_function_internal_garbage_collected\u001B[0;34m(self, *args, **kwargs)\u001B[0m\n\u001B[1;32m   3064\u001B[0m       \u001B[0margs\u001B[0m\u001B[0;34m,\u001B[0m \u001B[0mkwargs\u001B[0m \u001B[0;34m=\u001B[0m \u001B[0;32mNone\u001B[0m\u001B[0;34m,\u001B[0m \u001B[0;32mNone\u001B[0m\u001B[0;34m\u001B[0m\u001B[0;34m\u001B[0m\u001B[0m\n\u001B[1;32m   3065\u001B[0m     \u001B[0;32mwith\u001B[0m \u001B[0mself\u001B[0m\u001B[0;34m.\u001B[0m\u001B[0m_lock\u001B[0m\u001B[0;34m:\u001B[0m\u001B[0;34m\u001B[0m\u001B[0;34m\u001B[0m\u001B[0m\n\u001B[0;32m-> 3066\u001B[0;31m       \u001B[0mgraph_function\u001B[0m\u001B[0;34m,\u001B[0m \u001B[0m_\u001B[0m \u001B[0;34m=\u001B[0m \u001B[0mself\u001B[0m\u001B[0;34m.\u001B[0m\u001B[0m_maybe_define_function\u001B[0m\u001B[0;34m(\u001B[0m\u001B[0margs\u001B[0m\u001B[0;34m,\u001B[0m \u001B[0mkwargs\u001B[0m\u001B[0;34m)\u001B[0m\u001B[0;34m\u001B[0m\u001B[0;34m\u001B[0m\u001B[0m\n\u001B[0m\u001B[1;32m   3067\u001B[0m     \u001B[0;32mreturn\u001B[0m \u001B[0mgraph_function\u001B[0m\u001B[0;34m\u001B[0m\u001B[0;34m\u001B[0m\u001B[0m\n\u001B[1;32m   3068\u001B[0m \u001B[0;34m\u001B[0m\u001B[0m\n",
      "\u001B[0;32m~/Documents/privet/chickens/object-detection-course/TFODCourse/tfod/lib/python3.9/site-packages/tensorflow/python/eager/function.py\u001B[0m in \u001B[0;36m_maybe_define_function\u001B[0;34m(self, args, kwargs)\u001B[0m\n\u001B[1;32m   3461\u001B[0m \u001B[0;34m\u001B[0m\u001B[0m\n\u001B[1;32m   3462\u001B[0m           \u001B[0mself\u001B[0m\u001B[0;34m.\u001B[0m\u001B[0m_function_cache\u001B[0m\u001B[0;34m.\u001B[0m\u001B[0mmissed\u001B[0m\u001B[0;34m.\u001B[0m\u001B[0madd\u001B[0m\u001B[0;34m(\u001B[0m\u001B[0mcall_context_key\u001B[0m\u001B[0;34m)\u001B[0m\u001B[0;34m\u001B[0m\u001B[0;34m\u001B[0m\u001B[0m\n\u001B[0;32m-> 3463\u001B[0;31m           \u001B[0mgraph_function\u001B[0m \u001B[0;34m=\u001B[0m \u001B[0mself\u001B[0m\u001B[0;34m.\u001B[0m\u001B[0m_create_graph_function\u001B[0m\u001B[0;34m(\u001B[0m\u001B[0margs\u001B[0m\u001B[0;34m,\u001B[0m \u001B[0mkwargs\u001B[0m\u001B[0;34m)\u001B[0m\u001B[0;34m\u001B[0m\u001B[0;34m\u001B[0m\u001B[0m\n\u001B[0m\u001B[1;32m   3464\u001B[0m           \u001B[0mself\u001B[0m\u001B[0;34m.\u001B[0m\u001B[0m_function_cache\u001B[0m\u001B[0;34m.\u001B[0m\u001B[0mprimary\u001B[0m\u001B[0;34m[\u001B[0m\u001B[0mcache_key\u001B[0m\u001B[0;34m]\u001B[0m \u001B[0;34m=\u001B[0m \u001B[0mgraph_function\u001B[0m\u001B[0;34m\u001B[0m\u001B[0;34m\u001B[0m\u001B[0m\n\u001B[1;32m   3465\u001B[0m \u001B[0;34m\u001B[0m\u001B[0m\n",
      "\u001B[0;32m~/Documents/privet/chickens/object-detection-course/TFODCourse/tfod/lib/python3.9/site-packages/tensorflow/python/eager/function.py\u001B[0m in \u001B[0;36m_create_graph_function\u001B[0;34m(self, args, kwargs, override_flat_arg_shapes)\u001B[0m\n\u001B[1;32m   3296\u001B[0m     \u001B[0marg_names\u001B[0m \u001B[0;34m=\u001B[0m \u001B[0mbase_arg_names\u001B[0m \u001B[0;34m+\u001B[0m \u001B[0mmissing_arg_names\u001B[0m\u001B[0;34m\u001B[0m\u001B[0;34m\u001B[0m\u001B[0m\n\u001B[1;32m   3297\u001B[0m     graph_function = ConcreteFunction(\n\u001B[0;32m-> 3298\u001B[0;31m         func_graph_module.func_graph_from_py_func(\n\u001B[0m\u001B[1;32m   3299\u001B[0m             \u001B[0mself\u001B[0m\u001B[0;34m.\u001B[0m\u001B[0m_name\u001B[0m\u001B[0;34m,\u001B[0m\u001B[0;34m\u001B[0m\u001B[0;34m\u001B[0m\u001B[0m\n\u001B[1;32m   3300\u001B[0m             \u001B[0mself\u001B[0m\u001B[0;34m.\u001B[0m\u001B[0m_python_function\u001B[0m\u001B[0;34m,\u001B[0m\u001B[0;34m\u001B[0m\u001B[0;34m\u001B[0m\u001B[0m\n",
      "\u001B[0;32m~/Documents/privet/chickens/object-detection-course/TFODCourse/tfod/lib/python3.9/site-packages/tensorflow/python/framework/func_graph.py\u001B[0m in \u001B[0;36mfunc_graph_from_py_func\u001B[0;34m(name, python_func, args, kwargs, signature, func_graph, autograph, autograph_options, add_control_dependencies, arg_names, op_return_value, collections, capture_by_value, override_flat_arg_shapes, acd_record_initial_resource_uses)\u001B[0m\n\u001B[1;32m   1005\u001B[0m         \u001B[0m_\u001B[0m\u001B[0;34m,\u001B[0m \u001B[0moriginal_func\u001B[0m \u001B[0;34m=\u001B[0m \u001B[0mtf_decorator\u001B[0m\u001B[0;34m.\u001B[0m\u001B[0munwrap\u001B[0m\u001B[0;34m(\u001B[0m\u001B[0mpython_func\u001B[0m\u001B[0;34m)\u001B[0m\u001B[0;34m\u001B[0m\u001B[0;34m\u001B[0m\u001B[0m\n\u001B[1;32m   1006\u001B[0m \u001B[0;34m\u001B[0m\u001B[0m\n\u001B[0;32m-> 1007\u001B[0;31m       \u001B[0mfunc_outputs\u001B[0m \u001B[0;34m=\u001B[0m \u001B[0mpython_func\u001B[0m\u001B[0;34m(\u001B[0m\u001B[0;34m*\u001B[0m\u001B[0mfunc_args\u001B[0m\u001B[0;34m,\u001B[0m \u001B[0;34m**\u001B[0m\u001B[0mfunc_kwargs\u001B[0m\u001B[0;34m)\u001B[0m\u001B[0;34m\u001B[0m\u001B[0;34m\u001B[0m\u001B[0m\n\u001B[0m\u001B[1;32m   1008\u001B[0m \u001B[0;34m\u001B[0m\u001B[0m\n\u001B[1;32m   1009\u001B[0m       \u001B[0;31m# invariant: `func_outputs` contains only Tensors, CompositeTensors,\u001B[0m\u001B[0;34m\u001B[0m\u001B[0;34m\u001B[0m\u001B[0m\n",
      "\u001B[0;32m~/Documents/privet/chickens/object-detection-course/TFODCourse/tfod/lib/python3.9/site-packages/tensorflow/python/eager/def_function.py\u001B[0m in \u001B[0;36mwrapped_fn\u001B[0;34m(*args, **kwds)\u001B[0m\n\u001B[1;32m    666\u001B[0m         \u001B[0;31m# the function a weak reference to itself to avoid a reference cycle.\u001B[0m\u001B[0;34m\u001B[0m\u001B[0;34m\u001B[0m\u001B[0m\n\u001B[1;32m    667\u001B[0m         \u001B[0;32mwith\u001B[0m \u001B[0mOptionalXlaContext\u001B[0m\u001B[0;34m(\u001B[0m\u001B[0mcompile_with_xla\u001B[0m\u001B[0;34m)\u001B[0m\u001B[0;34m:\u001B[0m\u001B[0;34m\u001B[0m\u001B[0;34m\u001B[0m\u001B[0m\n\u001B[0;32m--> 668\u001B[0;31m           \u001B[0mout\u001B[0m \u001B[0;34m=\u001B[0m \u001B[0mweak_wrapped_fn\u001B[0m\u001B[0;34m(\u001B[0m\u001B[0;34m)\u001B[0m\u001B[0;34m.\u001B[0m\u001B[0m__wrapped__\u001B[0m\u001B[0;34m(\u001B[0m\u001B[0;34m*\u001B[0m\u001B[0margs\u001B[0m\u001B[0;34m,\u001B[0m \u001B[0;34m**\u001B[0m\u001B[0mkwds\u001B[0m\u001B[0;34m)\u001B[0m\u001B[0;34m\u001B[0m\u001B[0;34m\u001B[0m\u001B[0m\n\u001B[0m\u001B[1;32m    669\u001B[0m         \u001B[0;32mreturn\u001B[0m \u001B[0mout\u001B[0m\u001B[0;34m\u001B[0m\u001B[0;34m\u001B[0m\u001B[0m\n\u001B[1;32m    670\u001B[0m \u001B[0;34m\u001B[0m\u001B[0m\n",
      "\u001B[0;32m~/Documents/privet/chickens/object-detection-course/TFODCourse/tfod/lib/python3.9/site-packages/tensorflow/python/framework/func_graph.py\u001B[0m in \u001B[0;36mwrapper\u001B[0;34m(*args, **kwargs)\u001B[0m\n\u001B[1;32m    981\u001B[0m           \u001B[0;31m# TODO(mdan): Push this block higher in tf.function's call stack.\u001B[0m\u001B[0;34m\u001B[0m\u001B[0;34m\u001B[0m\u001B[0m\n\u001B[1;32m    982\u001B[0m           \u001B[0;32mtry\u001B[0m\u001B[0;34m:\u001B[0m\u001B[0;34m\u001B[0m\u001B[0;34m\u001B[0m\u001B[0m\n\u001B[0;32m--> 983\u001B[0;31m             return autograph.converted_call(\n\u001B[0m\u001B[1;32m    984\u001B[0m                 \u001B[0moriginal_func\u001B[0m\u001B[0;34m,\u001B[0m\u001B[0;34m\u001B[0m\u001B[0;34m\u001B[0m\u001B[0m\n\u001B[1;32m    985\u001B[0m                 \u001B[0margs\u001B[0m\u001B[0;34m,\u001B[0m\u001B[0;34m\u001B[0m\u001B[0;34m\u001B[0m\u001B[0m\n",
      "\u001B[0;32m~/Documents/privet/chickens/object-detection-course/TFODCourse/tfod/lib/python3.9/site-packages/tensorflow/python/autograph/impl/api.py\u001B[0m in \u001B[0;36mconverted_call\u001B[0;34m(f, args, kwargs, caller_fn_scope, options)\u001B[0m\n\u001B[1;32m    442\u001B[0m     \u001B[0;32mtry\u001B[0m\u001B[0;34m:\u001B[0m\u001B[0;34m\u001B[0m\u001B[0;34m\u001B[0m\u001B[0m\n\u001B[1;32m    443\u001B[0m       \u001B[0;32mif\u001B[0m \u001B[0mkwargs\u001B[0m \u001B[0;32mis\u001B[0m \u001B[0;32mnot\u001B[0m \u001B[0;32mNone\u001B[0m\u001B[0;34m:\u001B[0m\u001B[0;34m\u001B[0m\u001B[0;34m\u001B[0m\u001B[0m\n\u001B[0;32m--> 444\u001B[0;31m         \u001B[0mresult\u001B[0m \u001B[0;34m=\u001B[0m \u001B[0mconverted_f\u001B[0m\u001B[0;34m(\u001B[0m\u001B[0;34m*\u001B[0m\u001B[0meffective_args\u001B[0m\u001B[0;34m,\u001B[0m \u001B[0;34m**\u001B[0m\u001B[0mkwargs\u001B[0m\u001B[0;34m)\u001B[0m\u001B[0;34m\u001B[0m\u001B[0;34m\u001B[0m\u001B[0m\n\u001B[0m\u001B[1;32m    445\u001B[0m       \u001B[0;32melse\u001B[0m\u001B[0;34m:\u001B[0m\u001B[0;34m\u001B[0m\u001B[0;34m\u001B[0m\u001B[0m\n\u001B[1;32m    446\u001B[0m         \u001B[0mresult\u001B[0m \u001B[0;34m=\u001B[0m \u001B[0mconverted_f\u001B[0m\u001B[0;34m(\u001B[0m\u001B[0;34m*\u001B[0m\u001B[0meffective_args\u001B[0m\u001B[0;34m)\u001B[0m\u001B[0;34m\u001B[0m\u001B[0;34m\u001B[0m\u001B[0m\n",
      "\u001B[0;32m~/Documents/privet/chickens/production-project/object_detection_project/TFODCourse/tf_object_detector_graphs.py\u001B[0m in \u001B[0;36mtf__detection_function\u001B[0;34m(image)\u001B[0m\n\u001B[1;32m     10\u001B[0m                 \u001B[0mretval_\u001B[0m \u001B[0;34m=\u001B[0m \u001B[0mag__\u001B[0m\u001B[0;34m.\u001B[0m\u001B[0mUndefinedReturnValue\u001B[0m\u001B[0;34m(\u001B[0m\u001B[0;34m)\u001B[0m\u001B[0;34m\u001B[0m\u001B[0;34m\u001B[0m\u001B[0m\n\u001B[1;32m     11\u001B[0m                 \u001B[0;34m(\u001B[0m\u001B[0mimage\u001B[0m\u001B[0;34m,\u001B[0m \u001B[0mshapes\u001B[0m\u001B[0;34m)\u001B[0m \u001B[0;34m=\u001B[0m \u001B[0mag__\u001B[0m\u001B[0;34m.\u001B[0m\u001B[0mconverted_call\u001B[0m\u001B[0;34m(\u001B[0m\u001B[0mag__\u001B[0m\u001B[0;34m.\u001B[0m\u001B[0mld\u001B[0m\u001B[0;34m(\u001B[0m\u001B[0mself\u001B[0m\u001B[0;34m)\u001B[0m\u001B[0;34m.\u001B[0m\u001B[0mmodel\u001B[0m\u001B[0;34m.\u001B[0m\u001B[0mpreprocess\u001B[0m\u001B[0;34m,\u001B[0m \u001B[0;34m(\u001B[0m\u001B[0mag__\u001B[0m\u001B[0;34m.\u001B[0m\u001B[0mld\u001B[0m\u001B[0;34m(\u001B[0m\u001B[0mimage\u001B[0m\u001B[0;34m)\u001B[0m\u001B[0;34m,\u001B[0m\u001B[0;34m)\u001B[0m\u001B[0;34m,\u001B[0m \u001B[0;32mNone\u001B[0m\u001B[0;34m,\u001B[0m \u001B[0mfscope\u001B[0m\u001B[0;34m)\u001B[0m\u001B[0;34m\u001B[0m\u001B[0;34m\u001B[0m\u001B[0m\n\u001B[0;32m---> 12\u001B[0;31m                 \u001B[0mprediction_dict\u001B[0m \u001B[0;34m=\u001B[0m \u001B[0mag__\u001B[0m\u001B[0;34m.\u001B[0m\u001B[0mconverted_call\u001B[0m\u001B[0;34m(\u001B[0m\u001B[0mag__\u001B[0m\u001B[0;34m.\u001B[0m\u001B[0mld\u001B[0m\u001B[0;34m(\u001B[0m\u001B[0mself\u001B[0m\u001B[0;34m)\u001B[0m\u001B[0;34m.\u001B[0m\u001B[0mmodel\u001B[0m\u001B[0;34m.\u001B[0m\u001B[0mpredict\u001B[0m\u001B[0;34m,\u001B[0m \u001B[0;34m(\u001B[0m\u001B[0mag__\u001B[0m\u001B[0;34m.\u001B[0m\u001B[0mld\u001B[0m\u001B[0;34m(\u001B[0m\u001B[0mimage\u001B[0m\u001B[0;34m)\u001B[0m\u001B[0;34m,\u001B[0m \u001B[0mag__\u001B[0m\u001B[0;34m.\u001B[0m\u001B[0mld\u001B[0m\u001B[0;34m(\u001B[0m\u001B[0mshapes\u001B[0m\u001B[0;34m)\u001B[0m\u001B[0;34m)\u001B[0m\u001B[0;34m,\u001B[0m \u001B[0;32mNone\u001B[0m\u001B[0;34m,\u001B[0m \u001B[0mfscope\u001B[0m\u001B[0;34m)\u001B[0m\u001B[0;34m\u001B[0m\u001B[0;34m\u001B[0m\u001B[0m\n\u001B[0m\u001B[1;32m     13\u001B[0m                 \u001B[0mdetections\u001B[0m \u001B[0;34m=\u001B[0m \u001B[0mag__\u001B[0m\u001B[0;34m.\u001B[0m\u001B[0mconverted_call\u001B[0m\u001B[0;34m(\u001B[0m\u001B[0mag__\u001B[0m\u001B[0;34m.\u001B[0m\u001B[0mld\u001B[0m\u001B[0;34m(\u001B[0m\u001B[0mself\u001B[0m\u001B[0;34m)\u001B[0m\u001B[0;34m.\u001B[0m\u001B[0mmodel\u001B[0m\u001B[0;34m.\u001B[0m\u001B[0mpostprocess\u001B[0m\u001B[0;34m,\u001B[0m \u001B[0;34m(\u001B[0m\u001B[0mag__\u001B[0m\u001B[0;34m.\u001B[0m\u001B[0mld\u001B[0m\u001B[0;34m(\u001B[0m\u001B[0mprediction_dict\u001B[0m\u001B[0;34m)\u001B[0m\u001B[0;34m,\u001B[0m \u001B[0mag__\u001B[0m\u001B[0;34m.\u001B[0m\u001B[0mld\u001B[0m\u001B[0;34m(\u001B[0m\u001B[0mshapes\u001B[0m\u001B[0;34m)\u001B[0m\u001B[0;34m)\u001B[0m\u001B[0;34m,\u001B[0m \u001B[0;32mNone\u001B[0m\u001B[0;34m,\u001B[0m \u001B[0mfscope\u001B[0m\u001B[0;34m)\u001B[0m\u001B[0;34m\u001B[0m\u001B[0;34m\u001B[0m\u001B[0m\n\u001B[1;32m     14\u001B[0m                 \u001B[0;32mtry\u001B[0m\u001B[0;34m:\u001B[0m\u001B[0;34m\u001B[0m\u001B[0;34m\u001B[0m\u001B[0m\n",
      "\u001B[0;32m~/Documents/privet/chickens/object-detection-course/TFODCourse/tfod/lib/python3.9/site-packages/tensorflow/python/autograph/impl/api.py\u001B[0m in \u001B[0;36mconverted_call\u001B[0;34m(f, args, kwargs, caller_fn_scope, options)\u001B[0m\n\u001B[1;32m    444\u001B[0m         \u001B[0mresult\u001B[0m \u001B[0;34m=\u001B[0m \u001B[0mconverted_f\u001B[0m\u001B[0;34m(\u001B[0m\u001B[0;34m*\u001B[0m\u001B[0meffective_args\u001B[0m\u001B[0;34m,\u001B[0m \u001B[0;34m**\u001B[0m\u001B[0mkwargs\u001B[0m\u001B[0;34m)\u001B[0m\u001B[0;34m\u001B[0m\u001B[0;34m\u001B[0m\u001B[0m\n\u001B[1;32m    445\u001B[0m       \u001B[0;32melse\u001B[0m\u001B[0;34m:\u001B[0m\u001B[0;34m\u001B[0m\u001B[0;34m\u001B[0m\u001B[0m\n\u001B[0;32m--> 446\u001B[0;31m         \u001B[0mresult\u001B[0m \u001B[0;34m=\u001B[0m \u001B[0mconverted_f\u001B[0m\u001B[0;34m(\u001B[0m\u001B[0;34m*\u001B[0m\u001B[0meffective_args\u001B[0m\u001B[0;34m)\u001B[0m\u001B[0;34m\u001B[0m\u001B[0;34m\u001B[0m\u001B[0m\n\u001B[0m\u001B[1;32m    447\u001B[0m     \u001B[0;32mexcept\u001B[0m \u001B[0mException\u001B[0m \u001B[0;32mas\u001B[0m \u001B[0me\u001B[0m\u001B[0;34m:\u001B[0m\u001B[0;34m\u001B[0m\u001B[0;34m\u001B[0m\u001B[0m\n\u001B[1;32m    448\u001B[0m       \u001B[0m_attach_error_metadata\u001B[0m\u001B[0;34m(\u001B[0m\u001B[0me\u001B[0m\u001B[0;34m,\u001B[0m \u001B[0mconverted_f\u001B[0m\u001B[0;34m)\u001B[0m\u001B[0;34m\u001B[0m\u001B[0;34m\u001B[0m\u001B[0m\n",
      "\u001B[0;32m~/Documents/privet/chickens/object-detection-course/TFODCourse/tfod/lib/python3.9/site-packages/object_detection/meta_architectures/ssd_meta_arch.py\u001B[0m in \u001B[0;36mtf__predict\u001B[0;34m(self, preprocessed_inputs, true_image_shapes)\u001B[0m\n\u001B[1;32m     85\u001B[0m                 \u001B[0mfeature_map_spatial_dims\u001B[0m \u001B[0;34m=\u001B[0m \u001B[0mag__\u001B[0m\u001B[0;34m.\u001B[0m\u001B[0mconverted_call\u001B[0m\u001B[0;34m(\u001B[0m\u001B[0mag__\u001B[0m\u001B[0;34m.\u001B[0m\u001B[0mld\u001B[0m\u001B[0;34m(\u001B[0m\u001B[0mself\u001B[0m\u001B[0;34m)\u001B[0m\u001B[0;34m.\u001B[0m\u001B[0m_get_feature_map_spatial_dims\u001B[0m\u001B[0;34m,\u001B[0m \u001B[0;34m(\u001B[0m\u001B[0mag__\u001B[0m\u001B[0;34m.\u001B[0m\u001B[0mld\u001B[0m\u001B[0;34m(\u001B[0m\u001B[0mfeature_maps\u001B[0m\u001B[0;34m)\u001B[0m\u001B[0;34m,\u001B[0m\u001B[0;34m)\u001B[0m\u001B[0;34m,\u001B[0m \u001B[0;32mNone\u001B[0m\u001B[0;34m,\u001B[0m \u001B[0mfscope\u001B[0m\u001B[0;34m)\u001B[0m\u001B[0;34m\u001B[0m\u001B[0;34m\u001B[0m\u001B[0m\n\u001B[1;32m     86\u001B[0m                 \u001B[0mimage_shape\u001B[0m \u001B[0;34m=\u001B[0m \u001B[0mag__\u001B[0m\u001B[0;34m.\u001B[0m\u001B[0mconverted_call\u001B[0m\u001B[0;34m(\u001B[0m\u001B[0mag__\u001B[0m\u001B[0;34m.\u001B[0m\u001B[0mld\u001B[0m\u001B[0;34m(\u001B[0m\u001B[0mshape_utils\u001B[0m\u001B[0;34m)\u001B[0m\u001B[0;34m.\u001B[0m\u001B[0mcombined_static_and_dynamic_shape\u001B[0m\u001B[0;34m,\u001B[0m \u001B[0;34m(\u001B[0m\u001B[0mag__\u001B[0m\u001B[0;34m.\u001B[0m\u001B[0mld\u001B[0m\u001B[0;34m(\u001B[0m\u001B[0mpreprocessed_inputs\u001B[0m\u001B[0;34m)\u001B[0m\u001B[0;34m,\u001B[0m\u001B[0;34m)\u001B[0m\u001B[0;34m,\u001B[0m \u001B[0;32mNone\u001B[0m\u001B[0;34m,\u001B[0m \u001B[0mfscope\u001B[0m\u001B[0;34m)\u001B[0m\u001B[0;34m\u001B[0m\u001B[0;34m\u001B[0m\u001B[0m\n\u001B[0;32m---> 87\u001B[0;31m                 \u001B[0mboxlist_list\u001B[0m \u001B[0;34m=\u001B[0m \u001B[0mag__\u001B[0m\u001B[0;34m.\u001B[0m\u001B[0mconverted_call\u001B[0m\u001B[0;34m(\u001B[0m\u001B[0mag__\u001B[0m\u001B[0;34m.\u001B[0m\u001B[0mld\u001B[0m\u001B[0;34m(\u001B[0m\u001B[0mself\u001B[0m\u001B[0;34m)\u001B[0m\u001B[0;34m.\u001B[0m\u001B[0m_anchor_generator\u001B[0m\u001B[0;34m.\u001B[0m\u001B[0mgenerate\u001B[0m\u001B[0;34m,\u001B[0m \u001B[0;34m(\u001B[0m\u001B[0mag__\u001B[0m\u001B[0;34m.\u001B[0m\u001B[0mld\u001B[0m\u001B[0;34m(\u001B[0m\u001B[0mfeature_map_spatial_dims\u001B[0m\u001B[0;34m)\u001B[0m\u001B[0;34m,\u001B[0m\u001B[0;34m)\u001B[0m\u001B[0;34m,\u001B[0m \u001B[0mdict\u001B[0m\u001B[0;34m(\u001B[0m\u001B[0mim_height\u001B[0m\u001B[0;34m=\u001B[0m\u001B[0mag__\u001B[0m\u001B[0;34m.\u001B[0m\u001B[0mld\u001B[0m\u001B[0;34m(\u001B[0m\u001B[0mimage_shape\u001B[0m\u001B[0;34m)\u001B[0m\u001B[0;34m[\u001B[0m\u001B[0;36m1\u001B[0m\u001B[0;34m]\u001B[0m\u001B[0;34m,\u001B[0m \u001B[0mim_width\u001B[0m\u001B[0;34m=\u001B[0m\u001B[0mag__\u001B[0m\u001B[0;34m.\u001B[0m\u001B[0mld\u001B[0m\u001B[0;34m(\u001B[0m\u001B[0mimage_shape\u001B[0m\u001B[0;34m)\u001B[0m\u001B[0;34m[\u001B[0m\u001B[0;36m2\u001B[0m\u001B[0;34m]\u001B[0m\u001B[0;34m)\u001B[0m\u001B[0;34m,\u001B[0m \u001B[0mfscope\u001B[0m\u001B[0;34m)\u001B[0m\u001B[0;34m\u001B[0m\u001B[0;34m\u001B[0m\u001B[0m\n\u001B[0m\u001B[1;32m     88\u001B[0m                 \u001B[0mag__\u001B[0m\u001B[0;34m.\u001B[0m\u001B[0mld\u001B[0m\u001B[0;34m(\u001B[0m\u001B[0mself\u001B[0m\u001B[0;34m)\u001B[0m\u001B[0;34m.\u001B[0m\u001B[0m_anchors\u001B[0m \u001B[0;34m=\u001B[0m \u001B[0mag__\u001B[0m\u001B[0;34m.\u001B[0m\u001B[0mconverted_call\u001B[0m\u001B[0;34m(\u001B[0m\u001B[0mag__\u001B[0m\u001B[0;34m.\u001B[0m\u001B[0mld\u001B[0m\u001B[0;34m(\u001B[0m\u001B[0mbox_list_ops\u001B[0m\u001B[0;34m)\u001B[0m\u001B[0;34m.\u001B[0m\u001B[0mconcatenate\u001B[0m\u001B[0;34m,\u001B[0m \u001B[0;34m(\u001B[0m\u001B[0mag__\u001B[0m\u001B[0;34m.\u001B[0m\u001B[0mld\u001B[0m\u001B[0;34m(\u001B[0m\u001B[0mboxlist_list\u001B[0m\u001B[0;34m)\u001B[0m\u001B[0;34m,\u001B[0m\u001B[0;34m)\u001B[0m\u001B[0;34m,\u001B[0m \u001B[0;32mNone\u001B[0m\u001B[0;34m,\u001B[0m \u001B[0mfscope\u001B[0m\u001B[0;34m)\u001B[0m\u001B[0;34m\u001B[0m\u001B[0;34m\u001B[0m\u001B[0m\n\u001B[1;32m     89\u001B[0m \u001B[0;34m\u001B[0m\u001B[0m\n",
      "\u001B[0;32m~/Documents/privet/chickens/object-detection-course/TFODCourse/tfod/lib/python3.9/site-packages/tensorflow/python/autograph/impl/api.py\u001B[0m in \u001B[0;36mconverted_call\u001B[0;34m(f, args, kwargs, caller_fn_scope, options)\u001B[0m\n\u001B[1;32m    442\u001B[0m     \u001B[0;32mtry\u001B[0m\u001B[0;34m:\u001B[0m\u001B[0;34m\u001B[0m\u001B[0;34m\u001B[0m\u001B[0m\n\u001B[1;32m    443\u001B[0m       \u001B[0;32mif\u001B[0m \u001B[0mkwargs\u001B[0m \u001B[0;32mis\u001B[0m \u001B[0;32mnot\u001B[0m \u001B[0;32mNone\u001B[0m\u001B[0;34m:\u001B[0m\u001B[0;34m\u001B[0m\u001B[0;34m\u001B[0m\u001B[0m\n\u001B[0;32m--> 444\u001B[0;31m         \u001B[0mresult\u001B[0m \u001B[0;34m=\u001B[0m \u001B[0mconverted_f\u001B[0m\u001B[0;34m(\u001B[0m\u001B[0;34m*\u001B[0m\u001B[0meffective_args\u001B[0m\u001B[0;34m,\u001B[0m \u001B[0;34m**\u001B[0m\u001B[0mkwargs\u001B[0m\u001B[0;34m)\u001B[0m\u001B[0;34m\u001B[0m\u001B[0;34m\u001B[0m\u001B[0m\n\u001B[0m\u001B[1;32m    445\u001B[0m       \u001B[0;32melse\u001B[0m\u001B[0;34m:\u001B[0m\u001B[0;34m\u001B[0m\u001B[0;34m\u001B[0m\u001B[0m\n\u001B[1;32m    446\u001B[0m         \u001B[0mresult\u001B[0m \u001B[0;34m=\u001B[0m \u001B[0mconverted_f\u001B[0m\u001B[0;34m(\u001B[0m\u001B[0;34m*\u001B[0m\u001B[0meffective_args\u001B[0m\u001B[0;34m)\u001B[0m\u001B[0;34m\u001B[0m\u001B[0;34m\u001B[0m\u001B[0m\n",
      "\u001B[0;32m~/Documents/privet/chickens/object-detection-course/TFODCourse/tfod/lib/python3.9/site-packages/object_detection/core/anchor_generator.py\u001B[0m in \u001B[0;36mtf__generate\u001B[0;34m(self, feature_map_shape_list, **params)\u001B[0m\n\u001B[1;32m     43\u001B[0m                 \u001B[0mag__\u001B[0m\u001B[0;34m.\u001B[0m\u001B[0mif_stmt\u001B[0m\u001B[0;34m(\u001B[0m\u001B[0mag__\u001B[0m\u001B[0;34m.\u001B[0m\u001B[0mand_\u001B[0m\u001B[0;34m(\u001B[0m\u001B[0;32mlambda\u001B[0m \u001B[0;34m:\u001B[0m \u001B[0mag__\u001B[0m\u001B[0;34m.\u001B[0m\u001B[0mld\u001B[0m\u001B[0;34m(\u001B[0m\u001B[0mself\u001B[0m\u001B[0;34m)\u001B[0m\u001B[0;34m.\u001B[0m\u001B[0mcheck_num_anchors\u001B[0m\u001B[0;34m,\u001B[0m \u001B[0;32mlambda\u001B[0m \u001B[0;34m:\u001B[0m \u001B[0mag__\u001B[0m\u001B[0;34m.\u001B[0m\u001B[0mconverted_call\u001B[0m\u001B[0;34m(\u001B[0m\u001B[0mag__\u001B[0m\u001B[0;34m.\u001B[0m\u001B[0mld\u001B[0m\u001B[0;34m(\u001B[0m\u001B[0mlen\u001B[0m\u001B[0;34m)\u001B[0m\u001B[0;34m,\u001B[0m \u001B[0;34m(\u001B[0m\u001B[0mag__\u001B[0m\u001B[0;34m.\u001B[0m\u001B[0mld\u001B[0m\u001B[0;34m(\u001B[0m\u001B[0mfeature_map_shape_list\u001B[0m\u001B[0;34m)\u001B[0m\u001B[0;34m,\u001B[0m\u001B[0;34m)\u001B[0m\u001B[0;34m,\u001B[0m \u001B[0;32mNone\u001B[0m\u001B[0;34m,\u001B[0m \u001B[0mfscope\u001B[0m\u001B[0;34m)\u001B[0m \u001B[0;34m!=\u001B[0m \u001B[0mag__\u001B[0m\u001B[0;34m.\u001B[0m\u001B[0mconverted_call\u001B[0m\u001B[0;34m(\u001B[0m\u001B[0mag__\u001B[0m\u001B[0;34m.\u001B[0m\u001B[0mld\u001B[0m\u001B[0;34m(\u001B[0m\u001B[0mlen\u001B[0m\u001B[0;34m)\u001B[0m\u001B[0;34m,\u001B[0m \u001B[0;34m(\u001B[0m\u001B[0mag__\u001B[0m\u001B[0;34m.\u001B[0m\u001B[0mconverted_call\u001B[0m\u001B[0;34m(\u001B[0m\u001B[0mag__\u001B[0m\u001B[0;34m.\u001B[0m\u001B[0mld\u001B[0m\u001B[0;34m(\u001B[0m\u001B[0mself\u001B[0m\u001B[0;34m)\u001B[0m\u001B[0;34m.\u001B[0m\u001B[0mnum_anchors_per_location\u001B[0m\u001B[0;34m,\u001B[0m \u001B[0;34m(\u001B[0m\u001B[0;34m)\u001B[0m\u001B[0;34m,\u001B[0m \u001B[0;32mNone\u001B[0m\u001B[0;34m,\u001B[0m \u001B[0mfscope\u001B[0m\u001B[0;34m)\u001B[0m\u001B[0;34m,\u001B[0m\u001B[0;34m)\u001B[0m\u001B[0;34m,\u001B[0m \u001B[0;32mNone\u001B[0m\u001B[0;34m,\u001B[0m \u001B[0mfscope\u001B[0m\u001B[0;34m)\u001B[0m\u001B[0;34m)\u001B[0m\u001B[0;34m,\u001B[0m \u001B[0mif_body\u001B[0m\u001B[0;34m,\u001B[0m \u001B[0melse_body\u001B[0m\u001B[0;34m,\u001B[0m \u001B[0mget_state\u001B[0m\u001B[0;34m,\u001B[0m \u001B[0mset_state\u001B[0m\u001B[0;34m,\u001B[0m \u001B[0;34m(\u001B[0m\u001B[0;34m)\u001B[0m\u001B[0;34m,\u001B[0m \u001B[0;36m0\u001B[0m\u001B[0;34m)\u001B[0m\u001B[0;34m\u001B[0m\u001B[0;34m\u001B[0m\u001B[0m\n\u001B[1;32m     44\u001B[0m                 \u001B[0;32mwith\u001B[0m \u001B[0mag__\u001B[0m\u001B[0;34m.\u001B[0m\u001B[0mld\u001B[0m\u001B[0;34m(\u001B[0m\u001B[0mtf\u001B[0m\u001B[0;34m)\u001B[0m\u001B[0;34m.\u001B[0m\u001B[0mname_scope\u001B[0m\u001B[0;34m(\u001B[0m\u001B[0mag__\u001B[0m\u001B[0;34m.\u001B[0m\u001B[0mld\u001B[0m\u001B[0;34m(\u001B[0m\u001B[0mself\u001B[0m\u001B[0;34m)\u001B[0m\u001B[0;34m.\u001B[0m\u001B[0mname_scope\u001B[0m\u001B[0;34m(\u001B[0m\u001B[0;34m)\u001B[0m\u001B[0;34m)\u001B[0m\u001B[0;34m:\u001B[0m\u001B[0;34m\u001B[0m\u001B[0;34m\u001B[0m\u001B[0m\n\u001B[0;32m---> 45\u001B[0;31m                     \u001B[0manchors_list\u001B[0m \u001B[0;34m=\u001B[0m \u001B[0mag__\u001B[0m\u001B[0;34m.\u001B[0m\u001B[0mconverted_call\u001B[0m\u001B[0;34m(\u001B[0m\u001B[0mag__\u001B[0m\u001B[0;34m.\u001B[0m\u001B[0mld\u001B[0m\u001B[0;34m(\u001B[0m\u001B[0mself\u001B[0m\u001B[0;34m)\u001B[0m\u001B[0;34m.\u001B[0m\u001B[0m_generate\u001B[0m\u001B[0;34m,\u001B[0m \u001B[0;34m(\u001B[0m\u001B[0mag__\u001B[0m\u001B[0;34m.\u001B[0m\u001B[0mld\u001B[0m\u001B[0;34m(\u001B[0m\u001B[0mfeature_map_shape_list\u001B[0m\u001B[0;34m)\u001B[0m\u001B[0;34m,\u001B[0m\u001B[0;34m)\u001B[0m\u001B[0;34m,\u001B[0m \u001B[0mdict\u001B[0m\u001B[0;34m(\u001B[0m\u001B[0;34m**\u001B[0m\u001B[0mag__\u001B[0m\u001B[0;34m.\u001B[0m\u001B[0mld\u001B[0m\u001B[0;34m(\u001B[0m\u001B[0mparams\u001B[0m\u001B[0;34m)\u001B[0m\u001B[0;34m)\u001B[0m\u001B[0;34m,\u001B[0m \u001B[0mfscope\u001B[0m\u001B[0;34m)\u001B[0m\u001B[0;34m\u001B[0m\u001B[0;34m\u001B[0m\u001B[0m\n\u001B[0m\u001B[1;32m     46\u001B[0m \u001B[0;34m\u001B[0m\u001B[0m\n\u001B[1;32m     47\u001B[0m                     \u001B[0;32mdef\u001B[0m \u001B[0mget_state_2\u001B[0m\u001B[0;34m(\u001B[0m\u001B[0;34m)\u001B[0m\u001B[0;34m:\u001B[0m\u001B[0;34m\u001B[0m\u001B[0;34m\u001B[0m\u001B[0m\n",
      "\u001B[0;32m~/Documents/privet/chickens/object-detection-course/TFODCourse/tfod/lib/python3.9/site-packages/tensorflow/python/autograph/impl/api.py\u001B[0m in \u001B[0;36mconverted_call\u001B[0;34m(f, args, kwargs, caller_fn_scope, options)\u001B[0m\n\u001B[1;32m    430\u001B[0m   \u001B[0;32mtry\u001B[0m\u001B[0;34m:\u001B[0m\u001B[0;34m\u001B[0m\u001B[0;34m\u001B[0m\u001B[0m\n\u001B[1;32m    431\u001B[0m     \u001B[0mprogram_ctx\u001B[0m \u001B[0;34m=\u001B[0m \u001B[0mconverter\u001B[0m\u001B[0;34m.\u001B[0m\u001B[0mProgramContext\u001B[0m\u001B[0;34m(\u001B[0m\u001B[0moptions\u001B[0m\u001B[0;34m=\u001B[0m\u001B[0moptions\u001B[0m\u001B[0;34m)\u001B[0m\u001B[0;34m\u001B[0m\u001B[0;34m\u001B[0m\u001B[0m\n\u001B[0;32m--> 432\u001B[0;31m     \u001B[0mconverted_f\u001B[0m \u001B[0;34m=\u001B[0m \u001B[0m_convert_actual\u001B[0m\u001B[0;34m(\u001B[0m\u001B[0mtarget_entity\u001B[0m\u001B[0;34m,\u001B[0m \u001B[0mprogram_ctx\u001B[0m\u001B[0;34m)\u001B[0m\u001B[0;34m\u001B[0m\u001B[0;34m\u001B[0m\u001B[0m\n\u001B[0m\u001B[1;32m    433\u001B[0m     \u001B[0;32mif\u001B[0m \u001B[0mlogging\u001B[0m\u001B[0;34m.\u001B[0m\u001B[0mhas_verbosity\u001B[0m\u001B[0;34m(\u001B[0m\u001B[0;36m2\u001B[0m\u001B[0;34m)\u001B[0m\u001B[0;34m:\u001B[0m\u001B[0;34m\u001B[0m\u001B[0;34m\u001B[0m\u001B[0m\n\u001B[1;32m    434\u001B[0m       \u001B[0m_log_callargs\u001B[0m\u001B[0;34m(\u001B[0m\u001B[0mconverted_f\u001B[0m\u001B[0;34m,\u001B[0m \u001B[0meffective_args\u001B[0m\u001B[0;34m,\u001B[0m \u001B[0mkwargs\u001B[0m\u001B[0;34m)\u001B[0m\u001B[0;34m\u001B[0m\u001B[0;34m\u001B[0m\u001B[0m\n",
      "\u001B[0;32m~/Documents/privet/chickens/object-detection-course/TFODCourse/tfod/lib/python3.9/site-packages/tensorflow/python/autograph/impl/api.py\u001B[0m in \u001B[0;36m_convert_actual\u001B[0;34m(entity, program_ctx)\u001B[0m\n\u001B[1;32m    272\u001B[0m                      ' try passing f.python_function instead.')\n\u001B[1;32m    273\u001B[0m \u001B[0;34m\u001B[0m\u001B[0m\n\u001B[0;32m--> 274\u001B[0;31m   \u001B[0mtransformed\u001B[0m\u001B[0;34m,\u001B[0m \u001B[0mmodule\u001B[0m\u001B[0;34m,\u001B[0m \u001B[0msource_map\u001B[0m \u001B[0;34m=\u001B[0m \u001B[0m_TRANSPILER\u001B[0m\u001B[0;34m.\u001B[0m\u001B[0mtransform\u001B[0m\u001B[0;34m(\u001B[0m\u001B[0mentity\u001B[0m\u001B[0;34m,\u001B[0m \u001B[0mprogram_ctx\u001B[0m\u001B[0;34m)\u001B[0m\u001B[0;34m\u001B[0m\u001B[0;34m\u001B[0m\u001B[0m\n\u001B[0m\u001B[1;32m    275\u001B[0m \u001B[0;34m\u001B[0m\u001B[0m\n\u001B[1;32m    276\u001B[0m   \u001B[0;32massert\u001B[0m \u001B[0;32mnot\u001B[0m \u001B[0mhasattr\u001B[0m\u001B[0;34m(\u001B[0m\u001B[0mtransformed\u001B[0m\u001B[0;34m,\u001B[0m \u001B[0;34m'ag_module'\u001B[0m\u001B[0;34m)\u001B[0m\u001B[0;34m\u001B[0m\u001B[0;34m\u001B[0m\u001B[0m\n",
      "\u001B[0;32m~/Documents/privet/chickens/object-detection-course/TFODCourse/tfod/lib/python3.9/site-packages/tensorflow/python/autograph/pyct/transpiler.py\u001B[0m in \u001B[0;36mtransform\u001B[0;34m(self, obj, user_context)\u001B[0m\n\u001B[1;32m    284\u001B[0m     \"\"\"\n\u001B[1;32m    285\u001B[0m     \u001B[0;32mif\u001B[0m \u001B[0minspect\u001B[0m\u001B[0;34m.\u001B[0m\u001B[0misfunction\u001B[0m\u001B[0;34m(\u001B[0m\u001B[0mobj\u001B[0m\u001B[0;34m)\u001B[0m \u001B[0;32mor\u001B[0m \u001B[0minspect\u001B[0m\u001B[0;34m.\u001B[0m\u001B[0mismethod\u001B[0m\u001B[0;34m(\u001B[0m\u001B[0mobj\u001B[0m\u001B[0;34m)\u001B[0m\u001B[0;34m:\u001B[0m\u001B[0;34m\u001B[0m\u001B[0;34m\u001B[0m\u001B[0m\n\u001B[0;32m--> 286\u001B[0;31m       \u001B[0;32mreturn\u001B[0m \u001B[0mself\u001B[0m\u001B[0;34m.\u001B[0m\u001B[0mtransform_function\u001B[0m\u001B[0;34m(\u001B[0m\u001B[0mobj\u001B[0m\u001B[0;34m,\u001B[0m \u001B[0muser_context\u001B[0m\u001B[0;34m)\u001B[0m\u001B[0;34m\u001B[0m\u001B[0;34m\u001B[0m\u001B[0m\n\u001B[0m\u001B[1;32m    287\u001B[0m \u001B[0;34m\u001B[0m\u001B[0m\n\u001B[1;32m    288\u001B[0m     \u001B[0;32mraise\u001B[0m \u001B[0mNotImplementedError\u001B[0m\u001B[0;34m(\u001B[0m\u001B[0;34m'Non-function: {}'\u001B[0m\u001B[0;34m.\u001B[0m\u001B[0mformat\u001B[0m\u001B[0;34m(\u001B[0m\u001B[0mtype\u001B[0m\u001B[0;34m(\u001B[0m\u001B[0mobj\u001B[0m\u001B[0;34m)\u001B[0m\u001B[0;34m)\u001B[0m\u001B[0;34m)\u001B[0m\u001B[0;34m\u001B[0m\u001B[0;34m\u001B[0m\u001B[0m\n",
      "\u001B[0;32m~/Documents/privet/chickens/object-detection-course/TFODCourse/tfod/lib/python3.9/site-packages/tensorflow/python/autograph/pyct/transpiler.py\u001B[0m in \u001B[0;36mtransform_function\u001B[0;34m(self, fn, user_context)\u001B[0m\n\u001B[1;32m    468\u001B[0m           \u001B[0mlogging\u001B[0m\u001B[0;34m.\u001B[0m\u001B[0mlog\u001B[0m\u001B[0;34m(\u001B[0m\u001B[0;36m1\u001B[0m\u001B[0;34m,\u001B[0m \u001B[0;34m'%s is not cached for subkey %s'\u001B[0m\u001B[0;34m,\u001B[0m \u001B[0mfn\u001B[0m\u001B[0;34m,\u001B[0m \u001B[0mcache_subkey\u001B[0m\u001B[0;34m)\u001B[0m\u001B[0;34m\u001B[0m\u001B[0;34m\u001B[0m\u001B[0m\n\u001B[1;32m    469\u001B[0m           \u001B[0;31m# TODO(mdan): Confusing overloading pattern. Fix.\u001B[0m\u001B[0;34m\u001B[0m\u001B[0;34m\u001B[0m\u001B[0m\n\u001B[0;32m--> 470\u001B[0;31m           \u001B[0mnodes\u001B[0m\u001B[0;34m,\u001B[0m \u001B[0mctx\u001B[0m \u001B[0;34m=\u001B[0m \u001B[0msuper\u001B[0m\u001B[0;34m(\u001B[0m\u001B[0mPyToPy\u001B[0m\u001B[0;34m,\u001B[0m \u001B[0mself\u001B[0m\u001B[0;34m)\u001B[0m\u001B[0;34m.\u001B[0m\u001B[0mtransform_function\u001B[0m\u001B[0;34m(\u001B[0m\u001B[0mfn\u001B[0m\u001B[0;34m,\u001B[0m \u001B[0muser_context\u001B[0m\u001B[0;34m)\u001B[0m\u001B[0;34m\u001B[0m\u001B[0;34m\u001B[0m\u001B[0m\n\u001B[0m\u001B[1;32m    471\u001B[0m \u001B[0;34m\u001B[0m\u001B[0m\n\u001B[1;32m    472\u001B[0m           \u001B[0;32mif\u001B[0m \u001B[0misinstance\u001B[0m\u001B[0;34m(\u001B[0m\u001B[0mnodes\u001B[0m\u001B[0;34m,\u001B[0m \u001B[0mgast\u001B[0m\u001B[0;34m.\u001B[0m\u001B[0mLambda\u001B[0m\u001B[0;34m)\u001B[0m\u001B[0;34m:\u001B[0m\u001B[0;34m\u001B[0m\u001B[0;34m\u001B[0m\u001B[0m\n",
      "\u001B[0;32m~/Documents/privet/chickens/object-detection-course/TFODCourse/tfod/lib/python3.9/site-packages/tensorflow/python/autograph/pyct/transpiler.py\u001B[0m in \u001B[0;36mtransform_function\u001B[0;34m(self, fn, user_context)\u001B[0m\n\u001B[1;32m    361\u001B[0m \u001B[0;34m\u001B[0m\u001B[0m\n\u001B[1;32m    362\u001B[0m     \u001B[0mnode\u001B[0m \u001B[0;34m=\u001B[0m \u001B[0mself\u001B[0m\u001B[0;34m.\u001B[0m\u001B[0m_erase_arg_defaults\u001B[0m\u001B[0;34m(\u001B[0m\u001B[0mnode\u001B[0m\u001B[0;34m)\u001B[0m\u001B[0;34m\u001B[0m\u001B[0;34m\u001B[0m\u001B[0m\n\u001B[0;32m--> 363\u001B[0;31m     \u001B[0mresult\u001B[0m \u001B[0;34m=\u001B[0m \u001B[0mself\u001B[0m\u001B[0;34m.\u001B[0m\u001B[0mtransform_ast\u001B[0m\u001B[0;34m(\u001B[0m\u001B[0mnode\u001B[0m\u001B[0;34m,\u001B[0m \u001B[0mcontext\u001B[0m\u001B[0;34m)\u001B[0m\u001B[0;34m\u001B[0m\u001B[0;34m\u001B[0m\u001B[0m\n\u001B[0m\u001B[1;32m    364\u001B[0m \u001B[0;34m\u001B[0m\u001B[0m\n\u001B[1;32m    365\u001B[0m     \u001B[0;32mreturn\u001B[0m \u001B[0mresult\u001B[0m\u001B[0;34m,\u001B[0m \u001B[0mcontext\u001B[0m\u001B[0;34m\u001B[0m\u001B[0;34m\u001B[0m\u001B[0m\n",
      "\u001B[0;32m~/Documents/privet/chickens/object-detection-course/TFODCourse/tfod/lib/python3.9/site-packages/tensorflow/python/autograph/impl/api.py\u001B[0m in \u001B[0;36mtransform_ast\u001B[0;34m(self, node, ctx)\u001B[0m\n\u001B[1;32m    256\u001B[0m       \u001B[0mnode\u001B[0m \u001B[0;34m=\u001B[0m \u001B[0mslices\u001B[0m\u001B[0;34m.\u001B[0m\u001B[0mtransform\u001B[0m\u001B[0;34m(\u001B[0m\u001B[0mnode\u001B[0m\u001B[0;34m,\u001B[0m \u001B[0mctx\u001B[0m\u001B[0;34m)\u001B[0m\u001B[0;34m\u001B[0m\u001B[0;34m\u001B[0m\u001B[0m\n\u001B[1;32m    257\u001B[0m     \u001B[0mnode\u001B[0m \u001B[0;34m=\u001B[0m \u001B[0mcall_trees\u001B[0m\u001B[0;34m.\u001B[0m\u001B[0mtransform\u001B[0m\u001B[0;34m(\u001B[0m\u001B[0mnode\u001B[0m\u001B[0;34m,\u001B[0m \u001B[0mctx\u001B[0m\u001B[0;34m)\u001B[0m\u001B[0;34m\u001B[0m\u001B[0;34m\u001B[0m\u001B[0m\n\u001B[0;32m--> 258\u001B[0;31m     \u001B[0mnode\u001B[0m \u001B[0;34m=\u001B[0m \u001B[0mcontrol_flow\u001B[0m\u001B[0;34m.\u001B[0m\u001B[0mtransform\u001B[0m\u001B[0;34m(\u001B[0m\u001B[0mnode\u001B[0m\u001B[0;34m,\u001B[0m \u001B[0mctx\u001B[0m\u001B[0;34m)\u001B[0m\u001B[0;34m\u001B[0m\u001B[0;34m\u001B[0m\u001B[0m\n\u001B[0m\u001B[1;32m    259\u001B[0m     \u001B[0mnode\u001B[0m \u001B[0;34m=\u001B[0m \u001B[0mconditional_expressions\u001B[0m\u001B[0;34m.\u001B[0m\u001B[0mtransform\u001B[0m\u001B[0;34m(\u001B[0m\u001B[0mnode\u001B[0m\u001B[0;34m,\u001B[0m \u001B[0mctx\u001B[0m\u001B[0;34m)\u001B[0m\u001B[0;34m\u001B[0m\u001B[0;34m\u001B[0m\u001B[0m\n\u001B[1;32m    260\u001B[0m     \u001B[0mnode\u001B[0m \u001B[0;34m=\u001B[0m \u001B[0mlogical_expressions\u001B[0m\u001B[0;34m.\u001B[0m\u001B[0mtransform\u001B[0m\u001B[0;34m(\u001B[0m\u001B[0mnode\u001B[0m\u001B[0;34m,\u001B[0m \u001B[0mctx\u001B[0m\u001B[0;34m)\u001B[0m\u001B[0;34m\u001B[0m\u001B[0;34m\u001B[0m\u001B[0m\n",
      "\u001B[0;32m~/Documents/privet/chickens/object-detection-course/TFODCourse/tfod/lib/python3.9/site-packages/tensorflow/python/autograph/converters/control_flow.py\u001B[0m in \u001B[0;36mtransform\u001B[0;34m(node, ctx)\u001B[0m\n\u001B[1;32m    409\u001B[0m   \u001B[0mgraphs\u001B[0m \u001B[0;34m=\u001B[0m \u001B[0mcfg\u001B[0m\u001B[0;34m.\u001B[0m\u001B[0mbuild\u001B[0m\u001B[0;34m(\u001B[0m\u001B[0mnode\u001B[0m\u001B[0;34m)\u001B[0m\u001B[0;34m\u001B[0m\u001B[0;34m\u001B[0m\u001B[0m\n\u001B[1;32m    410\u001B[0m   \u001B[0mnode\u001B[0m \u001B[0;34m=\u001B[0m \u001B[0mqual_names\u001B[0m\u001B[0;34m.\u001B[0m\u001B[0mresolve\u001B[0m\u001B[0;34m(\u001B[0m\u001B[0mnode\u001B[0m\u001B[0;34m)\u001B[0m\u001B[0;34m\u001B[0m\u001B[0;34m\u001B[0m\u001B[0m\n\u001B[0;32m--> 411\u001B[0;31m   \u001B[0mnode\u001B[0m \u001B[0;34m=\u001B[0m \u001B[0mactivity\u001B[0m\u001B[0;34m.\u001B[0m\u001B[0mresolve\u001B[0m\u001B[0;34m(\u001B[0m\u001B[0mnode\u001B[0m\u001B[0;34m,\u001B[0m \u001B[0mctx\u001B[0m\u001B[0;34m,\u001B[0m \u001B[0;32mNone\u001B[0m\u001B[0;34m)\u001B[0m\u001B[0;34m\u001B[0m\u001B[0;34m\u001B[0m\u001B[0m\n\u001B[0m\u001B[1;32m    412\u001B[0m   \u001B[0mnode\u001B[0m \u001B[0;34m=\u001B[0m \u001B[0mreaching_definitions\u001B[0m\u001B[0;34m.\u001B[0m\u001B[0mresolve\u001B[0m\u001B[0;34m(\u001B[0m\u001B[0mnode\u001B[0m\u001B[0;34m,\u001B[0m \u001B[0mctx\u001B[0m\u001B[0;34m,\u001B[0m \u001B[0mgraphs\u001B[0m\u001B[0;34m)\u001B[0m\u001B[0;34m\u001B[0m\u001B[0;34m\u001B[0m\u001B[0m\n\u001B[1;32m    413\u001B[0m   \u001B[0mnode\u001B[0m \u001B[0;34m=\u001B[0m \u001B[0mreaching_fndefs\u001B[0m\u001B[0;34m.\u001B[0m\u001B[0mresolve\u001B[0m\u001B[0;34m(\u001B[0m\u001B[0mnode\u001B[0m\u001B[0;34m,\u001B[0m \u001B[0mctx\u001B[0m\u001B[0;34m,\u001B[0m \u001B[0mgraphs\u001B[0m\u001B[0;34m)\u001B[0m\u001B[0;34m\u001B[0m\u001B[0;34m\u001B[0m\u001B[0m\n",
      "\u001B[0;32m~/Documents/privet/chickens/object-detection-course/TFODCourse/tfod/lib/python3.9/site-packages/tensorflow/python/autograph/pyct/static_analysis/activity.py\u001B[0m in \u001B[0;36mresolve\u001B[0;34m(node, context, parent_scope)\u001B[0m\n\u001B[1;32m    707\u001B[0m \u001B[0;34m\u001B[0m\u001B[0m\n\u001B[1;32m    708\u001B[0m \u001B[0;32mdef\u001B[0m \u001B[0mresolve\u001B[0m\u001B[0;34m(\u001B[0m\u001B[0mnode\u001B[0m\u001B[0;34m,\u001B[0m \u001B[0mcontext\u001B[0m\u001B[0;34m,\u001B[0m \u001B[0mparent_scope\u001B[0m\u001B[0;34m=\u001B[0m\u001B[0;32mNone\u001B[0m\u001B[0;34m)\u001B[0m\u001B[0;34m:\u001B[0m\u001B[0;34m\u001B[0m\u001B[0;34m\u001B[0m\u001B[0m\n\u001B[0;32m--> 709\u001B[0;31m   \u001B[0;32mreturn\u001B[0m \u001B[0mActivityAnalyzer\u001B[0m\u001B[0;34m(\u001B[0m\u001B[0mcontext\u001B[0m\u001B[0;34m,\u001B[0m \u001B[0mparent_scope\u001B[0m\u001B[0;34m)\u001B[0m\u001B[0;34m.\u001B[0m\u001B[0mvisit\u001B[0m\u001B[0;34m(\u001B[0m\u001B[0mnode\u001B[0m\u001B[0;34m)\u001B[0m\u001B[0;34m\u001B[0m\u001B[0;34m\u001B[0m\u001B[0m\n\u001B[0m",
      "\u001B[0;32m~/Documents/privet/chickens/object-detection-course/TFODCourse/tfod/lib/python3.9/site-packages/tensorflow/python/autograph/pyct/transformer.py\u001B[0m in \u001B[0;36mvisit\u001B[0;34m(self, node)\u001B[0m\n\u001B[1;32m    443\u001B[0m         \u001B[0mentry_expr_value\u001B[0m \u001B[0;34m=\u001B[0m \u001B[0mnode\u001B[0m\u001B[0;34m.\u001B[0m\u001B[0mvalue\u001B[0m\u001B[0;34m\u001B[0m\u001B[0;34m\u001B[0m\u001B[0m\n\u001B[1;32m    444\u001B[0m \u001B[0;34m\u001B[0m\u001B[0m\n\u001B[0;32m--> 445\u001B[0;31m       \u001B[0mresult\u001B[0m \u001B[0;34m=\u001B[0m \u001B[0msuper\u001B[0m\u001B[0;34m(\u001B[0m\u001B[0mBase\u001B[0m\u001B[0;34m,\u001B[0m \u001B[0mself\u001B[0m\u001B[0;34m)\u001B[0m\u001B[0;34m.\u001B[0m\u001B[0mvisit\u001B[0m\u001B[0;34m(\u001B[0m\u001B[0mnode\u001B[0m\u001B[0;34m)\u001B[0m\u001B[0;34m\u001B[0m\u001B[0;34m\u001B[0m\u001B[0m\n\u001B[0m\u001B[1;32m    446\u001B[0m \u001B[0;34m\u001B[0m\u001B[0m\n\u001B[1;32m    447\u001B[0m       \u001B[0;31m# Adjust for consistency: replacing the value of an Expr with\u001B[0m\u001B[0;34m\u001B[0m\u001B[0;34m\u001B[0m\u001B[0m\n",
      "\u001B[0;32m~/miniconda3/lib/python3.9/ast.py\u001B[0m in \u001B[0;36mvisit\u001B[0;34m(self, node)\u001B[0m\n\u001B[1;32m    405\u001B[0m         \u001B[0mmethod\u001B[0m \u001B[0;34m=\u001B[0m \u001B[0;34m'visit_'\u001B[0m \u001B[0;34m+\u001B[0m \u001B[0mnode\u001B[0m\u001B[0;34m.\u001B[0m\u001B[0m__class__\u001B[0m\u001B[0;34m.\u001B[0m\u001B[0m__name__\u001B[0m\u001B[0;34m\u001B[0m\u001B[0;34m\u001B[0m\u001B[0m\n\u001B[1;32m    406\u001B[0m         \u001B[0mvisitor\u001B[0m \u001B[0;34m=\u001B[0m \u001B[0mgetattr\u001B[0m\u001B[0;34m(\u001B[0m\u001B[0mself\u001B[0m\u001B[0;34m,\u001B[0m \u001B[0mmethod\u001B[0m\u001B[0;34m,\u001B[0m \u001B[0mself\u001B[0m\u001B[0;34m.\u001B[0m\u001B[0mgeneric_visit\u001B[0m\u001B[0;34m)\u001B[0m\u001B[0;34m\u001B[0m\u001B[0;34m\u001B[0m\u001B[0m\n\u001B[0;32m--> 407\u001B[0;31m         \u001B[0;32mreturn\u001B[0m \u001B[0mvisitor\u001B[0m\u001B[0;34m(\u001B[0m\u001B[0mnode\u001B[0m\u001B[0;34m)\u001B[0m\u001B[0;34m\u001B[0m\u001B[0;34m\u001B[0m\u001B[0m\n\u001B[0m\u001B[1;32m    408\u001B[0m \u001B[0;34m\u001B[0m\u001B[0m\n\u001B[1;32m    409\u001B[0m     \u001B[0;32mdef\u001B[0m \u001B[0mgeneric_visit\u001B[0m\u001B[0;34m(\u001B[0m\u001B[0mself\u001B[0m\u001B[0;34m,\u001B[0m \u001B[0mnode\u001B[0m\u001B[0;34m)\u001B[0m\u001B[0;34m:\u001B[0m\u001B[0;34m\u001B[0m\u001B[0;34m\u001B[0m\u001B[0m\n",
      "\u001B[0;32m~/Documents/privet/chickens/object-detection-course/TFODCourse/tfod/lib/python3.9/site-packages/tensorflow/python/autograph/pyct/static_analysis/activity.py\u001B[0m in \u001B[0;36mvisit_FunctionDef\u001B[0;34m(self, node)\u001B[0m\n\u001B[1;32m    599\u001B[0m       \u001B[0;31m# be strictly needed.\u001B[0m\u001B[0;34m\u001B[0m\u001B[0;34m\u001B[0m\u001B[0m\n\u001B[1;32m    600\u001B[0m       \u001B[0mself\u001B[0m\u001B[0;34m.\u001B[0m\u001B[0m_enter_scope\u001B[0m\u001B[0;34m(\u001B[0m\u001B[0;32mFalse\u001B[0m\u001B[0;34m,\u001B[0m \u001B[0mnode\u001B[0m\u001B[0;34m.\u001B[0m\u001B[0mname\u001B[0m\u001B[0;34m)\u001B[0m\u001B[0;34m\u001B[0m\u001B[0;34m\u001B[0m\u001B[0m\n\u001B[0;32m--> 601\u001B[0;31m       \u001B[0mnode\u001B[0m\u001B[0;34m.\u001B[0m\u001B[0mbody\u001B[0m \u001B[0;34m=\u001B[0m \u001B[0mself\u001B[0m\u001B[0;34m.\u001B[0m\u001B[0mvisit_block\u001B[0m\u001B[0;34m(\u001B[0m\u001B[0mnode\u001B[0m\u001B[0;34m.\u001B[0m\u001B[0mbody\u001B[0m\u001B[0;34m)\u001B[0m\u001B[0;34m\u001B[0m\u001B[0;34m\u001B[0m\u001B[0m\n\u001B[0m\u001B[1;32m    602\u001B[0m       \u001B[0mself\u001B[0m\u001B[0;34m.\u001B[0m\u001B[0m_exit_and_record_scope\u001B[0m\u001B[0;34m(\u001B[0m\u001B[0mnode\u001B[0m\u001B[0;34m,\u001B[0m \u001B[0mNodeAnno\u001B[0m\u001B[0;34m.\u001B[0m\u001B[0mBODY_SCOPE\u001B[0m\u001B[0;34m)\u001B[0m\u001B[0;34m\u001B[0m\u001B[0;34m\u001B[0m\u001B[0m\n\u001B[1;32m    603\u001B[0m \u001B[0;34m\u001B[0m\u001B[0m\n",
      "\u001B[0;32m~/Documents/privet/chickens/object-detection-course/TFODCourse/tfod/lib/python3.9/site-packages/tensorflow/python/autograph/pyct/transformer.py\u001B[0m in \u001B[0;36mvisit_block\u001B[0;34m(self, nodes, before_visit, after_visit)\u001B[0m\n\u001B[1;32m    338\u001B[0m         \u001B[0mbefore_visit\u001B[0m\u001B[0;34m(\u001B[0m\u001B[0;34m)\u001B[0m\u001B[0;34m\u001B[0m\u001B[0;34m\u001B[0m\u001B[0m\n\u001B[1;32m    339\u001B[0m \u001B[0;34m\u001B[0m\u001B[0m\n\u001B[0;32m--> 340\u001B[0;31m       \u001B[0mreplacement\u001B[0m \u001B[0;34m=\u001B[0m \u001B[0mself\u001B[0m\u001B[0;34m.\u001B[0m\u001B[0mvisit\u001B[0m\u001B[0;34m(\u001B[0m\u001B[0mnode\u001B[0m\u001B[0;34m)\u001B[0m\u001B[0;34m\u001B[0m\u001B[0;34m\u001B[0m\u001B[0m\n\u001B[0m\u001B[1;32m    341\u001B[0m \u001B[0;34m\u001B[0m\u001B[0m\n\u001B[1;32m    342\u001B[0m       \u001B[0;32mif\u001B[0m \u001B[0mafter_visit\u001B[0m \u001B[0;32mand\u001B[0m \u001B[0mreplacement\u001B[0m\u001B[0;34m:\u001B[0m\u001B[0;34m\u001B[0m\u001B[0;34m\u001B[0m\u001B[0m\n",
      "\u001B[0;32m~/Documents/privet/chickens/object-detection-course/TFODCourse/tfod/lib/python3.9/site-packages/tensorflow/python/autograph/pyct/transformer.py\u001B[0m in \u001B[0;36mvisit\u001B[0;34m(self, node)\u001B[0m\n\u001B[1;32m    443\u001B[0m         \u001B[0mentry_expr_value\u001B[0m \u001B[0;34m=\u001B[0m \u001B[0mnode\u001B[0m\u001B[0;34m.\u001B[0m\u001B[0mvalue\u001B[0m\u001B[0;34m\u001B[0m\u001B[0;34m\u001B[0m\u001B[0m\n\u001B[1;32m    444\u001B[0m \u001B[0;34m\u001B[0m\u001B[0m\n\u001B[0;32m--> 445\u001B[0;31m       \u001B[0mresult\u001B[0m \u001B[0;34m=\u001B[0m \u001B[0msuper\u001B[0m\u001B[0;34m(\u001B[0m\u001B[0mBase\u001B[0m\u001B[0;34m,\u001B[0m \u001B[0mself\u001B[0m\u001B[0;34m)\u001B[0m\u001B[0;34m.\u001B[0m\u001B[0mvisit\u001B[0m\u001B[0;34m(\u001B[0m\u001B[0mnode\u001B[0m\u001B[0;34m)\u001B[0m\u001B[0;34m\u001B[0m\u001B[0;34m\u001B[0m\u001B[0m\n\u001B[0m\u001B[1;32m    446\u001B[0m \u001B[0;34m\u001B[0m\u001B[0m\n\u001B[1;32m    447\u001B[0m       \u001B[0;31m# Adjust for consistency: replacing the value of an Expr with\u001B[0m\u001B[0;34m\u001B[0m\u001B[0;34m\u001B[0m\u001B[0m\n",
      "\u001B[0;32m~/miniconda3/lib/python3.9/ast.py\u001B[0m in \u001B[0;36mvisit\u001B[0;34m(self, node)\u001B[0m\n\u001B[1;32m    405\u001B[0m         \u001B[0mmethod\u001B[0m \u001B[0;34m=\u001B[0m \u001B[0;34m'visit_'\u001B[0m \u001B[0;34m+\u001B[0m \u001B[0mnode\u001B[0m\u001B[0;34m.\u001B[0m\u001B[0m__class__\u001B[0m\u001B[0;34m.\u001B[0m\u001B[0m__name__\u001B[0m\u001B[0;34m\u001B[0m\u001B[0;34m\u001B[0m\u001B[0m\n\u001B[1;32m    406\u001B[0m         \u001B[0mvisitor\u001B[0m \u001B[0;34m=\u001B[0m \u001B[0mgetattr\u001B[0m\u001B[0;34m(\u001B[0m\u001B[0mself\u001B[0m\u001B[0;34m,\u001B[0m \u001B[0mmethod\u001B[0m\u001B[0;34m,\u001B[0m \u001B[0mself\u001B[0m\u001B[0;34m.\u001B[0m\u001B[0mgeneric_visit\u001B[0m\u001B[0;34m)\u001B[0m\u001B[0;34m\u001B[0m\u001B[0;34m\u001B[0m\u001B[0m\n\u001B[0;32m--> 407\u001B[0;31m         \u001B[0;32mreturn\u001B[0m \u001B[0mvisitor\u001B[0m\u001B[0;34m(\u001B[0m\u001B[0mnode\u001B[0m\u001B[0;34m)\u001B[0m\u001B[0;34m\u001B[0m\u001B[0;34m\u001B[0m\u001B[0m\n\u001B[0m\u001B[1;32m    408\u001B[0m \u001B[0;34m\u001B[0m\u001B[0m\n\u001B[1;32m    409\u001B[0m     \u001B[0;32mdef\u001B[0m \u001B[0mgeneric_visit\u001B[0m\u001B[0;34m(\u001B[0m\u001B[0mself\u001B[0m\u001B[0;34m,\u001B[0m \u001B[0mnode\u001B[0m\u001B[0;34m)\u001B[0m\u001B[0;34m:\u001B[0m\u001B[0;34m\u001B[0m\u001B[0;34m\u001B[0m\u001B[0m\n",
      "\u001B[0;32m~/Documents/privet/chickens/object-detection-course/TFODCourse/tfod/lib/python3.9/site-packages/tensorflow/python/autograph/pyct/static_analysis/activity.py\u001B[0m in \u001B[0;36mvisit_With\u001B[0;34m(self, node)\u001B[0m\n\u001B[1;32m    648\u001B[0m \u001B[0;34m\u001B[0m\u001B[0m\n\u001B[1;32m    649\u001B[0m   \u001B[0;32mdef\u001B[0m \u001B[0mvisit_With\u001B[0m\u001B[0;34m(\u001B[0m\u001B[0mself\u001B[0m\u001B[0;34m,\u001B[0m \u001B[0mnode\u001B[0m\u001B[0;34m)\u001B[0m\u001B[0;34m:\u001B[0m\u001B[0;34m\u001B[0m\u001B[0;34m\u001B[0m\u001B[0m\n\u001B[0;32m--> 650\u001B[0;31m     \u001B[0mself\u001B[0m\u001B[0;34m.\u001B[0m\u001B[0m_enter_scope\u001B[0m\u001B[0;34m(\u001B[0m\u001B[0;32mFalse\u001B[0m\u001B[0;34m)\u001B[0m\u001B[0;34m\u001B[0m\u001B[0;34m\u001B[0m\u001B[0m\n\u001B[0m\u001B[1;32m    651\u001B[0m     \u001B[0mnode\u001B[0m \u001B[0;34m=\u001B[0m \u001B[0mself\u001B[0m\u001B[0;34m.\u001B[0m\u001B[0mgeneric_visit\u001B[0m\u001B[0;34m(\u001B[0m\u001B[0mnode\u001B[0m\u001B[0;34m)\u001B[0m\u001B[0;34m\u001B[0m\u001B[0;34m\u001B[0m\u001B[0m\n\u001B[1;32m    652\u001B[0m     \u001B[0mself\u001B[0m\u001B[0;34m.\u001B[0m\u001B[0m_exit_and_record_scope\u001B[0m\u001B[0;34m(\u001B[0m\u001B[0mnode\u001B[0m\u001B[0;34m,\u001B[0m \u001B[0mNodeAnno\u001B[0m\u001B[0;34m.\u001B[0m\u001B[0mBODY_SCOPE\u001B[0m\u001B[0;34m)\u001B[0m\u001B[0;34m\u001B[0m\u001B[0;34m\u001B[0m\u001B[0m\n",
      "\u001B[0;32m~/Documents/privet/chickens/object-detection-course/TFODCourse/tfod/lib/python3.9/site-packages/tensorflow/python/autograph/pyct/static_analysis/activity.py\u001B[0m in \u001B[0;36m_enter_scope\u001B[0;34m(self, isolated, f_name)\u001B[0m\n\u001B[1;32m    327\u001B[0m \u001B[0;34m\u001B[0m\u001B[0m\n\u001B[1;32m    328\u001B[0m   \u001B[0;32mdef\u001B[0m \u001B[0m_enter_scope\u001B[0m\u001B[0;34m(\u001B[0m\u001B[0mself\u001B[0m\u001B[0;34m,\u001B[0m \u001B[0misolated\u001B[0m\u001B[0;34m,\u001B[0m \u001B[0mf_name\u001B[0m\u001B[0;34m=\u001B[0m\u001B[0;32mNone\u001B[0m\u001B[0;34m)\u001B[0m\u001B[0;34m:\u001B[0m\u001B[0;34m\u001B[0m\u001B[0;34m\u001B[0m\u001B[0m\n\u001B[0;32m--> 329\u001B[0;31m     \u001B[0mself\u001B[0m\u001B[0;34m.\u001B[0m\u001B[0mscope\u001B[0m \u001B[0;34m=\u001B[0m \u001B[0mScope\u001B[0m\u001B[0;34m(\u001B[0m\u001B[0mself\u001B[0m\u001B[0;34m.\u001B[0m\u001B[0mscope\u001B[0m\u001B[0;34m,\u001B[0m \u001B[0misolated\u001B[0m\u001B[0;34m=\u001B[0m\u001B[0misolated\u001B[0m\u001B[0;34m,\u001B[0m \u001B[0mfunction_name\u001B[0m\u001B[0;34m=\u001B[0m\u001B[0mf_name\u001B[0m\u001B[0;34m)\u001B[0m\u001B[0;34m\u001B[0m\u001B[0;34m\u001B[0m\u001B[0m\n\u001B[0m\u001B[1;32m    330\u001B[0m \u001B[0;34m\u001B[0m\u001B[0m\n\u001B[1;32m    331\u001B[0m   \u001B[0;32mdef\u001B[0m \u001B[0m_exit_scope\u001B[0m\u001B[0;34m(\u001B[0m\u001B[0mself\u001B[0m\u001B[0;34m)\u001B[0m\u001B[0;34m:\u001B[0m\u001B[0;34m\u001B[0m\u001B[0;34m\u001B[0m\u001B[0m\n",
      "\u001B[0;32m~/Documents/privet/chickens/object-detection-course/TFODCourse/tfod/lib/python3.9/site-packages/tensorflow/python/autograph/pyct/static_analysis/activity.py\u001B[0m in \u001B[0;36m__init__\u001B[0;34m(self, parent, isolated, function_name)\u001B[0m\n\u001B[1;32m    121\u001B[0m     \u001B[0mself\u001B[0m\u001B[0;34m.\u001B[0m\u001B[0mannotations\u001B[0m \u001B[0;34m=\u001B[0m \u001B[0mset\u001B[0m\u001B[0;34m(\u001B[0m\u001B[0;34m)\u001B[0m\u001B[0;34m\u001B[0m\u001B[0;34m\u001B[0m\u001B[0m\n\u001B[1;32m    122\u001B[0m \u001B[0;34m\u001B[0m\u001B[0m\n\u001B[0;32m--> 123\u001B[0;31m     \u001B[0mself\u001B[0m\u001B[0;34m.\u001B[0m\u001B[0mparams\u001B[0m \u001B[0;34m=\u001B[0m \u001B[0mweakref\u001B[0m\u001B[0;34m.\u001B[0m\u001B[0mWeakValueDictionary\u001B[0m\u001B[0;34m(\u001B[0m\u001B[0;34m)\u001B[0m\u001B[0;34m\u001B[0m\u001B[0;34m\u001B[0m\u001B[0m\n\u001B[0m\u001B[1;32m    124\u001B[0m \u001B[0;34m\u001B[0m\u001B[0m\n\u001B[1;32m    125\u001B[0m     \u001B[0;31m# Certain fields can only be accessed after the scope and all its parent\u001B[0m\u001B[0;34m\u001B[0m\u001B[0;34m\u001B[0m\u001B[0m\n",
      "\u001B[0;32m~/miniconda3/lib/python3.9/weakref.py\u001B[0m in \u001B[0;36m__init__\u001B[0;34m(self, other, **kw)\u001B[0m\n\u001B[1;32m    118\u001B[0m         \u001B[0mself\u001B[0m\u001B[0;34m.\u001B[0m\u001B[0m_iterating\u001B[0m \u001B[0;34m=\u001B[0m \u001B[0mset\u001B[0m\u001B[0;34m(\u001B[0m\u001B[0;34m)\u001B[0m\u001B[0;34m\u001B[0m\u001B[0;34m\u001B[0m\u001B[0m\n\u001B[1;32m    119\u001B[0m         \u001B[0mself\u001B[0m\u001B[0;34m.\u001B[0m\u001B[0mdata\u001B[0m \u001B[0;34m=\u001B[0m \u001B[0;34m{\u001B[0m\u001B[0;34m}\u001B[0m\u001B[0;34m\u001B[0m\u001B[0;34m\u001B[0m\u001B[0m\n\u001B[0;32m--> 120\u001B[0;31m         \u001B[0mself\u001B[0m\u001B[0;34m.\u001B[0m\u001B[0mupdate\u001B[0m\u001B[0;34m(\u001B[0m\u001B[0mother\u001B[0m\u001B[0;34m,\u001B[0m \u001B[0;34m**\u001B[0m\u001B[0mkw\u001B[0m\u001B[0;34m)\u001B[0m\u001B[0;34m\u001B[0m\u001B[0;34m\u001B[0m\u001B[0m\n\u001B[0m\u001B[1;32m    121\u001B[0m \u001B[0;34m\u001B[0m\u001B[0m\n\u001B[1;32m    122\u001B[0m     \u001B[0;32mdef\u001B[0m \u001B[0m_commit_removals\u001B[0m\u001B[0;34m(\u001B[0m\u001B[0mself\u001B[0m\u001B[0;34m,\u001B[0m \u001B[0m_atomic_removal\u001B[0m\u001B[0;34m=\u001B[0m\u001B[0m_remove_dead_weakref\u001B[0m\u001B[0;34m)\u001B[0m\u001B[0;34m:\u001B[0m\u001B[0;34m\u001B[0m\u001B[0;34m\u001B[0m\u001B[0m\n",
      "\u001B[0;32m~/miniconda3/lib/python3.9/weakref.py\u001B[0m in \u001B[0;36mupdate\u001B[0;34m(self, other, **kwargs)\u001B[0m\n\u001B[1;32m    294\u001B[0m         \u001B[0;32mif\u001B[0m \u001B[0mother\u001B[0m \u001B[0;32mis\u001B[0m \u001B[0;32mnot\u001B[0m \u001B[0;32mNone\u001B[0m\u001B[0;34m:\u001B[0m\u001B[0;34m\u001B[0m\u001B[0;34m\u001B[0m\u001B[0m\n\u001B[1;32m    295\u001B[0m             \u001B[0;32mif\u001B[0m \u001B[0;32mnot\u001B[0m \u001B[0mhasattr\u001B[0m\u001B[0;34m(\u001B[0m\u001B[0mother\u001B[0m\u001B[0;34m,\u001B[0m \u001B[0;34m\"items\"\u001B[0m\u001B[0;34m)\u001B[0m\u001B[0;34m:\u001B[0m\u001B[0;34m\u001B[0m\u001B[0;34m\u001B[0m\u001B[0m\n\u001B[0;32m--> 296\u001B[0;31m                 \u001B[0mother\u001B[0m \u001B[0;34m=\u001B[0m \u001B[0mdict\u001B[0m\u001B[0;34m(\u001B[0m\u001B[0mother\u001B[0m\u001B[0;34m)\u001B[0m\u001B[0;34m\u001B[0m\u001B[0;34m\u001B[0m\u001B[0m\n\u001B[0m\u001B[1;32m    297\u001B[0m             \u001B[0;32mfor\u001B[0m \u001B[0mkey\u001B[0m\u001B[0;34m,\u001B[0m \u001B[0mo\u001B[0m \u001B[0;32min\u001B[0m \u001B[0mother\u001B[0m\u001B[0;34m.\u001B[0m\u001B[0mitems\u001B[0m\u001B[0;34m(\u001B[0m\u001B[0;34m)\u001B[0m\u001B[0;34m:\u001B[0m\u001B[0;34m\u001B[0m\u001B[0;34m\u001B[0m\u001B[0m\n\u001B[1;32m    298\u001B[0m                 \u001B[0md\u001B[0m\u001B[0;34m[\u001B[0m\u001B[0mkey\u001B[0m\u001B[0;34m]\u001B[0m \u001B[0;34m=\u001B[0m \u001B[0mKeyedRef\u001B[0m\u001B[0;34m(\u001B[0m\u001B[0mo\u001B[0m\u001B[0;34m,\u001B[0m \u001B[0mself\u001B[0m\u001B[0;34m.\u001B[0m\u001B[0m_remove\u001B[0m\u001B[0;34m,\u001B[0m \u001B[0mkey\u001B[0m\u001B[0;34m)\u001B[0m\u001B[0;34m\u001B[0m\u001B[0;34m\u001B[0m\u001B[0m\n",
      "\u001B[0;31mKeyboardInterrupt\u001B[0m: "
     ]
    }
   ],
   "source": [
    "tflrazi.detect_video(path = 'Tensorflow/workspace/Videos/Drinking-slow-motion.mp4', \n",
    "                output_path = 'Tensorflow/workspace/Videos/counter.mp4')"
   ]
  },
  {
   "cell_type": "code",
   "execution_count": 11,
   "metadata": {
    "scrolled": true
   },
   "outputs": [
    {
     "name": "stderr",
     "output_type": "stream",
     "text": [
      "2022-01-30 07:54:17.396917: I tensorflow/compiler/mlir/mlir_graph_optimization_pass.cc:185] None of the MLIR Optimization Passes are enabled (registered 2)\n"
     ]
    }
   ],
   "source": [
    "detect_video(path = 'Tensorflow/workspace/Videos/2022-01-25-18-51-04.mp4', \n",
    "                    output_path = 'Tensorflow/workspace/Videos/2022-01-25-18-51-04_22.mp4')"
   ]
  },
  {
   "cell_type": "code",
   "execution_count": 9,
   "metadata": {},
   "outputs": [],
   "source": [
    "# Specify model imports\n",
    "from object_detection.builders import model_builder\n",
    "from object_detection.utils import config_util\n",
    "from object_detection.utils import label_map_util\n",
    "from object_detection.utils import visualization_utils as viz_utils\n",
    "import cv2\n",
    "import numpy as np\n",
    "import os\n",
    "import tensorflow as tf\n",
    "from collections import Counter\n",
    "# tf.config.run_functions_eagerly(True)\n",
    "from tensorflow.python.ops.numpy_ops import np_config\n",
    "import matplotlib.pyplot as plt\n",
    "import numpy as np\n",
    "import cv2\n",
    "import matplotlib.pyplot as plt\n",
    "import matplotlib\n",
    "plt.style.use('ggplot')\n",
    "\n",
    "np_config.enable_numpy_behavior()\n",
    "\n",
    "# Disable GPU if necessary\n",
    "os.environ['CUDA_VISIBLE_DEVICES'] = '-1'\n",
    "\n",
    "detect = tflrazi.detect"
   ]
  },
  {
   "cell_type": "code",
   "execution_count": 14,
   "metadata": {},
   "outputs": [],
   "source": [
    "def detect_video( path, output_path):\n",
    "    matplotlib.use('TkAgg')\n",
    "\n",
    "\n",
    "    plt.style.use('seaborn-dark-palette')\n",
    "    \n",
    "\n",
    "    fig = plt.figure()\n",
    "    cap = cv2.VideoCapture(path)\n",
    "    ret, frame = cap.read()\n",
    "    if cap.isOpened():\n",
    "        print('isOpened')\n",
    "        width = cap.get(cv2.CAP_PROP_FRAME_WIDTH)  # float `width`\n",
    "        height = cap.get(cv2.CAP_PROP_FRAME_HEIGHT)  # float `height\n",
    "        print(width, height)\n",
    "    fourcc = cv2.VideoWriter_fourcc(*'mp4v')\n",
    "\n",
    "    out = cv2.VideoWriter(output_path, fourcc, 25.0, (int(width) * 2, int(height)))\n",
    "\n",
    "    fps = cap.get(cv2.CAP_PROP_FPS)  # OpenCV2 version 2 used \"CV_CAP_PROP_FPS\"\n",
    "    frame_count = int(cap.get(cv2.CAP_PROP_FRAME_COUNT))\n",
    "\n",
    "\n",
    "    b = int(frame_count) \n",
    "    x1 = np.array(range(b))\n",
    "    x2 = np.linspace(0.0, 2.0)\n",
    "\n",
    "    y1 = np.array(range(b)) * 0\n",
    "    y1[0] = 10\n",
    "    y2 = np.cos(2 * np.pi * x2)\n",
    "\n",
    "    line1, = plt.plot(x1, y1, 'ko-')  # so that we can update data later\n",
    "    y1 = x1 * 0\n",
    "    i = 0 \n",
    "    while ret:\n",
    "        i+=1\n",
    "        frame,drinking,eating,standing,laying  = detect(frame)\n",
    "\n",
    "        # display camera feed\n",
    "        # update data\n",
    "        y1[i] = drinking\n",
    "\n",
    "        line1.set_ydata(y1)\n",
    "\n",
    "        # redraw the canvas\n",
    "        fig.canvas.draw()\n",
    "\n",
    "        # convert canvas to image\n",
    "        img = np.fromstring(fig.canvas.tostring_rgb(), dtype=np.uint8,\n",
    "                            sep='')\n",
    "        img = img.reshape(fig.canvas.get_width_height()[::-1] + (3,))\n",
    "        \n",
    "        width = int(frame.shape[1])\n",
    "        height = int(frame.shape[0])\n",
    "        dim = (width, height)\n",
    "        img = cv2.resize(img, dim, interpolation=cv2.INTER_AREA)\n",
    "        # img is rgb, convert to opencv's default bgr\n",
    "        img = cv2.cvtColor(img, cv2.COLOR_RGB2BGR)\n",
    "\n",
    "        numpy_horizontal = np.hstack((img, frame))\n",
    "        out.write(numpy_horizontal)\n",
    "\n",
    "#         print(numpy_horizontal.shape)\n",
    "        # display image with opencv or any operation you like\n",
    "        cv2.imshow(\"plot\", numpy_horizontal)\n",
    "\n",
    "        ####\n",
    "        ret, frame = cap.read()\n",
    "\n",
    "\n",
    "        k = cv2.waitKey(33) & 0xFF\n",
    "        if k == 27:\n",
    "            break\n",
    "    out.release()\n"
   ]
  },
  {
   "cell_type": "code",
   "execution_count": null,
   "metadata": {},
   "outputs": [],
   "source": [
    "b"
   ]
  },
  {
   "cell_type": "code",
   "execution_count": 10,
   "metadata": {},
   "outputs": [],
   "source": [
    "def detect_video( path, output_path):\n",
    "    # Layout\n",
    "#     matplotlib.use('TkAgg')\n",
    "#     plt.style.use('seaborn-dark-palette')\n",
    "#     import mplcyberpunk\n",
    "\n",
    "#     plt.style.use(\"cyberpunk\")\n",
    "#     mplcyberpunk.add_glow_effects()\n",
    "\n",
    "#     mplcyberpunk.add_underglow()\n",
    "\n",
    "#     fig, axs = plt.subplots(2, 2,sharex='col', sharey='row')\n",
    "#     (ax1, ax2) = axs[0,0], axs[1,1] \n",
    "# #     fig2, ax2 = plt.subplots()\n",
    "\n",
    "    cap = cv2.VideoCapture(path)\n",
    "    ret, frame = cap.read()\n",
    "    \n",
    "    # Get frames shpap\n",
    "    if cap.isOpened():\n",
    "        width = int(cap.get(cv2.CAP_PROP_FRAME_WIDTH))\n",
    "        height = int(cap.get(cv2.CAP_PROP_FRAME_HEIGHT))\n",
    "        \n",
    "    # write detected video setups \n",
    "    fourcc = cv2.VideoWriter_fourcc(*'mp4v')\n",
    "    out = cv2.VideoWriter(output_path, fourcc, 25.0, (int(width) * 2, int(height)))\n",
    "\n",
    "#     # Get number of frames \n",
    "#     frame_count = int(cap.get(cv2.CAP_PROP_FRAME_COUNT))\n",
    "\n",
    "\n",
    "#     b = int(frame_count) \n",
    "#     x = np.array(range(b))\n",
    "\n",
    "#     y = np.array(range(b)) * 0\n",
    "#     y[0] = 10\n",
    "\n",
    "#     line11, = ax1.plot(x, y,  marker='o')  # so that we can update data later\n",
    "#     line12, = ax1.plot(x, y,  marker='o' )\n",
    "    \n",
    "#     line21, = ax2.plot(x, y,  marker='o')  # so that we can update data later\n",
    "#     line22, = ax2.plot(x, y,  marker='o' )\n",
    "    \n",
    "#     fig.legend((line11, line12), ('Drinking', 'Moving average'), 'upper left')\n",
    "#     fig.legend((line21, line22), ('Eating', 'Moving average'), 'lower right')\n",
    "\n",
    "    \n",
    "#     y = x * 0\n",
    "#     y_mean = x * 0\n",
    "#     y2 = x * 0\n",
    "#     y_mean2 = x * 0\n",
    "    \n",
    "    i = 0 \n",
    "    while ret:\n",
    "        i+=1\n",
    "        frame,drinking,eating,standing,laying = detect(frame)\n",
    "\n",
    "#         display camera feed\n",
    "#         update data\n",
    "#         y[i] = drinking\n",
    "        \n",
    "#         a =15\n",
    "#         y_mean[i] = drinking if i < a else y[i-a:i].mean()\n",
    "#         line11.set_ydata(y[:])\n",
    "#         line12.set_ydata(y_mean)\n",
    "        \n",
    "#         y2[i] = eating\n",
    "#         y_mean2[i] = eating if i < a else y2[i-a:i].mean()\n",
    "#         line21.set_ydata(y2[:])\n",
    "#         line22.set_ydata(y_mean2)\n",
    "\n",
    "#         # redraw the canvas\n",
    "#         fig.canvas.draw()\n",
    "\n",
    "#         # convert canvas to image\n",
    "#         img = np.fromstring(fig.canvas.tostring_rgb(), dtype=np.uint8,  sep='')\n",
    "#         img = img.reshape(fig.canvas.get_width_height()[::-1] + (3,))\n",
    "        \n",
    "#         # Resize plot to be the frame shape\n",
    "#         dim = (width, height)\n",
    "#         img = cv2.resize(img, dim, interpolation=cv2.INTER_AREA)\n",
    "        \n",
    "#         # img is rgb, convert to opencv's default bgr\n",
    "#         img = cv2.cvtColor(img, cv2.COLOR_RGB2BGR)\n",
    "        \n",
    "#         # Merged frame and plot pixles metrixs \n",
    "#         numpy_horizontal = np.vstack((img, frame))\n",
    "\n",
    "        \n",
    "        out.write(frame)\n",
    "\n",
    "        #  print(numpy_horizontal.shape)\n",
    "        \n",
    "        # display image with opencv or any operation you like\n",
    "        cv2.imshow(\"image\", frame)\n",
    "        \n",
    "        # Read next frame\n",
    "        ret, frame = cap.read()\n",
    "\n",
    "        k = cv2.waitKey(33) & 0xFF\n",
    "        if k == 27:\n",
    "            break\n",
    "            \n",
    "    out.release()\n",
    "\n"
   ]
  },
  {
   "cell_type": "code",
   "execution_count": null,
   "metadata": {},
   "outputs": [],
   "source": []
  }
 ],
 "metadata": {
  "accelerator": "GPU",
  "colab": {
   "name": "3. Training and Detection.ipynb",
   "provenance": []
  },
  "kernelspec": {
   "display_name": "tfod",
   "language": "python",
   "name": "tfod"
  },
  "language_info": {
   "codemirror_mode": {
    "name": "ipython",
    "version": 3
   },
   "file_extension": ".py",
   "mimetype": "text/x-python",
   "name": "python",
   "nbconvert_exporter": "python",
   "pygments_lexer": "ipython3",
   "version": "3.9.7"
  }
 },
 "nbformat": 4,
 "nbformat_minor": 1
}